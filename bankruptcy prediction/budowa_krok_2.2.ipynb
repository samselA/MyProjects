{
 "cells": [
  {
   "cell_type": "code",
   "execution_count": 1,
   "id": "initial_id",
   "metadata": {
    "collapsed": true,
    "ExecuteTime": {
     "end_time": "2024-04-21T15:12:57.184386200Z",
     "start_time": "2024-04-21T15:12:51.454081700Z"
    }
   },
   "outputs": [],
   "source": [
    "import pandas as pd\n",
    "import numpy as np\n",
    "\n",
    "from sklearn.neighbors import KNeighborsClassifier\n",
    "from sklearn import feature_selection\n",
    "from sklearn.preprocessing import StandardScaler\n",
    "from sklearn.linear_model import LogisticRegression\n",
    "from sklearn.ensemble import RandomForestClassifier\n",
    "\n",
    "from scipy import stats\n",
    "from feature_engine.selection import SelectBySingleFeaturePerformance"
   ]
  },
  {
   "cell_type": "code",
   "execution_count": 2,
   "outputs": [],
   "source": [
    "df = pd.read_csv('dev_train.csv')\n",
    "df = df[df.columns[2:]]\n",
    "df.columns = [i.strip() for i in df.columns]"
   ],
   "metadata": {
    "collapsed": false,
    "ExecuteTime": {
     "end_time": "2024-04-21T15:13:10.353403700Z",
     "start_time": "2024-04-21T15:13:10.268144Z"
    }
   },
   "id": "d28ef247d9930c52"
  },
  {
   "cell_type": "code",
   "execution_count": 3,
   "outputs": [],
   "source": [
    "y = df[df.columns[0]]\n",
    "X = df[df.columns[1:]]"
   ],
   "metadata": {
    "collapsed": false,
    "ExecuteTime": {
     "end_time": "2024-04-21T15:13:11.035875800Z",
     "start_time": "2024-04-21T15:13:11.011406900Z"
    }
   },
   "id": "64c7338ca0cf527e"
  },
  {
   "cell_type": "code",
   "execution_count": 4,
   "outputs": [
    {
     "data": {
      "text/plain": "      ROA(C) before interest and depreciation before interest  \\\n0                                              0.600741         \n1                                              0.480183         \n2                                              0.541413         \n3                                              0.462341         \n4                                              0.522547         \n...                                                 ...         \n3336                                           0.493199         \n3337                                           0.503924         \n3338                                           0.579681         \n3339                                           0.526057         \n3340                                           0.487788         \n\n      ROA(A) before interest and % after tax  \\\n0                                   0.673626   \n1                                   0.545028   \n2                                   0.615733   \n3                                   0.523877   \n4                                   0.583679   \n...                                      ...   \n3336                                0.534289   \n3337                                0.546282   \n3338                                0.632523   \n3339                                0.601068   \n3340                                0.560783   \n\n      ROA(B) before interest and depreciation after tax  \\\n0                                              0.670432   \n1                                              0.531345   \n2                                              0.601585   \n3                                              0.512126   \n4                                              0.565555   \n...                                                 ...   \n3336                                           0.539590   \n3337                                           0.556614   \n3338                                           0.620322   \n3339                                           0.575673   \n3340                                           0.543230   \n\n      Operating Gross Margin  Realized Sales Gross Margin  \\\n0                   0.615525                     0.614977   \n1                   0.600902                     0.600902   \n2                   0.605169                     0.605169   \n3                   0.601962                     0.602538   \n4                   0.603554                     0.603554   \n...                      ...                          ...   \n3336                0.610437                     0.610437   \n3337                0.602581                     0.602581   \n3338                0.644215                     0.644215   \n3339                0.609024                     0.609089   \n3340                0.600290                     0.600290   \n\n      Operating Profit Rate  Pre-tax net Interest Rate  \\\n0                  0.999207                   0.798059   \n1                  0.999035                   0.797417   \n2                  0.999069                   0.797515   \n3                  0.998969                   0.797255   \n4                  0.999061                   0.797494   \n...                     ...                        ...   \n3336               0.998955                   0.797399   \n3337               0.998977                   0.797407   \n3338               0.999297                   0.797949   \n3339               0.999132                   0.797810   \n3340               0.998680                   0.798059   \n\n      After-tax net Interest Rate  \\\n0                        0.809964   \n1                        0.809330   \n2                        0.809434   \n3                        0.809172   \n4                        0.809387   \n...                           ...   \n3336                     0.809320   \n3337                     0.809349   \n3338                     0.809750   \n3339                     0.809665   \n3340                     0.809965   \n\n      Non-industry income and expenditure/revenue  \\\n0                                        0.304196   \n1                                        0.303434   \n2                                        0.303536   \n3                                        0.303291   \n4                                        0.303515   \n...                                           ...   \n3336                                     0.303570   \n3337                                     0.303537   \n3338                                     0.303816   \n3339                                     0.303919   \n3340                                     0.305298   \n\n      Continuous interest rate (after tax)  ...  Net Income to Total Assets  \\\n0                                 0.782286  ...                    0.868946   \n1                                 0.781602  ...                    0.799502   \n2                                 0.781702  ...                    0.843483   \n3                                 0.781481  ...                    0.791869   \n4                                 0.781648  ...                    0.822404   \n...                                    ...  ...                         ...   \n3336                              0.781578  ...                    0.796847   \n3337                              0.781623  ...                    0.804379   \n3338                              0.782045  ...                    0.840079   \n3339                              0.781883  ...                    0.837170   \n3340                              0.782274  ...                    0.814199   \n\n      Total assets to GNP price  No-credit Interval  Gross Profit to Sales  \\\n0                      0.007478            0.624790               0.615520   \n1                      0.006413            0.622152               0.600904   \n2                      0.000319            0.624424               0.605167   \n3                      0.006227            0.623493               0.601958   \n4                      0.001205            0.624300               0.603550   \n...                         ...                 ...                    ...   \n3336                   0.001590            0.622744               0.610433   \n3337                   0.005958            0.623137               0.602576   \n3338                   0.000716            0.624140               0.644214   \n3339                   0.012565            0.623716               0.609020   \n3340                   0.000819            0.623842               0.600288   \n\n      Net Income to Stockholder's Equity  Liability to Equity  \\\n0                               0.844167             0.276214   \n1                               0.840529             0.287872   \n2                               0.842898             0.276730   \n3                               0.839785             0.277092   \n4                               0.842597             0.281994   \n...                                  ...                  ...   \n3336                            0.840095             0.276779   \n3337                            0.840829             0.281551   \n3338                            0.843738             0.280141   \n3339                            0.842199             0.275613   \n3340                            0.840908             0.274917   \n\n      Degree of Financial Leverage (DFL)  \\\n0                               0.026791   \n1                               0.028049   \n2                               0.026791   \n3                               0.026425   \n4                               0.026928   \n...                                  ...   \n3336                            0.028218   \n3337                            0.027089   \n3338                            0.026801   \n3339                            0.026802   \n3340                            0.026796   \n\n      Interest Coverage Ratio (Interest expense to EBIT)  Net Income Flag  \\\n0                                              0.565159                 1   \n1                                              0.567897                 1   \n2                                              0.565158                 1   \n3                                              0.562485                 1   \n4                                              0.565734                 1   \n...                                                 ...               ...   \n3336                                           0.568053                 1   \n3337                                           0.566265                 1   \n3338                                           0.565204                 1   \n3339                                           0.565211                 1   \n3340                                           0.565183                 1   \n\n      Equity to Liability  \n0                0.073384  \n1                0.017570  \n2                0.057494  \n3                0.050382  \n4                0.023469  \n...                   ...  \n3336             0.056379  \n3337             0.024324  \n3338             0.027962  \n3339             0.114083  \n3340             0.420566  \n\n[3341 rows x 95 columns]",
      "text/html": "<div>\n<style scoped>\n    .dataframe tbody tr th:only-of-type {\n        vertical-align: middle;\n    }\n\n    .dataframe tbody tr th {\n        vertical-align: top;\n    }\n\n    .dataframe thead th {\n        text-align: right;\n    }\n</style>\n<table border=\"1\" class=\"dataframe\">\n  <thead>\n    <tr style=\"text-align: right;\">\n      <th></th>\n      <th>ROA(C) before interest and depreciation before interest</th>\n      <th>ROA(A) before interest and % after tax</th>\n      <th>ROA(B) before interest and depreciation after tax</th>\n      <th>Operating Gross Margin</th>\n      <th>Realized Sales Gross Margin</th>\n      <th>Operating Profit Rate</th>\n      <th>Pre-tax net Interest Rate</th>\n      <th>After-tax net Interest Rate</th>\n      <th>Non-industry income and expenditure/revenue</th>\n      <th>Continuous interest rate (after tax)</th>\n      <th>...</th>\n      <th>Net Income to Total Assets</th>\n      <th>Total assets to GNP price</th>\n      <th>No-credit Interval</th>\n      <th>Gross Profit to Sales</th>\n      <th>Net Income to Stockholder's Equity</th>\n      <th>Liability to Equity</th>\n      <th>Degree of Financial Leverage (DFL)</th>\n      <th>Interest Coverage Ratio (Interest expense to EBIT)</th>\n      <th>Net Income Flag</th>\n      <th>Equity to Liability</th>\n    </tr>\n  </thead>\n  <tbody>\n    <tr>\n      <th>0</th>\n      <td>0.600741</td>\n      <td>0.673626</td>\n      <td>0.670432</td>\n      <td>0.615525</td>\n      <td>0.614977</td>\n      <td>0.999207</td>\n      <td>0.798059</td>\n      <td>0.809964</td>\n      <td>0.304196</td>\n      <td>0.782286</td>\n      <td>...</td>\n      <td>0.868946</td>\n      <td>0.007478</td>\n      <td>0.624790</td>\n      <td>0.615520</td>\n      <td>0.844167</td>\n      <td>0.276214</td>\n      <td>0.026791</td>\n      <td>0.565159</td>\n      <td>1</td>\n      <td>0.073384</td>\n    </tr>\n    <tr>\n      <th>1</th>\n      <td>0.480183</td>\n      <td>0.545028</td>\n      <td>0.531345</td>\n      <td>0.600902</td>\n      <td>0.600902</td>\n      <td>0.999035</td>\n      <td>0.797417</td>\n      <td>0.809330</td>\n      <td>0.303434</td>\n      <td>0.781602</td>\n      <td>...</td>\n      <td>0.799502</td>\n      <td>0.006413</td>\n      <td>0.622152</td>\n      <td>0.600904</td>\n      <td>0.840529</td>\n      <td>0.287872</td>\n      <td>0.028049</td>\n      <td>0.567897</td>\n      <td>1</td>\n      <td>0.017570</td>\n    </tr>\n    <tr>\n      <th>2</th>\n      <td>0.541413</td>\n      <td>0.615733</td>\n      <td>0.601585</td>\n      <td>0.605169</td>\n      <td>0.605169</td>\n      <td>0.999069</td>\n      <td>0.797515</td>\n      <td>0.809434</td>\n      <td>0.303536</td>\n      <td>0.781702</td>\n      <td>...</td>\n      <td>0.843483</td>\n      <td>0.000319</td>\n      <td>0.624424</td>\n      <td>0.605167</td>\n      <td>0.842898</td>\n      <td>0.276730</td>\n      <td>0.026791</td>\n      <td>0.565158</td>\n      <td>1</td>\n      <td>0.057494</td>\n    </tr>\n    <tr>\n      <th>3</th>\n      <td>0.462341</td>\n      <td>0.523877</td>\n      <td>0.512126</td>\n      <td>0.601962</td>\n      <td>0.602538</td>\n      <td>0.998969</td>\n      <td>0.797255</td>\n      <td>0.809172</td>\n      <td>0.303291</td>\n      <td>0.781481</td>\n      <td>...</td>\n      <td>0.791869</td>\n      <td>0.006227</td>\n      <td>0.623493</td>\n      <td>0.601958</td>\n      <td>0.839785</td>\n      <td>0.277092</td>\n      <td>0.026425</td>\n      <td>0.562485</td>\n      <td>1</td>\n      <td>0.050382</td>\n    </tr>\n    <tr>\n      <th>4</th>\n      <td>0.522547</td>\n      <td>0.583679</td>\n      <td>0.565555</td>\n      <td>0.603554</td>\n      <td>0.603554</td>\n      <td>0.999061</td>\n      <td>0.797494</td>\n      <td>0.809387</td>\n      <td>0.303515</td>\n      <td>0.781648</td>\n      <td>...</td>\n      <td>0.822404</td>\n      <td>0.001205</td>\n      <td>0.624300</td>\n      <td>0.603550</td>\n      <td>0.842597</td>\n      <td>0.281994</td>\n      <td>0.026928</td>\n      <td>0.565734</td>\n      <td>1</td>\n      <td>0.023469</td>\n    </tr>\n    <tr>\n      <th>...</th>\n      <td>...</td>\n      <td>...</td>\n      <td>...</td>\n      <td>...</td>\n      <td>...</td>\n      <td>...</td>\n      <td>...</td>\n      <td>...</td>\n      <td>...</td>\n      <td>...</td>\n      <td>...</td>\n      <td>...</td>\n      <td>...</td>\n      <td>...</td>\n      <td>...</td>\n      <td>...</td>\n      <td>...</td>\n      <td>...</td>\n      <td>...</td>\n      <td>...</td>\n      <td>...</td>\n    </tr>\n    <tr>\n      <th>3336</th>\n      <td>0.493199</td>\n      <td>0.534289</td>\n      <td>0.539590</td>\n      <td>0.610437</td>\n      <td>0.610437</td>\n      <td>0.998955</td>\n      <td>0.797399</td>\n      <td>0.809320</td>\n      <td>0.303570</td>\n      <td>0.781578</td>\n      <td>...</td>\n      <td>0.796847</td>\n      <td>0.001590</td>\n      <td>0.622744</td>\n      <td>0.610433</td>\n      <td>0.840095</td>\n      <td>0.276779</td>\n      <td>0.028218</td>\n      <td>0.568053</td>\n      <td>1</td>\n      <td>0.056379</td>\n    </tr>\n    <tr>\n      <th>3337</th>\n      <td>0.503924</td>\n      <td>0.546282</td>\n      <td>0.556614</td>\n      <td>0.602581</td>\n      <td>0.602581</td>\n      <td>0.998977</td>\n      <td>0.797407</td>\n      <td>0.809349</td>\n      <td>0.303537</td>\n      <td>0.781623</td>\n      <td>...</td>\n      <td>0.804379</td>\n      <td>0.005958</td>\n      <td>0.623137</td>\n      <td>0.602576</td>\n      <td>0.840829</td>\n      <td>0.281551</td>\n      <td>0.027089</td>\n      <td>0.566265</td>\n      <td>1</td>\n      <td>0.024324</td>\n    </tr>\n    <tr>\n      <th>3338</th>\n      <td>0.579681</td>\n      <td>0.632523</td>\n      <td>0.620322</td>\n      <td>0.644215</td>\n      <td>0.644215</td>\n      <td>0.999297</td>\n      <td>0.797949</td>\n      <td>0.809750</td>\n      <td>0.303816</td>\n      <td>0.782045</td>\n      <td>...</td>\n      <td>0.840079</td>\n      <td>0.000716</td>\n      <td>0.624140</td>\n      <td>0.644214</td>\n      <td>0.843738</td>\n      <td>0.280141</td>\n      <td>0.026801</td>\n      <td>0.565204</td>\n      <td>1</td>\n      <td>0.027962</td>\n    </tr>\n    <tr>\n      <th>3339</th>\n      <td>0.526057</td>\n      <td>0.601068</td>\n      <td>0.575673</td>\n      <td>0.609024</td>\n      <td>0.609089</td>\n      <td>0.999132</td>\n      <td>0.797810</td>\n      <td>0.809665</td>\n      <td>0.303919</td>\n      <td>0.781883</td>\n      <td>...</td>\n      <td>0.837170</td>\n      <td>0.012565</td>\n      <td>0.623716</td>\n      <td>0.609020</td>\n      <td>0.842199</td>\n      <td>0.275613</td>\n      <td>0.026802</td>\n      <td>0.565211</td>\n      <td>1</td>\n      <td>0.114083</td>\n    </tr>\n    <tr>\n      <th>3340</th>\n      <td>0.487788</td>\n      <td>0.560783</td>\n      <td>0.543230</td>\n      <td>0.600290</td>\n      <td>0.600290</td>\n      <td>0.998680</td>\n      <td>0.798059</td>\n      <td>0.809965</td>\n      <td>0.305298</td>\n      <td>0.782274</td>\n      <td>...</td>\n      <td>0.814199</td>\n      <td>0.000819</td>\n      <td>0.623842</td>\n      <td>0.600288</td>\n      <td>0.840908</td>\n      <td>0.274917</td>\n      <td>0.026796</td>\n      <td>0.565183</td>\n      <td>1</td>\n      <td>0.420566</td>\n    </tr>\n  </tbody>\n</table>\n<p>3341 rows × 95 columns</p>\n</div>"
     },
     "execution_count": 4,
     "metadata": {},
     "output_type": "execute_result"
    }
   ],
   "source": [
    "X"
   ],
   "metadata": {
    "collapsed": false,
    "ExecuteTime": {
     "end_time": "2024-04-21T15:13:12.696369500Z",
     "start_time": "2024-04-21T15:13:12.633875Z"
    }
   },
   "id": "c30acccc774d7142"
  },
  {
   "cell_type": "code",
   "execution_count": 5,
   "outputs": [
    {
     "data": {
      "text/plain": "0    0\n1    1\n2    0\n3    0\n4    0\nName: Bankrupt?, dtype: int64"
     },
     "execution_count": 5,
     "metadata": {},
     "output_type": "execute_result"
    }
   ],
   "source": [
    "y.head()"
   ],
   "metadata": {
    "collapsed": false,
    "ExecuteTime": {
     "end_time": "2024-04-21T15:13:18.153638500Z",
     "start_time": "2024-04-21T15:13:18.088279900Z"
    }
   },
   "id": "27f6e92db788186c"
  },
  {
   "cell_type": "markdown",
   "source": [
    "## Feature engineering"
   ],
   "metadata": {
    "collapsed": false
   },
   "id": "c32b0f96c9585ddc"
  },
  {
   "cell_type": "markdown",
   "source": [
    "**Creating new features**:\n",
    "- ROA_(C/A/B)_Debt(Equity/Asset)_Interaction - an interaction between *Return on Assets* and leverage ratios could indicate how effectively a company uses borrowed funds to generate profits, a crucial factor in financial health\n",
    "- Profitability_Liquidity_Ratio - *Operating Profit Rate*/*Current Ratio* could gauge how operating profits stand against current assets, highlighting potential cash flow issues\n",
    "- Interests_coverage_adjustments - adjusting *Interest Coverage Ratio* by multiplying with *Working Capital to Total Assets* to gauge how working capital might cushion interest payments\n",
    "- CashFlow_to_Debt_Ratio - new feature combining *Cash Flow to Total Assets* with *Total debt/Total net worth* might better reflect the ability to cover debts"
   ],
   "metadata": {
    "collapsed": false
   },
   "id": "d56d21f99b72ecc3"
  },
  {
   "cell_type": "code",
   "execution_count": 6,
   "outputs": [],
   "source": [
    "X['our_ROA_C_DebtEquity_Interaction'] = df[df.columns[1]] * df[df.columns[36]]\n",
    "X['our_ROA_C_DebtAsset_Interaction'] = df[df.columns[1]] * df[df.columns[37]]\n",
    "X['our_ROA_A_DebtEquity_Interaction'] = df[df.columns[2]] * df[df.columns[36]]\n",
    "X['our_ROA_A_DebtAsset_Interaction'] = df[df.columns[2]] * df[df.columns[37]]\n",
    "X['our_ROA_B_DebtEquity_Interaction'] = df[df.columns[3]] * df[df.columns[36]]\n",
    "X['our_ROA_B_DebtAsset_Interaction'] = df[df.columns[3]] * df[df.columns[37]]\n",
    "\n",
    "X['our_Profitability_Liquidity_Ratio'] = np.divide(df[df.columns[6]], df[df.columns[33]], out=np.zeros_like(df[df.columns[6]]), where=df[df.columns[33]] != 0)\n",
    "\n",
    "X['our_Interests_coverage_adjustments'] = df[df.columns[93]] * df[df.columns[54]]\n",
    "\n",
    "X['our_CashFlow_to_Debt_Ratio'] = np.divide(df[df.columns[80]], df[df.columns[36]], out=np.zeros_like(df[df.columns[80]]), where=df[df.columns[36]] != 0)"
   ],
   "metadata": {
    "collapsed": false,
    "ExecuteTime": {
     "end_time": "2024-04-21T15:13:27.227676600Z",
     "start_time": "2024-04-21T15:13:27.204844400Z"
    }
   },
   "id": "21a5a8b633b1297"
  },
  {
   "cell_type": "code",
   "execution_count": 7,
   "outputs": [],
   "source": [
    "cols = X.columns\n",
    "X = pd.DataFrame(StandardScaler().fit_transform(X), columns=cols)\n",
    "X = X.drop(columns=['Net Income Flag', 'Liability-Assets Flag'])"
   ],
   "metadata": {
    "collapsed": false,
    "ExecuteTime": {
     "end_time": "2024-04-21T15:13:28.135419200Z",
     "start_time": "2024-04-21T15:13:28.106359Z"
    }
   },
   "id": "1d06564f4da4b31b"
  },
  {
   "cell_type": "code",
   "execution_count": 8,
   "outputs": [
    {
     "data": {
      "text/plain": "      ROA(C) before interest and depreciation before interest  \\\n0                                              1.590092         \n1                                             -0.402372         \n2                                              0.609571         \n3                                             -0.697253         \n4                                              0.297770         \n...                                                 ...         \n3336                                          -0.187253         \n3337                                          -0.010002         \n3338                                           1.242035         \n3339                                           0.355780         \n3340                                          -0.276685         \n\n      ROA(A) before interest and % after tax  \\\n0                                   1.784798   \n1                                  -0.192739   \n2                                   0.894529   \n3                                  -0.517997   \n4                                   0.401612   \n...                                      ...   \n3336                               -0.357883   \n3337                               -0.173458   \n3338                                1.152724   \n3339                                0.669028   \n3340                                0.049528   \n\n      ROA(B) before interest and depreciation after tax  \\\n0                                              1.921670   \n1                                             -0.354871   \n2                                              0.794791   \n3                                             -0.669451   \n4                                              0.205063   \n...                                                 ...   \n3336                                          -0.219926   \n3337                                           0.058727   \n3338                                           1.101485   \n3339                                           0.370678   \n3340                                          -0.160340   \n\n      Operating Gross Margin  Realized Sales Gross Margin  \\\n0                   0.483378                     0.449832   \n1                  -0.436031                    -0.435872   \n2                  -0.167775                    -0.167394   \n3                  -0.369420                    -0.332925   \n4                  -0.269277                    -0.268980   \n...                      ...                          ...   \n3336                0.163466                     0.164121   \n3337               -0.330450                    -0.330204   \n3338                2.287304                     2.289721   \n3339                0.074651                     0.079315   \n3340               -0.474547                    -0.474420   \n\n      Operating Profit Rate  Pre-tax net Interest Rate  \\\n0                  0.054893                   0.080610   \n1                  0.029452                   0.024815   \n2                  0.034410                   0.033359   \n3                  0.019569                   0.010743   \n4                  0.033213                   0.031472   \n...                     ...                        ...   \n3336               0.017586                   0.023228   \n3337               0.020869                   0.023913   \n3338               0.068109                   0.071020   \n3339               0.043728                   0.058967   \n3340              -0.023089                   0.080562   \n\n      After-tax net Interest Rate  \\\n0                        0.067291   \n1                        0.023132   \n2                        0.030380   \n3                        0.012074   \n4                        0.027105   \n...                           ...   \n3336                     0.022379   \n3337                     0.024402   \n3338                     0.052378   \n3339                     0.046454   \n3340                     0.067363   \n\n      Non-industry income and expenditure/revenue  \\\n0                                        0.124714   \n1                                        0.012209   \n2                                        0.027222   \n3                                       -0.008936   \n4                                        0.024119   \n...                                           ...   \n3336                                     0.032250   \n3337                                     0.027436   \n3338                                     0.068658   \n3339                                     0.083741   \n3340                                     0.287176   \n\n      Continuous interest rate (after tax)  ...  Equity to Liability  \\\n0                                 0.082836  ...             0.480488   \n1                                 0.022437  ...            -0.575505   \n2                                 0.031278  ...             0.179846   \n3                                 0.011748  ...             0.045298   \n4                                 0.026528  ...            -0.463898   \n...                                    ...  ...                  ...   \n3336                              0.020329  ...             0.158742   \n3337                              0.024297  ...            -0.447732   \n3338                              0.061545  ...            -0.378902   \n3339                              0.047261  ...             1.250505   \n3340                              0.081819  ...             7.049132   \n\n      our_ROA_C_DebtEquity_Interaction  our_ROA_C_DebtAsset_Interaction  \\\n0                            -0.031746                        -0.994607   \n1                            -0.031746                         1.522828   \n2                            -0.031746                        -0.803270   \n3                            -0.031746                        -0.843734   \n4                            -0.031746                         0.966600   \n...                                ...                              ...   \n3336                         -0.031746                        -0.906813   \n3337                         -0.031746                         0.756950   \n3338                         -0.031746                         0.808570   \n3339                         -0.031746                        -1.561961   \n3340                         -0.031746                        -2.136900   \n\n      our_ROA_A_DebtEquity_Interaction  our_ROA_A_DebtAsset_Interaction  \\\n0                            -0.031256                        -0.973893   \n1                            -0.031256                         1.618574   \n2                            -0.031256                        -0.759551   \n3                            -0.031256                        -0.806358   \n4                            -0.031256                         0.996780   \n...                                ...                              ...   \n3336                         -0.031256                        -0.931278   \n3337                         -0.031256                         0.696184   \n3338                         -0.031256                         0.766257   \n3339                         -0.031256                        -1.534367   \n3340                         -0.031256                        -2.126058   \n\n      our_ROA_B_DebtEquity_Interaction  our_ROA_B_DebtAsset_Interaction  \\\n0                            -0.031745                        -0.972055   \n1                            -0.031745                         1.552685   \n2                            -0.031745                        -0.784119   \n3                            -0.031745                        -0.829482   \n4                            -0.031745                         0.921395   \n...                                ...                              ...   \n3336                         -0.031745                        -0.909775   \n3337                         -0.031745                         0.775841   \n3338                         -0.031745                         0.731721   \n3339                         -0.031745                        -1.562038   \n3340                         -0.031745                        -2.132668   \n\n      our_Profitability_Liquidity_Ratio  our_Interests_coverage_adjustments  \\\n0                             -0.033592                           -0.583768   \n1                              0.029866                            0.221399   \n2                             -0.605498                            2.216809   \n3                              0.527645                           -1.092753   \n4                             -0.136141                            0.600015   \n...                                 ...                                 ...   \n3336                           3.662833                           -1.288714   \n3337                           1.107732                           -1.509340   \n3338                          -0.525491                            0.949578   \n3339                          -0.084611                           -0.699112   \n3340                          -0.284358                           -0.887975   \n\n      our_CashFlow_to_Debt_Ratio  \n0                       0.355199  \n1                      -0.496295  \n2                       0.210362  \n3                       0.002053  \n4                      -0.401602  \n...                          ...  \n3336                    0.098892  \n3337                   -0.394969  \n3338                   -0.266732  \n3339                    1.127521  \n3340                    9.618670  \n\n[3341 rows x 102 columns]",
      "text/html": "<div>\n<style scoped>\n    .dataframe tbody tr th:only-of-type {\n        vertical-align: middle;\n    }\n\n    .dataframe tbody tr th {\n        vertical-align: top;\n    }\n\n    .dataframe thead th {\n        text-align: right;\n    }\n</style>\n<table border=\"1\" class=\"dataframe\">\n  <thead>\n    <tr style=\"text-align: right;\">\n      <th></th>\n      <th>ROA(C) before interest and depreciation before interest</th>\n      <th>ROA(A) before interest and % after tax</th>\n      <th>ROA(B) before interest and depreciation after tax</th>\n      <th>Operating Gross Margin</th>\n      <th>Realized Sales Gross Margin</th>\n      <th>Operating Profit Rate</th>\n      <th>Pre-tax net Interest Rate</th>\n      <th>After-tax net Interest Rate</th>\n      <th>Non-industry income and expenditure/revenue</th>\n      <th>Continuous interest rate (after tax)</th>\n      <th>...</th>\n      <th>Equity to Liability</th>\n      <th>our_ROA_C_DebtEquity_Interaction</th>\n      <th>our_ROA_C_DebtAsset_Interaction</th>\n      <th>our_ROA_A_DebtEquity_Interaction</th>\n      <th>our_ROA_A_DebtAsset_Interaction</th>\n      <th>our_ROA_B_DebtEquity_Interaction</th>\n      <th>our_ROA_B_DebtAsset_Interaction</th>\n      <th>our_Profitability_Liquidity_Ratio</th>\n      <th>our_Interests_coverage_adjustments</th>\n      <th>our_CashFlow_to_Debt_Ratio</th>\n    </tr>\n  </thead>\n  <tbody>\n    <tr>\n      <th>0</th>\n      <td>1.590092</td>\n      <td>1.784798</td>\n      <td>1.921670</td>\n      <td>0.483378</td>\n      <td>0.449832</td>\n      <td>0.054893</td>\n      <td>0.080610</td>\n      <td>0.067291</td>\n      <td>0.124714</td>\n      <td>0.082836</td>\n      <td>...</td>\n      <td>0.480488</td>\n      <td>-0.031746</td>\n      <td>-0.994607</td>\n      <td>-0.031256</td>\n      <td>-0.973893</td>\n      <td>-0.031745</td>\n      <td>-0.972055</td>\n      <td>-0.033592</td>\n      <td>-0.583768</td>\n      <td>0.355199</td>\n    </tr>\n    <tr>\n      <th>1</th>\n      <td>-0.402372</td>\n      <td>-0.192739</td>\n      <td>-0.354871</td>\n      <td>-0.436031</td>\n      <td>-0.435872</td>\n      <td>0.029452</td>\n      <td>0.024815</td>\n      <td>0.023132</td>\n      <td>0.012209</td>\n      <td>0.022437</td>\n      <td>...</td>\n      <td>-0.575505</td>\n      <td>-0.031746</td>\n      <td>1.522828</td>\n      <td>-0.031256</td>\n      <td>1.618574</td>\n      <td>-0.031745</td>\n      <td>1.552685</td>\n      <td>0.029866</td>\n      <td>0.221399</td>\n      <td>-0.496295</td>\n    </tr>\n    <tr>\n      <th>2</th>\n      <td>0.609571</td>\n      <td>0.894529</td>\n      <td>0.794791</td>\n      <td>-0.167775</td>\n      <td>-0.167394</td>\n      <td>0.034410</td>\n      <td>0.033359</td>\n      <td>0.030380</td>\n      <td>0.027222</td>\n      <td>0.031278</td>\n      <td>...</td>\n      <td>0.179846</td>\n      <td>-0.031746</td>\n      <td>-0.803270</td>\n      <td>-0.031256</td>\n      <td>-0.759551</td>\n      <td>-0.031745</td>\n      <td>-0.784119</td>\n      <td>-0.605498</td>\n      <td>2.216809</td>\n      <td>0.210362</td>\n    </tr>\n    <tr>\n      <th>3</th>\n      <td>-0.697253</td>\n      <td>-0.517997</td>\n      <td>-0.669451</td>\n      <td>-0.369420</td>\n      <td>-0.332925</td>\n      <td>0.019569</td>\n      <td>0.010743</td>\n      <td>0.012074</td>\n      <td>-0.008936</td>\n      <td>0.011748</td>\n      <td>...</td>\n      <td>0.045298</td>\n      <td>-0.031746</td>\n      <td>-0.843734</td>\n      <td>-0.031256</td>\n      <td>-0.806358</td>\n      <td>-0.031745</td>\n      <td>-0.829482</td>\n      <td>0.527645</td>\n      <td>-1.092753</td>\n      <td>0.002053</td>\n    </tr>\n    <tr>\n      <th>4</th>\n      <td>0.297770</td>\n      <td>0.401612</td>\n      <td>0.205063</td>\n      <td>-0.269277</td>\n      <td>-0.268980</td>\n      <td>0.033213</td>\n      <td>0.031472</td>\n      <td>0.027105</td>\n      <td>0.024119</td>\n      <td>0.026528</td>\n      <td>...</td>\n      <td>-0.463898</td>\n      <td>-0.031746</td>\n      <td>0.966600</td>\n      <td>-0.031256</td>\n      <td>0.996780</td>\n      <td>-0.031745</td>\n      <td>0.921395</td>\n      <td>-0.136141</td>\n      <td>0.600015</td>\n      <td>-0.401602</td>\n    </tr>\n    <tr>\n      <th>...</th>\n      <td>...</td>\n      <td>...</td>\n      <td>...</td>\n      <td>...</td>\n      <td>...</td>\n      <td>...</td>\n      <td>...</td>\n      <td>...</td>\n      <td>...</td>\n      <td>...</td>\n      <td>...</td>\n      <td>...</td>\n      <td>...</td>\n      <td>...</td>\n      <td>...</td>\n      <td>...</td>\n      <td>...</td>\n      <td>...</td>\n      <td>...</td>\n      <td>...</td>\n      <td>...</td>\n    </tr>\n    <tr>\n      <th>3336</th>\n      <td>-0.187253</td>\n      <td>-0.357883</td>\n      <td>-0.219926</td>\n      <td>0.163466</td>\n      <td>0.164121</td>\n      <td>0.017586</td>\n      <td>0.023228</td>\n      <td>0.022379</td>\n      <td>0.032250</td>\n      <td>0.020329</td>\n      <td>...</td>\n      <td>0.158742</td>\n      <td>-0.031746</td>\n      <td>-0.906813</td>\n      <td>-0.031256</td>\n      <td>-0.931278</td>\n      <td>-0.031745</td>\n      <td>-0.909775</td>\n      <td>3.662833</td>\n      <td>-1.288714</td>\n      <td>0.098892</td>\n    </tr>\n    <tr>\n      <th>3337</th>\n      <td>-0.010002</td>\n      <td>-0.173458</td>\n      <td>0.058727</td>\n      <td>-0.330450</td>\n      <td>-0.330204</td>\n      <td>0.020869</td>\n      <td>0.023913</td>\n      <td>0.024402</td>\n      <td>0.027436</td>\n      <td>0.024297</td>\n      <td>...</td>\n      <td>-0.447732</td>\n      <td>-0.031746</td>\n      <td>0.756950</td>\n      <td>-0.031256</td>\n      <td>0.696184</td>\n      <td>-0.031745</td>\n      <td>0.775841</td>\n      <td>1.107732</td>\n      <td>-1.509340</td>\n      <td>-0.394969</td>\n    </tr>\n    <tr>\n      <th>3338</th>\n      <td>1.242035</td>\n      <td>1.152724</td>\n      <td>1.101485</td>\n      <td>2.287304</td>\n      <td>2.289721</td>\n      <td>0.068109</td>\n      <td>0.071020</td>\n      <td>0.052378</td>\n      <td>0.068658</td>\n      <td>0.061545</td>\n      <td>...</td>\n      <td>-0.378902</td>\n      <td>-0.031746</td>\n      <td>0.808570</td>\n      <td>-0.031256</td>\n      <td>0.766257</td>\n      <td>-0.031745</td>\n      <td>0.731721</td>\n      <td>-0.525491</td>\n      <td>0.949578</td>\n      <td>-0.266732</td>\n    </tr>\n    <tr>\n      <th>3339</th>\n      <td>0.355780</td>\n      <td>0.669028</td>\n      <td>0.370678</td>\n      <td>0.074651</td>\n      <td>0.079315</td>\n      <td>0.043728</td>\n      <td>0.058967</td>\n      <td>0.046454</td>\n      <td>0.083741</td>\n      <td>0.047261</td>\n      <td>...</td>\n      <td>1.250505</td>\n      <td>-0.031746</td>\n      <td>-1.561961</td>\n      <td>-0.031256</td>\n      <td>-1.534367</td>\n      <td>-0.031745</td>\n      <td>-1.562038</td>\n      <td>-0.084611</td>\n      <td>-0.699112</td>\n      <td>1.127521</td>\n    </tr>\n    <tr>\n      <th>3340</th>\n      <td>-0.276685</td>\n      <td>0.049528</td>\n      <td>-0.160340</td>\n      <td>-0.474547</td>\n      <td>-0.474420</td>\n      <td>-0.023089</td>\n      <td>0.080562</td>\n      <td>0.067363</td>\n      <td>0.287176</td>\n      <td>0.081819</td>\n      <td>...</td>\n      <td>7.049132</td>\n      <td>-0.031746</td>\n      <td>-2.136900</td>\n      <td>-0.031256</td>\n      <td>-2.126058</td>\n      <td>-0.031745</td>\n      <td>-2.132668</td>\n      <td>-0.284358</td>\n      <td>-0.887975</td>\n      <td>9.618670</td>\n    </tr>\n  </tbody>\n</table>\n<p>3341 rows × 102 columns</p>\n</div>"
     },
     "execution_count": 8,
     "metadata": {},
     "output_type": "execute_result"
    }
   ],
   "source": [
    "X"
   ],
   "metadata": {
    "collapsed": false,
    "ExecuteTime": {
     "end_time": "2024-04-21T15:13:29.072408Z",
     "start_time": "2024-04-21T15:13:28.995116600Z"
    }
   },
   "id": "ef790b4318a824d6"
  },
  {
   "cell_type": "markdown",
   "source": [
    "## Feature selection"
   ],
   "metadata": {
    "collapsed": false
   },
   "id": "c736972d55bffda9"
  },
  {
   "cell_type": "markdown",
   "source": [
    "**Select by single feature performance** - selects features based on the performance of a machine learning model trained utilising a single feature"
   ],
   "metadata": {
    "collapsed": false
   },
   "id": "e2d9fdd23c48ccf3"
  },
  {
   "cell_type": "code",
   "execution_count": 9,
   "outputs": [
    {
     "data": {
      "text/plain": "      ROA(C) before interest and depreciation before interest  \\\n0                                              1.590092         \n1                                             -0.402372         \n2                                              0.609571         \n3                                             -0.697253         \n4                                              0.297770         \n...                                                 ...         \n3336                                          -0.187253         \n3337                                          -0.010002         \n3338                                           1.242035         \n3339                                           0.355780         \n3340                                          -0.276685         \n\n      ROA(A) before interest and % after tax  \\\n0                                   1.784798   \n1                                  -0.192739   \n2                                   0.894529   \n3                                  -0.517997   \n4                                   0.401612   \n...                                      ...   \n3336                               -0.357883   \n3337                               -0.173458   \n3338                                1.152724   \n3339                                0.669028   \n3340                                0.049528   \n\n      ROA(B) before interest and depreciation after tax  \\\n0                                              1.921670   \n1                                             -0.354871   \n2                                              0.794791   \n3                                             -0.669451   \n4                                              0.205063   \n...                                                 ...   \n3336                                          -0.219926   \n3337                                           0.058727   \n3338                                           1.101485   \n3339                                           0.370678   \n3340                                          -0.160340   \n\n      Operating Gross Margin  Realized Sales Gross Margin  \\\n0                   0.483378                     0.449832   \n1                  -0.436031                    -0.435872   \n2                  -0.167775                    -0.167394   \n3                  -0.369420                    -0.332925   \n4                  -0.269277                    -0.268980   \n...                      ...                          ...   \n3336                0.163466                     0.164121   \n3337               -0.330450                    -0.330204   \n3338                2.287304                     2.289721   \n3339                0.074651                     0.079315   \n3340               -0.474547                    -0.474420   \n\n      Operating Profit Rate  Pre-tax net Interest Rate  \\\n0                  0.054893                   0.080610   \n1                  0.029452                   0.024815   \n2                  0.034410                   0.033359   \n3                  0.019569                   0.010743   \n4                  0.033213                   0.031472   \n...                     ...                        ...   \n3336               0.017586                   0.023228   \n3337               0.020869                   0.023913   \n3338               0.068109                   0.071020   \n3339               0.043728                   0.058967   \n3340              -0.023089                   0.080562   \n\n      After-tax net Interest Rate  \\\n0                        0.067291   \n1                        0.023132   \n2                        0.030380   \n3                        0.012074   \n4                        0.027105   \n...                           ...   \n3336                     0.022379   \n3337                     0.024402   \n3338                     0.052378   \n3339                     0.046454   \n3340                     0.067363   \n\n      Non-industry income and expenditure/revenue  \\\n0                                        0.124714   \n1                                        0.012209   \n2                                        0.027222   \n3                                       -0.008936   \n4                                        0.024119   \n...                                           ...   \n3336                                     0.032250   \n3337                                     0.027436   \n3338                                     0.068658   \n3339                                     0.083741   \n3340                                     0.287176   \n\n      Continuous interest rate (after tax)  ...  Net Income to Total Assets  \\\n0                                 0.082836  ...                    1.515307   \n1                                 0.022437  ...                   -0.184277   \n2                                 0.031278  ...                    0.892134   \n3                                 0.011748  ...                   -0.371086   \n4                                 0.026528  ...                    0.376237   \n...                                    ...  ...                         ...   \n3336                              0.020329  ...                   -0.249238   \n3337                              0.024297  ...                   -0.064895   \n3338                              0.061545  ...                    0.808821   \n3339                              0.047261  ...                    0.737607   \n3340                              0.081819  ...                    0.175421   \n\n      Gross Profit to Sales  Net Income to Stockholder's Equity  \\\n0                  0.483201                            0.208196   \n1                 -0.435818                            0.017508   \n2                 -0.167791                            0.141656   \n3                 -0.369522                           -0.021506   \n4                 -0.269450                            0.125915   \n...                     ...                                 ...   \n3336               0.163332                           -0.005266   \n3337              -0.330675                            0.033247   \n3338               2.287331                            0.185705   \n3339               0.074509                            0.105025   \n3340              -0.474556                            0.037352   \n\n      Liability to Equity  Degree of Financial Leverage (DFL)  \\\n0               -0.236128                           -0.052763   \n1                0.395327                            0.006118   \n2               -0.208214                           -0.052765   \n3               -0.188564                           -0.069910   \n4                0.076939                           -0.046382   \n...                   ...                                 ...   \n3336            -0.205532                            0.014002   \n3337             0.052923                           -0.038840   \n3338            -0.023422                           -0.052311   \n3339            -0.268666                           -0.052248   \n3340            -0.306377                           -0.052520   \n\n      Interest Coverage Ratio (Interest expense to EBIT)  Equity to Liability  \\\n0                                              0.003054              0.480488   \n1                                              0.184126             -0.575505   \n2                                              0.003039              0.179846   \n3                                             -0.173740              0.045298   \n4                                              0.041129             -0.463898   \n...                                                 ...                   ...   \n3336                                           0.194443              0.158742   \n3337                                           0.076241             -0.447732   \n3338                                           0.006074             -0.378902   \n3339                                           0.006492              1.250505   \n3340                                           0.004687              7.049132   \n\n      our_Profitability_Liquidity_Ratio  our_Interests_coverage_adjustments  \\\n0                             -0.033592                           -0.583768   \n1                              0.029866                            0.221399   \n2                             -0.605498                            2.216809   \n3                              0.527645                           -1.092753   \n4                             -0.136141                            0.600015   \n...                                 ...                                 ...   \n3336                           3.662833                           -1.288714   \n3337                           1.107732                           -1.509340   \n3338                          -0.525491                            0.949578   \n3339                          -0.084611                           -0.699112   \n3340                          -0.284358                           -0.887975   \n\n      our_CashFlow_to_Debt_Ratio  \n0                       0.355199  \n1                      -0.496295  \n2                       0.210362  \n3                       0.002053  \n4                      -0.401602  \n...                          ...  \n3336                    0.098892  \n3337                   -0.394969  \n3338                   -0.266732  \n3339                    1.127521  \n3340                    9.618670  \n\n[3341 rows x 50 columns]",
      "text/html": "<div>\n<style scoped>\n    .dataframe tbody tr th:only-of-type {\n        vertical-align: middle;\n    }\n\n    .dataframe tbody tr th {\n        vertical-align: top;\n    }\n\n    .dataframe thead th {\n        text-align: right;\n    }\n</style>\n<table border=\"1\" class=\"dataframe\">\n  <thead>\n    <tr style=\"text-align: right;\">\n      <th></th>\n      <th>ROA(C) before interest and depreciation before interest</th>\n      <th>ROA(A) before interest and % after tax</th>\n      <th>ROA(B) before interest and depreciation after tax</th>\n      <th>Operating Gross Margin</th>\n      <th>Realized Sales Gross Margin</th>\n      <th>Operating Profit Rate</th>\n      <th>Pre-tax net Interest Rate</th>\n      <th>After-tax net Interest Rate</th>\n      <th>Non-industry income and expenditure/revenue</th>\n      <th>Continuous interest rate (after tax)</th>\n      <th>...</th>\n      <th>Net Income to Total Assets</th>\n      <th>Gross Profit to Sales</th>\n      <th>Net Income to Stockholder's Equity</th>\n      <th>Liability to Equity</th>\n      <th>Degree of Financial Leverage (DFL)</th>\n      <th>Interest Coverage Ratio (Interest expense to EBIT)</th>\n      <th>Equity to Liability</th>\n      <th>our_Profitability_Liquidity_Ratio</th>\n      <th>our_Interests_coverage_adjustments</th>\n      <th>our_CashFlow_to_Debt_Ratio</th>\n    </tr>\n  </thead>\n  <tbody>\n    <tr>\n      <th>0</th>\n      <td>1.590092</td>\n      <td>1.784798</td>\n      <td>1.921670</td>\n      <td>0.483378</td>\n      <td>0.449832</td>\n      <td>0.054893</td>\n      <td>0.080610</td>\n      <td>0.067291</td>\n      <td>0.124714</td>\n      <td>0.082836</td>\n      <td>...</td>\n      <td>1.515307</td>\n      <td>0.483201</td>\n      <td>0.208196</td>\n      <td>-0.236128</td>\n      <td>-0.052763</td>\n      <td>0.003054</td>\n      <td>0.480488</td>\n      <td>-0.033592</td>\n      <td>-0.583768</td>\n      <td>0.355199</td>\n    </tr>\n    <tr>\n      <th>1</th>\n      <td>-0.402372</td>\n      <td>-0.192739</td>\n      <td>-0.354871</td>\n      <td>-0.436031</td>\n      <td>-0.435872</td>\n      <td>0.029452</td>\n      <td>0.024815</td>\n      <td>0.023132</td>\n      <td>0.012209</td>\n      <td>0.022437</td>\n      <td>...</td>\n      <td>-0.184277</td>\n      <td>-0.435818</td>\n      <td>0.017508</td>\n      <td>0.395327</td>\n      <td>0.006118</td>\n      <td>0.184126</td>\n      <td>-0.575505</td>\n      <td>0.029866</td>\n      <td>0.221399</td>\n      <td>-0.496295</td>\n    </tr>\n    <tr>\n      <th>2</th>\n      <td>0.609571</td>\n      <td>0.894529</td>\n      <td>0.794791</td>\n      <td>-0.167775</td>\n      <td>-0.167394</td>\n      <td>0.034410</td>\n      <td>0.033359</td>\n      <td>0.030380</td>\n      <td>0.027222</td>\n      <td>0.031278</td>\n      <td>...</td>\n      <td>0.892134</td>\n      <td>-0.167791</td>\n      <td>0.141656</td>\n      <td>-0.208214</td>\n      <td>-0.052765</td>\n      <td>0.003039</td>\n      <td>0.179846</td>\n      <td>-0.605498</td>\n      <td>2.216809</td>\n      <td>0.210362</td>\n    </tr>\n    <tr>\n      <th>3</th>\n      <td>-0.697253</td>\n      <td>-0.517997</td>\n      <td>-0.669451</td>\n      <td>-0.369420</td>\n      <td>-0.332925</td>\n      <td>0.019569</td>\n      <td>0.010743</td>\n      <td>0.012074</td>\n      <td>-0.008936</td>\n      <td>0.011748</td>\n      <td>...</td>\n      <td>-0.371086</td>\n      <td>-0.369522</td>\n      <td>-0.021506</td>\n      <td>-0.188564</td>\n      <td>-0.069910</td>\n      <td>-0.173740</td>\n      <td>0.045298</td>\n      <td>0.527645</td>\n      <td>-1.092753</td>\n      <td>0.002053</td>\n    </tr>\n    <tr>\n      <th>4</th>\n      <td>0.297770</td>\n      <td>0.401612</td>\n      <td>0.205063</td>\n      <td>-0.269277</td>\n      <td>-0.268980</td>\n      <td>0.033213</td>\n      <td>0.031472</td>\n      <td>0.027105</td>\n      <td>0.024119</td>\n      <td>0.026528</td>\n      <td>...</td>\n      <td>0.376237</td>\n      <td>-0.269450</td>\n      <td>0.125915</td>\n      <td>0.076939</td>\n      <td>-0.046382</td>\n      <td>0.041129</td>\n      <td>-0.463898</td>\n      <td>-0.136141</td>\n      <td>0.600015</td>\n      <td>-0.401602</td>\n    </tr>\n    <tr>\n      <th>...</th>\n      <td>...</td>\n      <td>...</td>\n      <td>...</td>\n      <td>...</td>\n      <td>...</td>\n      <td>...</td>\n      <td>...</td>\n      <td>...</td>\n      <td>...</td>\n      <td>...</td>\n      <td>...</td>\n      <td>...</td>\n      <td>...</td>\n      <td>...</td>\n      <td>...</td>\n      <td>...</td>\n      <td>...</td>\n      <td>...</td>\n      <td>...</td>\n      <td>...</td>\n      <td>...</td>\n    </tr>\n    <tr>\n      <th>3336</th>\n      <td>-0.187253</td>\n      <td>-0.357883</td>\n      <td>-0.219926</td>\n      <td>0.163466</td>\n      <td>0.164121</td>\n      <td>0.017586</td>\n      <td>0.023228</td>\n      <td>0.022379</td>\n      <td>0.032250</td>\n      <td>0.020329</td>\n      <td>...</td>\n      <td>-0.249238</td>\n      <td>0.163332</td>\n      <td>-0.005266</td>\n      <td>-0.205532</td>\n      <td>0.014002</td>\n      <td>0.194443</td>\n      <td>0.158742</td>\n      <td>3.662833</td>\n      <td>-1.288714</td>\n      <td>0.098892</td>\n    </tr>\n    <tr>\n      <th>3337</th>\n      <td>-0.010002</td>\n      <td>-0.173458</td>\n      <td>0.058727</td>\n      <td>-0.330450</td>\n      <td>-0.330204</td>\n      <td>0.020869</td>\n      <td>0.023913</td>\n      <td>0.024402</td>\n      <td>0.027436</td>\n      <td>0.024297</td>\n      <td>...</td>\n      <td>-0.064895</td>\n      <td>-0.330675</td>\n      <td>0.033247</td>\n      <td>0.052923</td>\n      <td>-0.038840</td>\n      <td>0.076241</td>\n      <td>-0.447732</td>\n      <td>1.107732</td>\n      <td>-1.509340</td>\n      <td>-0.394969</td>\n    </tr>\n    <tr>\n      <th>3338</th>\n      <td>1.242035</td>\n      <td>1.152724</td>\n      <td>1.101485</td>\n      <td>2.287304</td>\n      <td>2.289721</td>\n      <td>0.068109</td>\n      <td>0.071020</td>\n      <td>0.052378</td>\n      <td>0.068658</td>\n      <td>0.061545</td>\n      <td>...</td>\n      <td>0.808821</td>\n      <td>2.287331</td>\n      <td>0.185705</td>\n      <td>-0.023422</td>\n      <td>-0.052311</td>\n      <td>0.006074</td>\n      <td>-0.378902</td>\n      <td>-0.525491</td>\n      <td>0.949578</td>\n      <td>-0.266732</td>\n    </tr>\n    <tr>\n      <th>3339</th>\n      <td>0.355780</td>\n      <td>0.669028</td>\n      <td>0.370678</td>\n      <td>0.074651</td>\n      <td>0.079315</td>\n      <td>0.043728</td>\n      <td>0.058967</td>\n      <td>0.046454</td>\n      <td>0.083741</td>\n      <td>0.047261</td>\n      <td>...</td>\n      <td>0.737607</td>\n      <td>0.074509</td>\n      <td>0.105025</td>\n      <td>-0.268666</td>\n      <td>-0.052248</td>\n      <td>0.006492</td>\n      <td>1.250505</td>\n      <td>-0.084611</td>\n      <td>-0.699112</td>\n      <td>1.127521</td>\n    </tr>\n    <tr>\n      <th>3340</th>\n      <td>-0.276685</td>\n      <td>0.049528</td>\n      <td>-0.160340</td>\n      <td>-0.474547</td>\n      <td>-0.474420</td>\n      <td>-0.023089</td>\n      <td>0.080562</td>\n      <td>0.067363</td>\n      <td>0.287176</td>\n      <td>0.081819</td>\n      <td>...</td>\n      <td>0.175421</td>\n      <td>-0.474556</td>\n      <td>0.037352</td>\n      <td>-0.306377</td>\n      <td>-0.052520</td>\n      <td>0.004687</td>\n      <td>7.049132</td>\n      <td>-0.284358</td>\n      <td>-0.887975</td>\n      <td>9.618670</td>\n    </tr>\n  </tbody>\n</table>\n<p>3341 rows × 50 columns</p>\n</div>"
     },
     "execution_count": 9,
     "metadata": {},
     "output_type": "execute_result"
    }
   ],
   "source": [
    "sing_feat_perf = SelectBySingleFeaturePerformance(\n",
    "    estimator=RandomForestClassifier(random_state=1),\n",
    "    scoring='roc_auc',\n",
    "    cv=3,\n",
    "    threshold=None\n",
    ")\n",
    "sing_feat_perf.fit(X, y)\n",
    "X_sing_feat_perf = sing_feat_perf.transform(X)\n",
    "X_sing_feat_perf"
   ],
   "metadata": {
    "collapsed": false,
    "ExecuteTime": {
     "end_time": "2024-04-21T15:15:33.550503200Z",
     "start_time": "2024-04-21T15:13:33.593624900Z"
    }
   },
   "id": "96976428b1ef0ba6"
  },
  {
   "cell_type": "markdown",
   "source": [
    "**p-value** - select with p-value below 0.05"
   ],
   "metadata": {
    "collapsed": false
   },
   "id": "8d933a753d60c9cd"
  },
  {
   "cell_type": "code",
   "execution_count": 10,
   "outputs": [
    {
     "name": "stdout",
     "output_type": "stream",
     "text": [
      "T-statistic for ROA(C) before interest and depreciation before interest: 16.16099397231704, P-value: 1.2674758285996096e-56\n",
      "T-statistic for ROA(A) before interest and % after tax: 17.953189484055414, P-value: 7.104331472625995e-69\n",
      "T-statistic for ROA(B) before interest and depreciation after tax: 16.96342117131794, P-value: 5.626835760253952e-62\n",
      "T-statistic for Operating Gross Margin: 7.633853738719521, P-value: 2.9547193268398404e-14\n",
      "T-statistic for Realized Sales Gross Margin: 7.593553986993562, P-value: 4.014979491051391e-14\n",
      "T-statistic for Operating Profit Rate: 0.11874888516050038, P-value: 0.9054814490160445\n",
      "T-statistic for Pre-tax net Interest Rate: 0.28962985063616997, P-value: 0.7721174106534199\n",
      "T-statistic for After-tax net Interest Rate: 0.17051300690550106, P-value: 0.8646170370154678\n",
      "T-statistic for Non-industry income and expenditure/revenue: 0.611799738478212, P-value: 0.5407119164945315\n",
      "T-statistic for Continuous interest rate (after tax): 0.28353290122273933, P-value: 0.7767859426137114\n",
      "T-statistic for Operating Expense Rate: 0.22009021896440328, P-value: 0.82581434684484\n",
      "T-statistic for Research and development expense rate: 2.656714498797062, P-value: 0.007928175981676985\n",
      "T-statistic for Cash flow rate: 4.162492949005511, P-value: 3.227404023064746e-05\n",
      "T-statistic for Interest-bearing debt interest rate: 1.2237051507795966, P-value: 0.22114982044815315\n",
      "T-statistic for Tax rate (A): 7.51051531464073, P-value: 7.516245257989428e-14\n",
      "T-statistic for Net Value Per Share (B): 11.145436162085156, P-value: 2.3701513356280706e-28\n",
      "T-statistic for Net Value Per Share (A): 11.145609302278855, P-value: 2.3657108579558875e-28\n",
      "T-statistic for Net Value Per Share (C): 11.100468281363522, P-value: 3.85393233516689e-28\n",
      "T-statistic for Persistent EPS in the Last Four Seasons: 14.513939875568251, P-value: 2.4735766735944516e-46\n",
      "T-statistic for Cash Flow Per Share: 4.774928901004307, P-value: 1.8749932868111747e-06\n",
      "T-statistic for Revenue Per Share (Yuan ¥): 0.2741477212172312, P-value: 0.7839880601814851\n",
      "T-statistic for Operating Profit Per Share (Yuan ¥): 8.719906345526478, P-value: 4.312924091522646e-18\n",
      "T-statistic for Per Share Net profit before tax (Yuan ¥): 13.455711340567422, P-value: 3.1272885353056387e-40\n",
      "T-statistic for Realized Sales Gross Profit Growth Rate: -0.02308770561460688, P-value: 0.9815816921422367\n",
      "T-statistic for Operating Profit Growth Rate: 5.833861126670068, P-value: 5.932785380161e-09\n",
      "T-statistic for After-tax Net Profit Growth Rate: 2.631601022122584, P-value: 0.008537453861951956\n",
      "T-statistic for Regular Net Profit Growth Rate: 2.5305819010215176, P-value: 0.011432922318175201\n",
      "T-statistic for Continuous Net Profit Growth Rate: 1.8291458148923792, P-value: 0.06746690687526441\n",
      "T-statistic for Total Asset Growth Rate: 3.456992680442101, P-value: 0.00055306106110859\n",
      "T-statistic for Net Value Growth Rate: -5.096879691609771, P-value: 3.6448784400259384e-07\n",
      "T-statistic for Total Asset Return Growth Rate Ratio: 0.840538951483169, P-value: 0.40066645604817763\n",
      "T-statistic for Cash Reinvestment %: 1.5931698954227211, P-value: 0.11121673434616604\n",
      "T-statistic for Current Ratio: 4.033630541981022, P-value: 5.6150998209175694e-05\n",
      "T-statistic for Quick Ratio: 0.4446491599748423, P-value: 0.6566021343499421\n",
      "T-statistic for Interest Expense Ratio: 0.1149077479538605, P-value: 0.90852515297325\n",
      "T-statistic for Total debt/Total net worth: -1.1270522750607646, P-value: 0.25980136678728494\n",
      "T-statistic for Debt ratio %: -16.287009811086904, P-value: 1.8915260272620414e-57\n",
      "T-statistic for Net worth/Assets: 16.287009811086904, P-value: 1.8915260272620414e-57\n",
      "T-statistic for Long-term fund suitability ratio (A): -1.816866315870688, P-value: 0.0693271978512234\n",
      "T-statistic for Borrowing dependency: -11.638048149573955, P-value: 1.0257844522993775e-30\n",
      "T-statistic for Contingent liabilities/Net worth: -5.398179555924732, P-value: 7.202130139745797e-08\n",
      "T-statistic for Operating profit/Paid-in capital: 8.640281403495376, P-value: 8.552797896238017e-18\n",
      "T-statistic for Net profit before tax/Paid-in capital: 13.707806782274362, P-value: 1.1980832227709038e-41\n",
      "T-statistic for Inventory and accounts receivable/Net value: -5.377910112606382, P-value: 8.053884641147474e-08\n",
      "T-statistic for Total Asset Turnover: 4.678715314674275, P-value: 3.0013923275845895e-06\n",
      "T-statistic for Accounts Receivable Turnover: 0.5885306146747965, P-value: 0.5562159982138525\n",
      "T-statistic for Average Collection Days: 0.3381213618396062, P-value: 0.7352929903374957\n",
      "T-statistic for Inventory Turnover Rate (times): -0.21585003690631194, P-value: 0.8291178280848561\n",
      "T-statistic for Fixed Assets Turnover Frequency: -3.897798566489204, P-value: 9.897777252725065e-05\n",
      "T-statistic for Net Worth Turnover Rate (times): -1.3115738339739524, P-value: 0.18975414122529524\n",
      "T-statistic for Revenue per person: 0.1938215972878512, P-value: 0.8463273653245832\n",
      "T-statistic for Operating profit per person: 6.128803984968316, P-value: 9.887575778456924e-10\n",
      "T-statistic for Allocation rate per person: -0.4993888003644727, P-value: 0.6175384098634131\n",
      "T-statistic for Working Capital to Total Assets: 12.115529832455746, P-value: 4.280981126633181e-33\n",
      "T-statistic for Quick Assets/Total Assets: 5.585073235307185, P-value: 2.5229742770109427e-08\n",
      "T-statistic for Current Assets/Total Assets: 2.9857803051823266, P-value: 0.0028490975958796257\n",
      "T-statistic for Cash/Total Assets: 6.424601654676594, P-value: 1.509620440000932e-10\n",
      "T-statistic for Quick Assets/Current Liability: 0.3351263101834141, P-value: 0.7375508585780745\n",
      "T-statistic for Cash/Current Liability: -4.775950940618825, P-value: 1.8655586195154413e-06\n",
      "T-statistic for Current Liability to Assets: -11.898588881062478, P-value: 5.289246376397549e-32\n",
      "T-statistic for Operating Funds to Liability: 4.304723975637621, P-value: 1.7199853888810302e-05\n",
      "T-statistic for Inventory/Working Capital: -0.2033895805067988, P-value: 0.8388429367437265\n",
      "T-statistic for Inventory/Current Liability: -0.2743928649612291, P-value: 0.7837997000763561\n",
      "T-statistic for Current Liabilities/Liability: 1.635810878096883, P-value: 0.10197342545287848\n",
      "T-statistic for Working Capital/Equity: 8.903864876169669, P-value: 8.672242431360169e-19\n",
      "T-statistic for Current Liabilities/Equity: -10.31178571669274, P-value: 1.4505189848151308e-24\n",
      "T-statistic for Long-term Liability to Current Assets: -1.0223509369500312, P-value: 0.3066888964695924\n",
      "T-statistic for Retained Earnings to Total Assets: 11.960899488638086, P-value: 2.5799662250173056e-32\n",
      "T-statistic for Total income/Total expense: 0.4027949148624985, P-value: 0.6871248890389874\n",
      "T-statistic for Total expense/Assets: -7.596885744583554, P-value: 3.9147027255335306e-14\n",
      "T-statistic for Current Asset Turnover Rate: -0.5646701991795248, P-value: 0.5723360387393945\n",
      "T-statistic for Quick Asset Turnover Rate: -1.1922408773190536, P-value: 0.23325153306547836\n",
      "T-statistic for Working capitcal Turnover Rate: -0.10861453713468075, P-value: 0.9135147563049584\n",
      "T-statistic for Cash Turnover Rate: 1.4244268279159715, P-value: 0.1544164032494964\n",
      "T-statistic for Cash Flow to Sales: -0.17373811846051448, P-value: 0.8620818106759378\n",
      "T-statistic for Fixed Assets to Assets: -5.1785394030590455, P-value: 2.3686580953378165e-07\n",
      "T-statistic for Current Liability to Liability: 1.635810878096883, P-value: 0.10197342545287848\n",
      "T-statistic for Current Liability to Equity: -10.31178571669274, P-value: 1.4505189848151308e-24\n",
      "T-statistic for Equity to Long-term Liability: -8.666984577905978, P-value: 6.8026151695062504e-18\n",
      "T-statistic for Cash Flow to Total Assets: 4.163275035147041, P-value: 3.2164216966519165e-05\n",
      "T-statistic for Cash Flow to Liability: 2.9121035798253376, P-value: 0.0036138337594956303\n",
      "T-statistic for CFO to Assets: 6.782874096137774, P-value: 1.38778338064232e-11\n",
      "T-statistic for Cash Flow to Equity: 5.0629200385167765, P-value: 4.3523093833834766e-07\n",
      "T-statistic for Current Liability to Current Assets: -11.248183228610165, P-value: 7.752604115793644e-29\n",
      "T-statistic for Net Income to Total Assets: 20.332291789441566, P-value: 9.685987823998445e-87\n",
      "T-statistic for Total assets to GNP price: 0.5391319184402495, P-value: 0.5898317776218378\n",
      "T-statistic for No-credit Interval: 0.7595501431841464, P-value: 0.4475771504041547\n",
      "T-statistic for Gross Profit to Sales: 7.6339516442473645, P-value: 2.9525136275279324e-14\n",
      "T-statistic for Net Income to Stockholder's Equity: 10.910804396552054, P-value: 2.9363371052706132e-27\n",
      "T-statistic for Liability to Equity: -10.766146720761707, P-value: 1.3523361734020312e-26\n",
      "T-statistic for Degree of Financial Leverage (DFL): -0.8563347128161112, P-value: 0.3918741152231623\n",
      "T-statistic for Interest Coverage Ratio (Interest expense to EBIT): 0.22694882550275097, P-value: 0.8204774283698792\n",
      "T-statistic for Equity to Liability: 4.236275219135805, P-value: 2.3339751751042544e-05\n"
     ]
    },
    {
     "data": {
      "text/plain": "      ROA(C) before interest and depreciation before interest  \\\n0                                              1.590092         \n1                                             -0.402372         \n2                                              0.609571         \n3                                             -0.697253         \n4                                              0.297770         \n...                                                 ...         \n3336                                          -0.187253         \n3337                                          -0.010002         \n3338                                           1.242035         \n3339                                           0.355780         \n3340                                          -0.276685         \n\n      ROA(A) before interest and % after tax  \\\n0                                   1.784798   \n1                                  -0.192739   \n2                                   0.894529   \n3                                  -0.517997   \n4                                   0.401612   \n...                                      ...   \n3336                               -0.357883   \n3337                               -0.173458   \n3338                                1.152724   \n3339                                0.669028   \n3340                                0.049528   \n\n      ROA(B) before interest and depreciation after tax  \\\n0                                              1.921670   \n1                                             -0.354871   \n2                                              0.794791   \n3                                             -0.669451   \n4                                              0.205063   \n...                                                 ...   \n3336                                          -0.219926   \n3337                                           0.058727   \n3338                                           1.101485   \n3339                                           0.370678   \n3340                                          -0.160340   \n\n      Operating Gross Margin  Realized Sales Gross Margin  \\\n0                   0.483378                     0.449832   \n1                  -0.436031                    -0.435872   \n2                  -0.167775                    -0.167394   \n3                  -0.369420                    -0.332925   \n4                  -0.269277                    -0.268980   \n...                      ...                          ...   \n3336                0.163466                     0.164121   \n3337               -0.330450                    -0.330204   \n3338                2.287304                     2.289721   \n3339                0.074651                     0.079315   \n3340               -0.474547                    -0.474420   \n\n      Research and development expense rate  Cash flow rate  Tax rate (A)  \\\n0                                  2.415194        0.461188     -0.808236   \n1                                 -0.749114       -0.347515      1.484898   \n2                                  1.254051        0.583860     -0.808236   \n3                                 -0.598780        0.140507     -0.808236   \n4                                 -0.356939       -0.267797      0.973470   \n...                                     ...             ...           ...   \n3336                              -0.749114        0.166984      1.132164   \n3337                               0.027545       -0.196651     -0.808236   \n3338                              -0.749114        2.924725      0.431745   \n3339                              -0.345405        0.695293      0.018418   \n3340                              -0.403077       -1.609761     -0.808236   \n\n      Net Value Per Share (B)  Net Value Per Share (A)  ...  \\\n0                    5.157655                 5.134578  ...   \n1                    0.102253                 0.103740  ...   \n2                   -0.018989                -0.016914  ...   \n3                   -0.366369                -0.362606  ...   \n4                   -0.212432                -0.209417  ...   \n...                       ...                      ...  ...   \n3336                -0.607492                -0.602557  ...   \n3337                 0.532732                 0.532127  ...   \n3338                 0.196250                 0.197280  ...   \n3339                 0.273900                 0.274552  ...   \n3340                -0.521668                -0.517151  ...   \n\n      Equity to Liability  our_ROA_C_DebtEquity_Interaction  \\\n0                0.480488                         -0.031746   \n1               -0.575505                         -0.031746   \n2                0.179846                         -0.031746   \n3                0.045298                         -0.031746   \n4               -0.463898                         -0.031746   \n...                   ...                               ...   \n3336             0.158742                         -0.031746   \n3337            -0.447732                         -0.031746   \n3338            -0.378902                         -0.031746   \n3339             1.250505                         -0.031746   \n3340             7.049132                         -0.031746   \n\n      our_ROA_C_DebtAsset_Interaction  our_ROA_A_DebtEquity_Interaction  \\\n0                           -0.994607                         -0.031256   \n1                            1.522828                         -0.031256   \n2                           -0.803270                         -0.031256   \n3                           -0.843734                         -0.031256   \n4                            0.966600                         -0.031256   \n...                               ...                               ...   \n3336                        -0.906813                         -0.031256   \n3337                         0.756950                         -0.031256   \n3338                         0.808570                         -0.031256   \n3339                        -1.561961                         -0.031256   \n3340                        -2.136900                         -0.031256   \n\n      our_ROA_A_DebtAsset_Interaction  our_ROA_B_DebtEquity_Interaction  \\\n0                           -0.973893                         -0.031745   \n1                            1.618574                         -0.031745   \n2                           -0.759551                         -0.031745   \n3                           -0.806358                         -0.031745   \n4                            0.996780                         -0.031745   \n...                               ...                               ...   \n3336                        -0.931278                         -0.031745   \n3337                         0.696184                         -0.031745   \n3338                         0.766257                         -0.031745   \n3339                        -1.534367                         -0.031745   \n3340                        -2.126058                         -0.031745   \n\n      our_ROA_B_DebtAsset_Interaction  our_Profitability_Liquidity_Ratio  \\\n0                           -0.972055                          -0.033592   \n1                            1.552685                           0.029866   \n2                           -0.784119                          -0.605498   \n3                           -0.829482                           0.527645   \n4                            0.921395                          -0.136141   \n...                               ...                                ...   \n3336                        -0.909775                           3.662833   \n3337                         0.775841                           1.107732   \n3338                         0.731721                          -0.525491   \n3339                        -1.562038                          -0.084611   \n3340                        -2.132668                          -0.284358   \n\n      our_Interests_coverage_adjustments  our_CashFlow_to_Debt_Ratio  \n0                              -0.583768                    0.355199  \n1                               0.221399                   -0.496295  \n2                               2.216809                    0.210362  \n3                              -1.092753                    0.002053  \n4                               0.600015                   -0.401602  \n...                                  ...                         ...  \n3336                           -1.288714                    0.098892  \n3337                           -1.509340                   -0.394969  \n3338                            0.949578                   -0.266732  \n3339                           -0.699112                    1.127521  \n3340                           -0.887975                    9.618670  \n\n[3341 rows x 64 columns]",
      "text/html": "<div>\n<style scoped>\n    .dataframe tbody tr th:only-of-type {\n        vertical-align: middle;\n    }\n\n    .dataframe tbody tr th {\n        vertical-align: top;\n    }\n\n    .dataframe thead th {\n        text-align: right;\n    }\n</style>\n<table border=\"1\" class=\"dataframe\">\n  <thead>\n    <tr style=\"text-align: right;\">\n      <th></th>\n      <th>ROA(C) before interest and depreciation before interest</th>\n      <th>ROA(A) before interest and % after tax</th>\n      <th>ROA(B) before interest and depreciation after tax</th>\n      <th>Operating Gross Margin</th>\n      <th>Realized Sales Gross Margin</th>\n      <th>Research and development expense rate</th>\n      <th>Cash flow rate</th>\n      <th>Tax rate (A)</th>\n      <th>Net Value Per Share (B)</th>\n      <th>Net Value Per Share (A)</th>\n      <th>...</th>\n      <th>Equity to Liability</th>\n      <th>our_ROA_C_DebtEquity_Interaction</th>\n      <th>our_ROA_C_DebtAsset_Interaction</th>\n      <th>our_ROA_A_DebtEquity_Interaction</th>\n      <th>our_ROA_A_DebtAsset_Interaction</th>\n      <th>our_ROA_B_DebtEquity_Interaction</th>\n      <th>our_ROA_B_DebtAsset_Interaction</th>\n      <th>our_Profitability_Liquidity_Ratio</th>\n      <th>our_Interests_coverage_adjustments</th>\n      <th>our_CashFlow_to_Debt_Ratio</th>\n    </tr>\n  </thead>\n  <tbody>\n    <tr>\n      <th>0</th>\n      <td>1.590092</td>\n      <td>1.784798</td>\n      <td>1.921670</td>\n      <td>0.483378</td>\n      <td>0.449832</td>\n      <td>2.415194</td>\n      <td>0.461188</td>\n      <td>-0.808236</td>\n      <td>5.157655</td>\n      <td>5.134578</td>\n      <td>...</td>\n      <td>0.480488</td>\n      <td>-0.031746</td>\n      <td>-0.994607</td>\n      <td>-0.031256</td>\n      <td>-0.973893</td>\n      <td>-0.031745</td>\n      <td>-0.972055</td>\n      <td>-0.033592</td>\n      <td>-0.583768</td>\n      <td>0.355199</td>\n    </tr>\n    <tr>\n      <th>1</th>\n      <td>-0.402372</td>\n      <td>-0.192739</td>\n      <td>-0.354871</td>\n      <td>-0.436031</td>\n      <td>-0.435872</td>\n      <td>-0.749114</td>\n      <td>-0.347515</td>\n      <td>1.484898</td>\n      <td>0.102253</td>\n      <td>0.103740</td>\n      <td>...</td>\n      <td>-0.575505</td>\n      <td>-0.031746</td>\n      <td>1.522828</td>\n      <td>-0.031256</td>\n      <td>1.618574</td>\n      <td>-0.031745</td>\n      <td>1.552685</td>\n      <td>0.029866</td>\n      <td>0.221399</td>\n      <td>-0.496295</td>\n    </tr>\n    <tr>\n      <th>2</th>\n      <td>0.609571</td>\n      <td>0.894529</td>\n      <td>0.794791</td>\n      <td>-0.167775</td>\n      <td>-0.167394</td>\n      <td>1.254051</td>\n      <td>0.583860</td>\n      <td>-0.808236</td>\n      <td>-0.018989</td>\n      <td>-0.016914</td>\n      <td>...</td>\n      <td>0.179846</td>\n      <td>-0.031746</td>\n      <td>-0.803270</td>\n      <td>-0.031256</td>\n      <td>-0.759551</td>\n      <td>-0.031745</td>\n      <td>-0.784119</td>\n      <td>-0.605498</td>\n      <td>2.216809</td>\n      <td>0.210362</td>\n    </tr>\n    <tr>\n      <th>3</th>\n      <td>-0.697253</td>\n      <td>-0.517997</td>\n      <td>-0.669451</td>\n      <td>-0.369420</td>\n      <td>-0.332925</td>\n      <td>-0.598780</td>\n      <td>0.140507</td>\n      <td>-0.808236</td>\n      <td>-0.366369</td>\n      <td>-0.362606</td>\n      <td>...</td>\n      <td>0.045298</td>\n      <td>-0.031746</td>\n      <td>-0.843734</td>\n      <td>-0.031256</td>\n      <td>-0.806358</td>\n      <td>-0.031745</td>\n      <td>-0.829482</td>\n      <td>0.527645</td>\n      <td>-1.092753</td>\n      <td>0.002053</td>\n    </tr>\n    <tr>\n      <th>4</th>\n      <td>0.297770</td>\n      <td>0.401612</td>\n      <td>0.205063</td>\n      <td>-0.269277</td>\n      <td>-0.268980</td>\n      <td>-0.356939</td>\n      <td>-0.267797</td>\n      <td>0.973470</td>\n      <td>-0.212432</td>\n      <td>-0.209417</td>\n      <td>...</td>\n      <td>-0.463898</td>\n      <td>-0.031746</td>\n      <td>0.966600</td>\n      <td>-0.031256</td>\n      <td>0.996780</td>\n      <td>-0.031745</td>\n      <td>0.921395</td>\n      <td>-0.136141</td>\n      <td>0.600015</td>\n      <td>-0.401602</td>\n    </tr>\n    <tr>\n      <th>...</th>\n      <td>...</td>\n      <td>...</td>\n      <td>...</td>\n      <td>...</td>\n      <td>...</td>\n      <td>...</td>\n      <td>...</td>\n      <td>...</td>\n      <td>...</td>\n      <td>...</td>\n      <td>...</td>\n      <td>...</td>\n      <td>...</td>\n      <td>...</td>\n      <td>...</td>\n      <td>...</td>\n      <td>...</td>\n      <td>...</td>\n      <td>...</td>\n      <td>...</td>\n      <td>...</td>\n    </tr>\n    <tr>\n      <th>3336</th>\n      <td>-0.187253</td>\n      <td>-0.357883</td>\n      <td>-0.219926</td>\n      <td>0.163466</td>\n      <td>0.164121</td>\n      <td>-0.749114</td>\n      <td>0.166984</td>\n      <td>1.132164</td>\n      <td>-0.607492</td>\n      <td>-0.602557</td>\n      <td>...</td>\n      <td>0.158742</td>\n      <td>-0.031746</td>\n      <td>-0.906813</td>\n      <td>-0.031256</td>\n      <td>-0.931278</td>\n      <td>-0.031745</td>\n      <td>-0.909775</td>\n      <td>3.662833</td>\n      <td>-1.288714</td>\n      <td>0.098892</td>\n    </tr>\n    <tr>\n      <th>3337</th>\n      <td>-0.010002</td>\n      <td>-0.173458</td>\n      <td>0.058727</td>\n      <td>-0.330450</td>\n      <td>-0.330204</td>\n      <td>0.027545</td>\n      <td>-0.196651</td>\n      <td>-0.808236</td>\n      <td>0.532732</td>\n      <td>0.532127</td>\n      <td>...</td>\n      <td>-0.447732</td>\n      <td>-0.031746</td>\n      <td>0.756950</td>\n      <td>-0.031256</td>\n      <td>0.696184</td>\n      <td>-0.031745</td>\n      <td>0.775841</td>\n      <td>1.107732</td>\n      <td>-1.509340</td>\n      <td>-0.394969</td>\n    </tr>\n    <tr>\n      <th>3338</th>\n      <td>1.242035</td>\n      <td>1.152724</td>\n      <td>1.101485</td>\n      <td>2.287304</td>\n      <td>2.289721</td>\n      <td>-0.749114</td>\n      <td>2.924725</td>\n      <td>0.431745</td>\n      <td>0.196250</td>\n      <td>0.197280</td>\n      <td>...</td>\n      <td>-0.378902</td>\n      <td>-0.031746</td>\n      <td>0.808570</td>\n      <td>-0.031256</td>\n      <td>0.766257</td>\n      <td>-0.031745</td>\n      <td>0.731721</td>\n      <td>-0.525491</td>\n      <td>0.949578</td>\n      <td>-0.266732</td>\n    </tr>\n    <tr>\n      <th>3339</th>\n      <td>0.355780</td>\n      <td>0.669028</td>\n      <td>0.370678</td>\n      <td>0.074651</td>\n      <td>0.079315</td>\n      <td>-0.345405</td>\n      <td>0.695293</td>\n      <td>0.018418</td>\n      <td>0.273900</td>\n      <td>0.274552</td>\n      <td>...</td>\n      <td>1.250505</td>\n      <td>-0.031746</td>\n      <td>-1.561961</td>\n      <td>-0.031256</td>\n      <td>-1.534367</td>\n      <td>-0.031745</td>\n      <td>-1.562038</td>\n      <td>-0.084611</td>\n      <td>-0.699112</td>\n      <td>1.127521</td>\n    </tr>\n    <tr>\n      <th>3340</th>\n      <td>-0.276685</td>\n      <td>0.049528</td>\n      <td>-0.160340</td>\n      <td>-0.474547</td>\n      <td>-0.474420</td>\n      <td>-0.403077</td>\n      <td>-1.609761</td>\n      <td>-0.808236</td>\n      <td>-0.521668</td>\n      <td>-0.517151</td>\n      <td>...</td>\n      <td>7.049132</td>\n      <td>-0.031746</td>\n      <td>-2.136900</td>\n      <td>-0.031256</td>\n      <td>-2.126058</td>\n      <td>-0.031745</td>\n      <td>-2.132668</td>\n      <td>-0.284358</td>\n      <td>-0.887975</td>\n      <td>9.618670</td>\n    </tr>\n  </tbody>\n</table>\n<p>3341 rows × 64 columns</p>\n</div>"
     },
     "execution_count": 10,
     "metadata": {},
     "output_type": "execute_result"
    }
   ],
   "source": [
    "cols_to_test = X.columns[:-9]\n",
    "\n",
    "def t_test_for_feature(feature, df):\n",
    "    group1 = df[df['Bankrupt?'] == 0][feature]\n",
    "    group2 = df[df['Bankrupt?'] == 1][feature]\n",
    "    t_stat, p_val = stats.ttest_ind(group1, group2)\n",
    "    print(f\"T-statistic for {feature}: {t_stat}, P-value: {p_val}\")\n",
    "    return p_val <= 0.05\n",
    "\n",
    "smaller_p_vals_than_alpha = [t_test_for_feature(f, df) for f in cols_to_test] + [True for i in range(9)]\n",
    "X_t_test = X.loc[:, smaller_p_vals_than_alpha]\n",
    "X_t_test"
   ],
   "metadata": {
    "collapsed": false,
    "ExecuteTime": {
     "end_time": "2024-04-21T15:40:57.455554700Z",
     "start_time": "2024-04-21T15:40:57.149488800Z"
    }
   },
   "id": "28864e4fd0cdd9d"
  },
  {
   "cell_type": "markdown",
   "source": [
    "**Recursive feature elimination** - Given an external estimator that assigns weights to features, the goal of recursive feature elimination (RFE) is to select features by recursively considering smaller and smaller sets of features"
   ],
   "metadata": {
    "collapsed": false
   },
   "id": "58fac32522090a63"
  },
  {
   "cell_type": "code",
   "execution_count": 11,
   "outputs": [
    {
     "data": {
      "text/plain": "      ROA(C) before interest and depreciation before interest  \\\n0                                              1.590092         \n1                                             -0.402372         \n2                                              0.609571         \n3                                             -0.697253         \n4                                              0.297770         \n...                                                 ...         \n3336                                          -0.187253         \n3337                                          -0.010002         \n3338                                           1.242035         \n3339                                           0.355780         \n3340                                          -0.276685         \n\n      ROA(A) before interest and % after tax  \\\n0                                   1.784798   \n1                                  -0.192739   \n2                                   0.894529   \n3                                  -0.517997   \n4                                   0.401612   \n...                                      ...   \n3336                               -0.357883   \n3337                               -0.173458   \n3338                                1.152724   \n3339                                0.669028   \n3340                                0.049528   \n\n      ROA(B) before interest and depreciation after tax  \\\n0                                              1.921670   \n1                                             -0.354871   \n2                                              0.794791   \n3                                             -0.669451   \n4                                              0.205063   \n...                                                 ...   \n3336                                          -0.219926   \n3337                                           0.058727   \n3338                                           1.101485   \n3339                                           0.370678   \n3340                                          -0.160340   \n\n      Realized Sales Gross Margin  Operating Profit Rate  \\\n0                        0.449832               0.054893   \n1                       -0.435872               0.029452   \n2                       -0.167394               0.034410   \n3                       -0.332925               0.019569   \n4                       -0.268980               0.033213   \n...                           ...                    ...   \n3336                     0.164121               0.017586   \n3337                    -0.330204               0.020869   \n3338                     2.289721               0.068109   \n3339                     0.079315               0.043728   \n3340                    -0.474420              -0.023089   \n\n      Pre-tax net Interest Rate  Cash flow rate  Tax rate (A)  \\\n0                      0.080610        0.461188     -0.808236   \n1                      0.024815       -0.347515      1.484898   \n2                      0.033359        0.583860     -0.808236   \n3                      0.010743        0.140507     -0.808236   \n4                      0.031472       -0.267797      0.973470   \n...                         ...             ...           ...   \n3336                   0.023228        0.166984      1.132164   \n3337                   0.023913       -0.196651     -0.808236   \n3338                   0.071020        2.924725      0.431745   \n3339                   0.058967        0.695293      0.018418   \n3340                   0.080562       -1.609761     -0.808236   \n\n      Net Value Per Share (B)  Net Value Per Share (C)  ...  \\\n0                    5.157655                 5.132081  ...   \n1                    0.102253                 0.102354  ...   \n2                   -0.018989                -0.018272  ...   \n3                   -0.366369                -0.317806  ...   \n4                   -0.212432                -0.210733  ...   \n...                       ...                      ...  ...   \n3336                -0.607492                -0.603786  ...   \n3337                 0.532732                 0.530647  ...   \n3338                 0.196250                 0.195874  ...   \n3339                 0.273900                 0.273129  ...   \n3340                -0.521668                -0.518399  ...   \n\n      Cash Flow to Equity  Current Liability to Current Assets  \\\n0               -0.203516                            -0.019504   \n1               -0.265501                             0.049012   \n2                0.825635                            -0.648957   \n3               -0.096366                             0.574706   \n4                0.275060                            -0.130416   \n...                   ...                                  ...   \n3336            -0.074063                             3.515160   \n3337            -0.072757                             1.165325   \n3338             2.644652                            -0.559454   \n3339             0.101145                            -0.074578   \n3340            -0.029695                            -0.292030   \n\n      Net Income to Total Assets  Net Income to Stockholder's Equity  \\\n0                       1.515307                            0.208196   \n1                      -0.184277                            0.017508   \n2                       0.892134                            0.141656   \n3                      -0.371086                           -0.021506   \n4                       0.376237                            0.125915   \n...                          ...                                 ...   \n3336                   -0.249238                           -0.005266   \n3337                   -0.064895                            0.033247   \n3338                    0.808821                            0.185705   \n3339                    0.737607                            0.105025   \n3340                    0.175421                            0.037352   \n\n      Liability to Equity  our_ROA_C_DebtAsset_Interaction  \\\n0               -0.236128                        -0.994607   \n1                0.395327                         1.522828   \n2               -0.208214                        -0.803270   \n3               -0.188564                        -0.843734   \n4                0.076939                         0.966600   \n...                   ...                              ...   \n3336            -0.205532                        -0.906813   \n3337             0.052923                         0.756950   \n3338            -0.023422                         0.808570   \n3339            -0.268666                        -1.561961   \n3340            -0.306377                        -2.136900   \n\n      our_ROA_A_DebtAsset_Interaction  our_ROA_B_DebtAsset_Interaction  \\\n0                           -0.973893                        -0.972055   \n1                            1.618574                         1.552685   \n2                           -0.759551                        -0.784119   \n3                           -0.806358                        -0.829482   \n4                            0.996780                         0.921395   \n...                               ...                              ...   \n3336                        -0.931278                        -0.909775   \n3337                         0.696184                         0.775841   \n3338                         0.766257                         0.731721   \n3339                        -1.534367                        -1.562038   \n3340                        -2.126058                        -2.132668   \n\n      our_Profitability_Liquidity_Ratio  our_CashFlow_to_Debt_Ratio  \n0                             -0.033592                    0.355199  \n1                              0.029866                   -0.496295  \n2                             -0.605498                    0.210362  \n3                              0.527645                    0.002053  \n4                             -0.136141                   -0.401602  \n...                                 ...                         ...  \n3336                           3.662833                    0.098892  \n3337                           1.107732                   -0.394969  \n3338                          -0.525491                   -0.266732  \n3339                          -0.084611                    1.127521  \n3340                          -0.284358                    9.618670  \n\n[3341 rows x 51 columns]",
      "text/html": "<div>\n<style scoped>\n    .dataframe tbody tr th:only-of-type {\n        vertical-align: middle;\n    }\n\n    .dataframe tbody tr th {\n        vertical-align: top;\n    }\n\n    .dataframe thead th {\n        text-align: right;\n    }\n</style>\n<table border=\"1\" class=\"dataframe\">\n  <thead>\n    <tr style=\"text-align: right;\">\n      <th></th>\n      <th>ROA(C) before interest and depreciation before interest</th>\n      <th>ROA(A) before interest and % after tax</th>\n      <th>ROA(B) before interest and depreciation after tax</th>\n      <th>Realized Sales Gross Margin</th>\n      <th>Operating Profit Rate</th>\n      <th>Pre-tax net Interest Rate</th>\n      <th>Cash flow rate</th>\n      <th>Tax rate (A)</th>\n      <th>Net Value Per Share (B)</th>\n      <th>Net Value Per Share (C)</th>\n      <th>...</th>\n      <th>Cash Flow to Equity</th>\n      <th>Current Liability to Current Assets</th>\n      <th>Net Income to Total Assets</th>\n      <th>Net Income to Stockholder's Equity</th>\n      <th>Liability to Equity</th>\n      <th>our_ROA_C_DebtAsset_Interaction</th>\n      <th>our_ROA_A_DebtAsset_Interaction</th>\n      <th>our_ROA_B_DebtAsset_Interaction</th>\n      <th>our_Profitability_Liquidity_Ratio</th>\n      <th>our_CashFlow_to_Debt_Ratio</th>\n    </tr>\n  </thead>\n  <tbody>\n    <tr>\n      <th>0</th>\n      <td>1.590092</td>\n      <td>1.784798</td>\n      <td>1.921670</td>\n      <td>0.449832</td>\n      <td>0.054893</td>\n      <td>0.080610</td>\n      <td>0.461188</td>\n      <td>-0.808236</td>\n      <td>5.157655</td>\n      <td>5.132081</td>\n      <td>...</td>\n      <td>-0.203516</td>\n      <td>-0.019504</td>\n      <td>1.515307</td>\n      <td>0.208196</td>\n      <td>-0.236128</td>\n      <td>-0.994607</td>\n      <td>-0.973893</td>\n      <td>-0.972055</td>\n      <td>-0.033592</td>\n      <td>0.355199</td>\n    </tr>\n    <tr>\n      <th>1</th>\n      <td>-0.402372</td>\n      <td>-0.192739</td>\n      <td>-0.354871</td>\n      <td>-0.435872</td>\n      <td>0.029452</td>\n      <td>0.024815</td>\n      <td>-0.347515</td>\n      <td>1.484898</td>\n      <td>0.102253</td>\n      <td>0.102354</td>\n      <td>...</td>\n      <td>-0.265501</td>\n      <td>0.049012</td>\n      <td>-0.184277</td>\n      <td>0.017508</td>\n      <td>0.395327</td>\n      <td>1.522828</td>\n      <td>1.618574</td>\n      <td>1.552685</td>\n      <td>0.029866</td>\n      <td>-0.496295</td>\n    </tr>\n    <tr>\n      <th>2</th>\n      <td>0.609571</td>\n      <td>0.894529</td>\n      <td>0.794791</td>\n      <td>-0.167394</td>\n      <td>0.034410</td>\n      <td>0.033359</td>\n      <td>0.583860</td>\n      <td>-0.808236</td>\n      <td>-0.018989</td>\n      <td>-0.018272</td>\n      <td>...</td>\n      <td>0.825635</td>\n      <td>-0.648957</td>\n      <td>0.892134</td>\n      <td>0.141656</td>\n      <td>-0.208214</td>\n      <td>-0.803270</td>\n      <td>-0.759551</td>\n      <td>-0.784119</td>\n      <td>-0.605498</td>\n      <td>0.210362</td>\n    </tr>\n    <tr>\n      <th>3</th>\n      <td>-0.697253</td>\n      <td>-0.517997</td>\n      <td>-0.669451</td>\n      <td>-0.332925</td>\n      <td>0.019569</td>\n      <td>0.010743</td>\n      <td>0.140507</td>\n      <td>-0.808236</td>\n      <td>-0.366369</td>\n      <td>-0.317806</td>\n      <td>...</td>\n      <td>-0.096366</td>\n      <td>0.574706</td>\n      <td>-0.371086</td>\n      <td>-0.021506</td>\n      <td>-0.188564</td>\n      <td>-0.843734</td>\n      <td>-0.806358</td>\n      <td>-0.829482</td>\n      <td>0.527645</td>\n      <td>0.002053</td>\n    </tr>\n    <tr>\n      <th>4</th>\n      <td>0.297770</td>\n      <td>0.401612</td>\n      <td>0.205063</td>\n      <td>-0.268980</td>\n      <td>0.033213</td>\n      <td>0.031472</td>\n      <td>-0.267797</td>\n      <td>0.973470</td>\n      <td>-0.212432</td>\n      <td>-0.210733</td>\n      <td>...</td>\n      <td>0.275060</td>\n      <td>-0.130416</td>\n      <td>0.376237</td>\n      <td>0.125915</td>\n      <td>0.076939</td>\n      <td>0.966600</td>\n      <td>0.996780</td>\n      <td>0.921395</td>\n      <td>-0.136141</td>\n      <td>-0.401602</td>\n    </tr>\n    <tr>\n      <th>...</th>\n      <td>...</td>\n      <td>...</td>\n      <td>...</td>\n      <td>...</td>\n      <td>...</td>\n      <td>...</td>\n      <td>...</td>\n      <td>...</td>\n      <td>...</td>\n      <td>...</td>\n      <td>...</td>\n      <td>...</td>\n      <td>...</td>\n      <td>...</td>\n      <td>...</td>\n      <td>...</td>\n      <td>...</td>\n      <td>...</td>\n      <td>...</td>\n      <td>...</td>\n      <td>...</td>\n    </tr>\n    <tr>\n      <th>3336</th>\n      <td>-0.187253</td>\n      <td>-0.357883</td>\n      <td>-0.219926</td>\n      <td>0.164121</td>\n      <td>0.017586</td>\n      <td>0.023228</td>\n      <td>0.166984</td>\n      <td>1.132164</td>\n      <td>-0.607492</td>\n      <td>-0.603786</td>\n      <td>...</td>\n      <td>-0.074063</td>\n      <td>3.515160</td>\n      <td>-0.249238</td>\n      <td>-0.005266</td>\n      <td>-0.205532</td>\n      <td>-0.906813</td>\n      <td>-0.931278</td>\n      <td>-0.909775</td>\n      <td>3.662833</td>\n      <td>0.098892</td>\n    </tr>\n    <tr>\n      <th>3337</th>\n      <td>-0.010002</td>\n      <td>-0.173458</td>\n      <td>0.058727</td>\n      <td>-0.330204</td>\n      <td>0.020869</td>\n      <td>0.023913</td>\n      <td>-0.196651</td>\n      <td>-0.808236</td>\n      <td>0.532732</td>\n      <td>0.530647</td>\n      <td>...</td>\n      <td>-0.072757</td>\n      <td>1.165325</td>\n      <td>-0.064895</td>\n      <td>0.033247</td>\n      <td>0.052923</td>\n      <td>0.756950</td>\n      <td>0.696184</td>\n      <td>0.775841</td>\n      <td>1.107732</td>\n      <td>-0.394969</td>\n    </tr>\n    <tr>\n      <th>3338</th>\n      <td>1.242035</td>\n      <td>1.152724</td>\n      <td>1.101485</td>\n      <td>2.289721</td>\n      <td>0.068109</td>\n      <td>0.071020</td>\n      <td>2.924725</td>\n      <td>0.431745</td>\n      <td>0.196250</td>\n      <td>0.195874</td>\n      <td>...</td>\n      <td>2.644652</td>\n      <td>-0.559454</td>\n      <td>0.808821</td>\n      <td>0.185705</td>\n      <td>-0.023422</td>\n      <td>0.808570</td>\n      <td>0.766257</td>\n      <td>0.731721</td>\n      <td>-0.525491</td>\n      <td>-0.266732</td>\n    </tr>\n    <tr>\n      <th>3339</th>\n      <td>0.355780</td>\n      <td>0.669028</td>\n      <td>0.370678</td>\n      <td>0.079315</td>\n      <td>0.043728</td>\n      <td>0.058967</td>\n      <td>0.695293</td>\n      <td>0.018418</td>\n      <td>0.273900</td>\n      <td>0.273129</td>\n      <td>...</td>\n      <td>0.101145</td>\n      <td>-0.074578</td>\n      <td>0.737607</td>\n      <td>0.105025</td>\n      <td>-0.268666</td>\n      <td>-1.561961</td>\n      <td>-1.534367</td>\n      <td>-1.562038</td>\n      <td>-0.084611</td>\n      <td>1.127521</td>\n    </tr>\n    <tr>\n      <th>3340</th>\n      <td>-0.276685</td>\n      <td>0.049528</td>\n      <td>-0.160340</td>\n      <td>-0.474420</td>\n      <td>-0.023089</td>\n      <td>0.080562</td>\n      <td>-1.609761</td>\n      <td>-0.808236</td>\n      <td>-0.521668</td>\n      <td>-0.518399</td>\n      <td>...</td>\n      <td>-0.029695</td>\n      <td>-0.292030</td>\n      <td>0.175421</td>\n      <td>0.037352</td>\n      <td>-0.306377</td>\n      <td>-2.136900</td>\n      <td>-2.126058</td>\n      <td>-2.132668</td>\n      <td>-0.284358</td>\n      <td>9.618670</td>\n    </tr>\n  </tbody>\n</table>\n<p>3341 rows × 51 columns</p>\n</div>"
     },
     "execution_count": 11,
     "metadata": {},
     "output_type": "execute_result"
    }
   ],
   "source": [
    "model = LogisticRegression(max_iter=1000)\n",
    "rfe = feature_selection.RFE(estimator=model, n_features_to_select=None)\n",
    "rfe.fit(X, y)\n",
    "X_rfe = rfe.transform(X)\n",
    "X_rfe = pd.DataFrame(X_rfe, columns=rfe.get_feature_names_out())\n",
    "X_rfe"
   ],
   "metadata": {
    "collapsed": false,
    "ExecuteTime": {
     "end_time": "2024-04-21T15:41:06.132233300Z",
     "start_time": "2024-04-21T15:41:03.266509Z"
    }
   },
   "id": "9be39847344bc503"
  },
  {
   "cell_type": "markdown",
   "source": [
    "**Best features from above selections**"
   ],
   "metadata": {
    "collapsed": false
   },
   "id": "86d1db5ee45179f"
  },
  {
   "cell_type": "code",
   "execution_count": 12,
   "outputs": [
    {
     "data": {
      "text/plain": "      ROA(C) before interest and depreciation before interest  \\\n0                                              1.590092         \n1                                             -0.402372         \n2                                              0.609571         \n3                                             -0.697253         \n4                                              0.297770         \n...                                                 ...         \n3336                                          -0.187253         \n3337                                          -0.010002         \n3338                                           1.242035         \n3339                                           0.355780         \n3340                                          -0.276685         \n\n      ROA(A) before interest and % after tax  \\\n0                                   1.784798   \n1                                  -0.192739   \n2                                   0.894529   \n3                                  -0.517997   \n4                                   0.401612   \n...                                      ...   \n3336                               -0.357883   \n3337                               -0.173458   \n3338                                1.152724   \n3339                                0.669028   \n3340                                0.049528   \n\n      ROA(B) before interest and depreciation after tax  \\\n0                                              1.921670   \n1                                             -0.354871   \n2                                              0.794791   \n3                                             -0.669451   \n4                                              0.205063   \n...                                                 ...   \n3336                                          -0.219926   \n3337                                           0.058727   \n3338                                           1.101485   \n3339                                           0.370678   \n3340                                          -0.160340   \n\n      Realized Sales Gross Margin  Tax rate (A)  Net Value Per Share (B)  \\\n0                        0.449832     -0.808236                 5.157655   \n1                       -0.435872      1.484898                 0.102253   \n2                       -0.167394     -0.808236                -0.018989   \n3                       -0.332925     -0.808236                -0.366369   \n4                       -0.268980      0.973470                -0.212432   \n...                           ...           ...                      ...   \n3336                     0.164121      1.132164                -0.607492   \n3337                    -0.330204     -0.808236                 0.532732   \n3338                     2.289721      0.431745                 0.196250   \n3339                     0.079315      0.018418                 0.273900   \n3340                    -0.474420     -0.808236                -0.521668   \n\n      Net Value Per Share (C)  Persistent EPS in the Last Four Seasons  \\\n0                    5.132081                                 4.025152   \n1                    0.102354                                -0.198406   \n2                   -0.018272                                 0.437619   \n3                   -0.317806                                -0.465127   \n4                   -0.210733                                 0.250035   \n...                       ...                                      ...   \n3336                -0.603786                                -0.415300   \n3337                 0.530647                                -0.034271   \n3338                 0.195874                                 0.812786   \n3339                 0.273129                                 0.188484   \n3340                -0.518399                                -0.227716   \n\n      Per Share Net profit before tax (Yuan ¥)  \\\n0                                     3.012140   \n1                                    -0.245933   \n2                                     0.268624   \n3                                    -0.506769   \n4                                     0.320791   \n...                                        ...   \n3336                                 -0.416662   \n3337                                 -0.283873   \n3338                                  0.778439   \n3339                                  0.249654   \n3340                                 -0.274388   \n\n      After-tax Net Profit Growth Rate  ...  \\\n0                             0.025353  ...   \n1                             0.016495  ...   \n2                             0.004303  ...   \n3                            -0.034019  ...   \n4                             0.019022  ...   \n...                                ...  ...   \n3336                         -0.002504  ...   \n3337                          0.009211  ...   \n3338                          0.095104  ...   \n3339                          0.010534  ...   \n3340                          0.005335  ...   \n\n      Net profit before tax/Paid-in capital  Working Capital to Total Assets  \\\n0                                  3.216051                        -0.621425   \n1                                 -0.240324                         0.166190   \n2                                  0.303525                         2.355897   \n3                                 -0.483685                        -1.101781   \n4                                  0.360905                         0.622224   \n...                                     ...                              ...   \n3336                              -0.423788                        -1.434919   \n3337                              -0.281849                        -1.629524   \n3338                               0.785465                         1.007479   \n3339                               0.285657                        -0.745263   \n3340                              -0.272034                        -0.945398   \n\n      Working Capital/Equity  Cash Flow to Liability  \\\n0                  -0.155593               -0.257451   \n1                   0.322613               -0.094326   \n2                   0.441036                0.840001   \n3                  -0.245907               -0.093471   \n4                   0.301289                0.033727   \n...                      ...                     ...   \n3336               -0.312236               -0.076022   \n3337               -0.412056               -0.065737   \n3338                0.335941                0.971540   \n3339               -0.183230                0.298302   \n3340               -0.219884                0.203967   \n\n      Current Liability to Current Assets  Net Income to Total Assets  \\\n0                               -0.019504                    1.515307   \n1                                0.049012                   -0.184277   \n2                               -0.648957                    0.892134   \n3                                0.574706                   -0.371086   \n4                               -0.130416                    0.376237   \n...                                   ...                         ...   \n3336                             3.515160                   -0.249238   \n3337                             1.165325                   -0.064895   \n3338                            -0.559454                    0.808821   \n3339                            -0.074578                    0.737607   \n3340                            -0.292030                    0.175421   \n\n      Net Income to Stockholder's Equity  Liability to Equity  \\\n0                               0.208196            -0.236128   \n1                               0.017508             0.395327   \n2                               0.141656            -0.208214   \n3                              -0.021506            -0.188564   \n4                               0.125915             0.076939   \n...                                  ...                  ...   \n3336                           -0.005266            -0.205532   \n3337                            0.033247             0.052923   \n3338                            0.185705            -0.023422   \n3339                            0.105025            -0.268666   \n3340                            0.037352            -0.306377   \n\n      our_Profitability_Liquidity_Ratio  our_CashFlow_to_Debt_Ratio  \n0                             -0.033592                    0.355199  \n1                              0.029866                   -0.496295  \n2                             -0.605498                    0.210362  \n3                              0.527645                    0.002053  \n4                             -0.136141                   -0.401602  \n...                                 ...                         ...  \n3336                           3.662833                    0.098892  \n3337                           1.107732                   -0.394969  \n3338                          -0.525491                   -0.266732  \n3339                          -0.084611                    1.127521  \n3340                          -0.284358                    9.618670  \n\n[3341 rows x 27 columns]",
      "text/html": "<div>\n<style scoped>\n    .dataframe tbody tr th:only-of-type {\n        vertical-align: middle;\n    }\n\n    .dataframe tbody tr th {\n        vertical-align: top;\n    }\n\n    .dataframe thead th {\n        text-align: right;\n    }\n</style>\n<table border=\"1\" class=\"dataframe\">\n  <thead>\n    <tr style=\"text-align: right;\">\n      <th></th>\n      <th>ROA(C) before interest and depreciation before interest</th>\n      <th>ROA(A) before interest and % after tax</th>\n      <th>ROA(B) before interest and depreciation after tax</th>\n      <th>Realized Sales Gross Margin</th>\n      <th>Tax rate (A)</th>\n      <th>Net Value Per Share (B)</th>\n      <th>Net Value Per Share (C)</th>\n      <th>Persistent EPS in the Last Four Seasons</th>\n      <th>Per Share Net profit before tax (Yuan ¥)</th>\n      <th>After-tax Net Profit Growth Rate</th>\n      <th>...</th>\n      <th>Net profit before tax/Paid-in capital</th>\n      <th>Working Capital to Total Assets</th>\n      <th>Working Capital/Equity</th>\n      <th>Cash Flow to Liability</th>\n      <th>Current Liability to Current Assets</th>\n      <th>Net Income to Total Assets</th>\n      <th>Net Income to Stockholder's Equity</th>\n      <th>Liability to Equity</th>\n      <th>our_Profitability_Liquidity_Ratio</th>\n      <th>our_CashFlow_to_Debt_Ratio</th>\n    </tr>\n  </thead>\n  <tbody>\n    <tr>\n      <th>0</th>\n      <td>1.590092</td>\n      <td>1.784798</td>\n      <td>1.921670</td>\n      <td>0.449832</td>\n      <td>-0.808236</td>\n      <td>5.157655</td>\n      <td>5.132081</td>\n      <td>4.025152</td>\n      <td>3.012140</td>\n      <td>0.025353</td>\n      <td>...</td>\n      <td>3.216051</td>\n      <td>-0.621425</td>\n      <td>-0.155593</td>\n      <td>-0.257451</td>\n      <td>-0.019504</td>\n      <td>1.515307</td>\n      <td>0.208196</td>\n      <td>-0.236128</td>\n      <td>-0.033592</td>\n      <td>0.355199</td>\n    </tr>\n    <tr>\n      <th>1</th>\n      <td>-0.402372</td>\n      <td>-0.192739</td>\n      <td>-0.354871</td>\n      <td>-0.435872</td>\n      <td>1.484898</td>\n      <td>0.102253</td>\n      <td>0.102354</td>\n      <td>-0.198406</td>\n      <td>-0.245933</td>\n      <td>0.016495</td>\n      <td>...</td>\n      <td>-0.240324</td>\n      <td>0.166190</td>\n      <td>0.322613</td>\n      <td>-0.094326</td>\n      <td>0.049012</td>\n      <td>-0.184277</td>\n      <td>0.017508</td>\n      <td>0.395327</td>\n      <td>0.029866</td>\n      <td>-0.496295</td>\n    </tr>\n    <tr>\n      <th>2</th>\n      <td>0.609571</td>\n      <td>0.894529</td>\n      <td>0.794791</td>\n      <td>-0.167394</td>\n      <td>-0.808236</td>\n      <td>-0.018989</td>\n      <td>-0.018272</td>\n      <td>0.437619</td>\n      <td>0.268624</td>\n      <td>0.004303</td>\n      <td>...</td>\n      <td>0.303525</td>\n      <td>2.355897</td>\n      <td>0.441036</td>\n      <td>0.840001</td>\n      <td>-0.648957</td>\n      <td>0.892134</td>\n      <td>0.141656</td>\n      <td>-0.208214</td>\n      <td>-0.605498</td>\n      <td>0.210362</td>\n    </tr>\n    <tr>\n      <th>3</th>\n      <td>-0.697253</td>\n      <td>-0.517997</td>\n      <td>-0.669451</td>\n      <td>-0.332925</td>\n      <td>-0.808236</td>\n      <td>-0.366369</td>\n      <td>-0.317806</td>\n      <td>-0.465127</td>\n      <td>-0.506769</td>\n      <td>-0.034019</td>\n      <td>...</td>\n      <td>-0.483685</td>\n      <td>-1.101781</td>\n      <td>-0.245907</td>\n      <td>-0.093471</td>\n      <td>0.574706</td>\n      <td>-0.371086</td>\n      <td>-0.021506</td>\n      <td>-0.188564</td>\n      <td>0.527645</td>\n      <td>0.002053</td>\n    </tr>\n    <tr>\n      <th>4</th>\n      <td>0.297770</td>\n      <td>0.401612</td>\n      <td>0.205063</td>\n      <td>-0.268980</td>\n      <td>0.973470</td>\n      <td>-0.212432</td>\n      <td>-0.210733</td>\n      <td>0.250035</td>\n      <td>0.320791</td>\n      <td>0.019022</td>\n      <td>...</td>\n      <td>0.360905</td>\n      <td>0.622224</td>\n      <td>0.301289</td>\n      <td>0.033727</td>\n      <td>-0.130416</td>\n      <td>0.376237</td>\n      <td>0.125915</td>\n      <td>0.076939</td>\n      <td>-0.136141</td>\n      <td>-0.401602</td>\n    </tr>\n    <tr>\n      <th>...</th>\n      <td>...</td>\n      <td>...</td>\n      <td>...</td>\n      <td>...</td>\n      <td>...</td>\n      <td>...</td>\n      <td>...</td>\n      <td>...</td>\n      <td>...</td>\n      <td>...</td>\n      <td>...</td>\n      <td>...</td>\n      <td>...</td>\n      <td>...</td>\n      <td>...</td>\n      <td>...</td>\n      <td>...</td>\n      <td>...</td>\n      <td>...</td>\n      <td>...</td>\n      <td>...</td>\n    </tr>\n    <tr>\n      <th>3336</th>\n      <td>-0.187253</td>\n      <td>-0.357883</td>\n      <td>-0.219926</td>\n      <td>0.164121</td>\n      <td>1.132164</td>\n      <td>-0.607492</td>\n      <td>-0.603786</td>\n      <td>-0.415300</td>\n      <td>-0.416662</td>\n      <td>-0.002504</td>\n      <td>...</td>\n      <td>-0.423788</td>\n      <td>-1.434919</td>\n      <td>-0.312236</td>\n      <td>-0.076022</td>\n      <td>3.515160</td>\n      <td>-0.249238</td>\n      <td>-0.005266</td>\n      <td>-0.205532</td>\n      <td>3.662833</td>\n      <td>0.098892</td>\n    </tr>\n    <tr>\n      <th>3337</th>\n      <td>-0.010002</td>\n      <td>-0.173458</td>\n      <td>0.058727</td>\n      <td>-0.330204</td>\n      <td>-0.808236</td>\n      <td>0.532732</td>\n      <td>0.530647</td>\n      <td>-0.034271</td>\n      <td>-0.283873</td>\n      <td>0.009211</td>\n      <td>...</td>\n      <td>-0.281849</td>\n      <td>-1.629524</td>\n      <td>-0.412056</td>\n      <td>-0.065737</td>\n      <td>1.165325</td>\n      <td>-0.064895</td>\n      <td>0.033247</td>\n      <td>0.052923</td>\n      <td>1.107732</td>\n      <td>-0.394969</td>\n    </tr>\n    <tr>\n      <th>3338</th>\n      <td>1.242035</td>\n      <td>1.152724</td>\n      <td>1.101485</td>\n      <td>2.289721</td>\n      <td>0.431745</td>\n      <td>0.196250</td>\n      <td>0.195874</td>\n      <td>0.812786</td>\n      <td>0.778439</td>\n      <td>0.095104</td>\n      <td>...</td>\n      <td>0.785465</td>\n      <td>1.007479</td>\n      <td>0.335941</td>\n      <td>0.971540</td>\n      <td>-0.559454</td>\n      <td>0.808821</td>\n      <td>0.185705</td>\n      <td>-0.023422</td>\n      <td>-0.525491</td>\n      <td>-0.266732</td>\n    </tr>\n    <tr>\n      <th>3339</th>\n      <td>0.355780</td>\n      <td>0.669028</td>\n      <td>0.370678</td>\n      <td>0.079315</td>\n      <td>0.018418</td>\n      <td>0.273900</td>\n      <td>0.273129</td>\n      <td>0.188484</td>\n      <td>0.249654</td>\n      <td>0.010534</td>\n      <td>...</td>\n      <td>0.285657</td>\n      <td>-0.745263</td>\n      <td>-0.183230</td>\n      <td>0.298302</td>\n      <td>-0.074578</td>\n      <td>0.737607</td>\n      <td>0.105025</td>\n      <td>-0.268666</td>\n      <td>-0.084611</td>\n      <td>1.127521</td>\n    </tr>\n    <tr>\n      <th>3340</th>\n      <td>-0.276685</td>\n      <td>0.049528</td>\n      <td>-0.160340</td>\n      <td>-0.474420</td>\n      <td>-0.808236</td>\n      <td>-0.521668</td>\n      <td>-0.518399</td>\n      <td>-0.227716</td>\n      <td>-0.274388</td>\n      <td>0.005335</td>\n      <td>...</td>\n      <td>-0.272034</td>\n      <td>-0.945398</td>\n      <td>-0.219884</td>\n      <td>0.203967</td>\n      <td>-0.292030</td>\n      <td>0.175421</td>\n      <td>0.037352</td>\n      <td>-0.306377</td>\n      <td>-0.284358</td>\n      <td>9.618670</td>\n    </tr>\n  </tbody>\n</table>\n<p>3341 rows × 27 columns</p>\n</div>"
     },
     "execution_count": 12,
     "metadata": {},
     "output_type": "execute_result"
    }
   ],
   "source": [
    "common_columns = X_rfe.columns.intersection(X_t_test.columns).intersection(X_sing_feat_perf.columns)\n",
    "X_selected = X[common_columns]\n",
    "X_selected"
   ],
   "metadata": {
    "collapsed": false,
    "ExecuteTime": {
     "end_time": "2024-04-21T15:41:12.425571500Z",
     "start_time": "2024-04-21T15:41:12.379398900Z"
    }
   },
   "id": "36ab5a3b38b3c0b0"
  },
  {
   "cell_type": "markdown",
   "source": [
    "**Sequential feature selection** - at each stage, this estimator chooses the best feature to add (forward selection) based on the cross-validation score of an estimator."
   ],
   "metadata": {
    "collapsed": false
   },
   "id": "12e21ceffc527ab5"
  },
  {
   "cell_type": "code",
   "execution_count": 15,
   "outputs": [
    {
     "data": {
      "text/plain": "      Tax rate (A)  Net Value Per Share (B)  Net Value Per Share (C)  \\\n0        -0.808236                 5.157655                 5.132081   \n1         1.484898                 0.102253                 0.102354   \n2        -0.808236                -0.018989                -0.018272   \n3        -0.808236                -0.366369                -0.317806   \n4         0.973470                -0.212432                -0.210733   \n...            ...                      ...                      ...   \n3336      1.132164                -0.607492                -0.603786   \n3337     -0.808236                 0.532732                 0.530647   \n3338      0.431745                 0.196250                 0.195874   \n3339      0.018418                 0.273900                 0.273129   \n3340     -0.808236                -0.521668                -0.518399   \n\n      After-tax Net Profit Growth Rate  Regular Net Profit Growth Rate  \\\n0                             0.025353                        0.026415   \n1                             0.016495                        0.017581   \n2                             0.004303                        0.005423   \n3                            -0.034019                       -0.032790   \n4                             0.019022                        0.020060   \n...                                ...                             ...   \n3336                         -0.002504                       -0.001364   \n3337                          0.009211                        0.008631   \n3338                          0.095104                        0.095968   \n3339                          0.010534                        0.011637   \n3340                          0.005335                        0.006453   \n\n      Total Asset Growth Rate  Current Ratio  \\\n0                    1.307121      -0.282321   \n1                   -1.649642      -0.313375   \n2                    0.623277       0.524030   \n3                   -1.884152      -0.463559   \n4                    0.581832      -0.222025   \n...                       ...            ...   \n3336                 0.177742      -0.663136   \n3337                 0.792511      -0.546518   \n3338                -1.884152       0.278174   \n3339                 0.291716      -0.254128   \n3340                 0.136297      -0.101751   \n\n      Operating profit/Paid-in capital  Net profit before tax/Paid-in capital  \\\n0                             1.337375                               3.216051   \n1                             0.069024                              -0.240324   \n2                             0.334126                               0.303525   \n3                            -0.471518                              -0.483685   \n4                             0.485489                               0.360905   \n...                                ...                                    ...   \n3336                         -0.480996                              -0.423788   \n3337                         -0.341696                              -0.281849   \n3338                          0.511626                               0.785465   \n3339                         -0.082052                               0.285657   \n3340                         -0.568885                              -0.272034   \n\n      Cash Flow to Liability  Net Income to Stockholder's Equity  \\\n0                  -0.257451                            0.208196   \n1                  -0.094326                            0.017508   \n2                   0.840001                            0.141656   \n3                  -0.093471                           -0.021506   \n4                   0.033727                            0.125915   \n...                      ...                                 ...   \n3336               -0.076022                           -0.005266   \n3337               -0.065737                            0.033247   \n3338                0.971540                            0.185705   \n3339                0.298302                            0.105025   \n3340                0.203967                            0.037352   \n\n      Liability to Equity  our_CashFlow_to_Debt_Ratio  \n0               -0.236128                    0.355199  \n1                0.395327                   -0.496295  \n2               -0.208214                    0.210362  \n3               -0.188564                    0.002053  \n4                0.076939                   -0.401602  \n...                   ...                         ...  \n3336            -0.205532                    0.098892  \n3337             0.052923                   -0.394969  \n3338            -0.023422                   -0.266732  \n3339            -0.268666                    1.127521  \n3340            -0.306377                    9.618670  \n\n[3341 rows x 13 columns]",
      "text/html": "<div>\n<style scoped>\n    .dataframe tbody tr th:only-of-type {\n        vertical-align: middle;\n    }\n\n    .dataframe tbody tr th {\n        vertical-align: top;\n    }\n\n    .dataframe thead th {\n        text-align: right;\n    }\n</style>\n<table border=\"1\" class=\"dataframe\">\n  <thead>\n    <tr style=\"text-align: right;\">\n      <th></th>\n      <th>Tax rate (A)</th>\n      <th>Net Value Per Share (B)</th>\n      <th>Net Value Per Share (C)</th>\n      <th>After-tax Net Profit Growth Rate</th>\n      <th>Regular Net Profit Growth Rate</th>\n      <th>Total Asset Growth Rate</th>\n      <th>Current Ratio</th>\n      <th>Operating profit/Paid-in capital</th>\n      <th>Net profit before tax/Paid-in capital</th>\n      <th>Cash Flow to Liability</th>\n      <th>Net Income to Stockholder's Equity</th>\n      <th>Liability to Equity</th>\n      <th>our_CashFlow_to_Debt_Ratio</th>\n    </tr>\n  </thead>\n  <tbody>\n    <tr>\n      <th>0</th>\n      <td>-0.808236</td>\n      <td>5.157655</td>\n      <td>5.132081</td>\n      <td>0.025353</td>\n      <td>0.026415</td>\n      <td>1.307121</td>\n      <td>-0.282321</td>\n      <td>1.337375</td>\n      <td>3.216051</td>\n      <td>-0.257451</td>\n      <td>0.208196</td>\n      <td>-0.236128</td>\n      <td>0.355199</td>\n    </tr>\n    <tr>\n      <th>1</th>\n      <td>1.484898</td>\n      <td>0.102253</td>\n      <td>0.102354</td>\n      <td>0.016495</td>\n      <td>0.017581</td>\n      <td>-1.649642</td>\n      <td>-0.313375</td>\n      <td>0.069024</td>\n      <td>-0.240324</td>\n      <td>-0.094326</td>\n      <td>0.017508</td>\n      <td>0.395327</td>\n      <td>-0.496295</td>\n    </tr>\n    <tr>\n      <th>2</th>\n      <td>-0.808236</td>\n      <td>-0.018989</td>\n      <td>-0.018272</td>\n      <td>0.004303</td>\n      <td>0.005423</td>\n      <td>0.623277</td>\n      <td>0.524030</td>\n      <td>0.334126</td>\n      <td>0.303525</td>\n      <td>0.840001</td>\n      <td>0.141656</td>\n      <td>-0.208214</td>\n      <td>0.210362</td>\n    </tr>\n    <tr>\n      <th>3</th>\n      <td>-0.808236</td>\n      <td>-0.366369</td>\n      <td>-0.317806</td>\n      <td>-0.034019</td>\n      <td>-0.032790</td>\n      <td>-1.884152</td>\n      <td>-0.463559</td>\n      <td>-0.471518</td>\n      <td>-0.483685</td>\n      <td>-0.093471</td>\n      <td>-0.021506</td>\n      <td>-0.188564</td>\n      <td>0.002053</td>\n    </tr>\n    <tr>\n      <th>4</th>\n      <td>0.973470</td>\n      <td>-0.212432</td>\n      <td>-0.210733</td>\n      <td>0.019022</td>\n      <td>0.020060</td>\n      <td>0.581832</td>\n      <td>-0.222025</td>\n      <td>0.485489</td>\n      <td>0.360905</td>\n      <td>0.033727</td>\n      <td>0.125915</td>\n      <td>0.076939</td>\n      <td>-0.401602</td>\n    </tr>\n    <tr>\n      <th>...</th>\n      <td>...</td>\n      <td>...</td>\n      <td>...</td>\n      <td>...</td>\n      <td>...</td>\n      <td>...</td>\n      <td>...</td>\n      <td>...</td>\n      <td>...</td>\n      <td>...</td>\n      <td>...</td>\n      <td>...</td>\n      <td>...</td>\n    </tr>\n    <tr>\n      <th>3336</th>\n      <td>1.132164</td>\n      <td>-0.607492</td>\n      <td>-0.603786</td>\n      <td>-0.002504</td>\n      <td>-0.001364</td>\n      <td>0.177742</td>\n      <td>-0.663136</td>\n      <td>-0.480996</td>\n      <td>-0.423788</td>\n      <td>-0.076022</td>\n      <td>-0.005266</td>\n      <td>-0.205532</td>\n      <td>0.098892</td>\n    </tr>\n    <tr>\n      <th>3337</th>\n      <td>-0.808236</td>\n      <td>0.532732</td>\n      <td>0.530647</td>\n      <td>0.009211</td>\n      <td>0.008631</td>\n      <td>0.792511</td>\n      <td>-0.546518</td>\n      <td>-0.341696</td>\n      <td>-0.281849</td>\n      <td>-0.065737</td>\n      <td>0.033247</td>\n      <td>0.052923</td>\n      <td>-0.394969</td>\n    </tr>\n    <tr>\n      <th>3338</th>\n      <td>0.431745</td>\n      <td>0.196250</td>\n      <td>0.195874</td>\n      <td>0.095104</td>\n      <td>0.095968</td>\n      <td>-1.884152</td>\n      <td>0.278174</td>\n      <td>0.511626</td>\n      <td>0.785465</td>\n      <td>0.971540</td>\n      <td>0.185705</td>\n      <td>-0.023422</td>\n      <td>-0.266732</td>\n    </tr>\n    <tr>\n      <th>3339</th>\n      <td>0.018418</td>\n      <td>0.273900</td>\n      <td>0.273129</td>\n      <td>0.010534</td>\n      <td>0.011637</td>\n      <td>0.291716</td>\n      <td>-0.254128</td>\n      <td>-0.082052</td>\n      <td>0.285657</td>\n      <td>0.298302</td>\n      <td>0.105025</td>\n      <td>-0.268666</td>\n      <td>1.127521</td>\n    </tr>\n    <tr>\n      <th>3340</th>\n      <td>-0.808236</td>\n      <td>-0.521668</td>\n      <td>-0.518399</td>\n      <td>0.005335</td>\n      <td>0.006453</td>\n      <td>0.136297</td>\n      <td>-0.101751</td>\n      <td>-0.568885</td>\n      <td>-0.272034</td>\n      <td>0.203967</td>\n      <td>0.037352</td>\n      <td>-0.306377</td>\n      <td>9.618670</td>\n    </tr>\n  </tbody>\n</table>\n<p>3341 rows × 13 columns</p>\n</div>"
     },
     "execution_count": 15,
     "metadata": {},
     "output_type": "execute_result"
    }
   ],
   "source": [
    "knn = KNeighborsClassifier(n_neighbors=3)\n",
    "sfs = feature_selection.SequentialFeatureSelector(knn)\n",
    "sfs.fit(X_selected, y)\n",
    "X_new = pd.DataFrame(sfs.transform(X_selected), columns=sfs.get_feature_names_out())\n",
    "X_new"
   ],
   "metadata": {
    "collapsed": false,
    "ExecuteTime": {
     "end_time": "2024-04-21T15:43:22.416590900Z",
     "start_time": "2024-04-21T15:42:45.722375300Z"
    }
   },
   "id": "2f6dc05428e85c0b"
  },
  {
   "cell_type": "code",
   "execution_count": 16,
   "outputs": [],
   "source": [
    "df_new = pd.concat([y, X_new], axis=1)\n",
    "df_selected = pd.concat([y, X_selected], axis=1)\n",
    "df_new.to_csv('train_after_fe_27.csv')\n",
    "df_selected.to_csv('train_after_fe_13.csv')"
   ],
   "metadata": {
    "collapsed": false,
    "ExecuteTime": {
     "end_time": "2024-04-21T15:47:39.656124500Z",
     "start_time": "2024-04-21T15:47:39.456508200Z"
    }
   },
   "id": "c66797cdc14a259d"
  },
  {
   "cell_type": "markdown",
   "source": [
    "**Prepare csv**"
   ],
   "metadata": {
    "collapsed": false
   },
   "id": "52b46baa4c927206"
  },
  {
   "cell_type": "code",
   "execution_count": 17,
   "outputs": [],
   "source": [
    "# test\n",
    "df = pd.read_csv('dev_valid.csv')\n",
    "df = df[df.columns[2:]]\n",
    "df.columns = [i.strip() for i in df.columns]\n",
    "y = df[df.columns[0]]\n",
    "X = df[df.columns[1:]]\n",
    "##\n",
    "X['our_ROA_C_DebtEquity_Interaction'] = df[df.columns[1]] * df[df.columns[36]]\n",
    "X['our_ROA_C_DebtAsset_Interaction'] = df[df.columns[1]] * df[df.columns[37]]\n",
    "X['our_ROA_A_DebtEquity_Interaction'] = df[df.columns[2]] * df[df.columns[36]]\n",
    "X['our_ROA_A_DebtAsset_Interaction'] = df[df.columns[2]] * df[df.columns[37]]\n",
    "X['our_ROA_B_DebtEquity_Interaction'] = df[df.columns[3]] * df[df.columns[36]]\n",
    "X['our_ROA_B_DebtAsset_Interaction'] = df[df.columns[3]] * df[df.columns[37]]\n",
    "\n",
    "X['our_Profitability_Liquidity_Ratio'] = np.divide(df[df.columns[6]], df[df.columns[33]], out=np.zeros_like(df[df.columns[6]]), where=df[df.columns[33]] != 0)\n",
    "\n",
    "X['our_Interests_coverage_adjustments'] = df[df.columns[93]] * df[df.columns[54]]\n",
    "\n",
    "X['our_CashFlow_to_Debt_Ratio'] = np.divide(df[df.columns[80]], df[df.columns[36]], out=np.zeros_like(df[df.columns[80]]), where=df[df.columns[36]] != 0)\n",
    "\n",
    "cols = X.columns\n",
    "X = pd.DataFrame(StandardScaler().fit_transform(X), columns=cols)\n",
    "X = X.drop(columns=['Net Income Flag', 'Liability-Assets Flag'])\n",
    "\n",
    "X_sing_feat_perf = sing_feat_perf.transform(X)\n",
    "X_t_test = X.loc[:, smaller_p_vals_than_alpha]\n",
    "X_rfe = pd.DataFrame(X_rfe, columns=rfe.get_feature_names_out())\n",
    "common_columns = X_rfe.columns.intersection(X_t_test.columns).intersection(X_sing_feat_perf.columns)\n",
    "X_selected = X[common_columns]\n",
    "X_new = pd.DataFrame(sfs.transform(X_selected), columns=sfs.get_feature_names_out())\n",
    "\n",
    "df_new = pd.concat([y, X_new], axis=1)\n",
    "df_selected = pd.concat([y, X_selected], axis=1)\n",
    "\n",
    "df_new.to_csv('test_after_fe_27.csv')\n",
    "df_selected.to_csv('test_after_fe_13.csv')"
   ],
   "metadata": {
    "collapsed": false,
    "ExecuteTime": {
     "end_time": "2024-04-21T15:48:52.023895700Z",
     "start_time": "2024-04-21T15:48:51.875204700Z"
    }
   },
   "id": "16dad9dbcd2c1fe6"
  },
  {
   "cell_type": "code",
   "execution_count": 18,
   "outputs": [],
   "source": [
    "# valid\n",
    "df = pd.read_csv('valid_test.csv')\n",
    "df = df[df.columns[1:]]\n",
    "df.columns = [i.strip() for i in df.columns]\n",
    "y = df[df.columns[0]]\n",
    "X = df[df.columns[1:]]\n",
    "##\n",
    "X['our_ROA_C_DebtEquity_Interaction'] = df[df.columns[1]] * df[df.columns[36]]\n",
    "X['our_ROA_C_DebtAsset_Interaction'] = df[df.columns[1]] * df[df.columns[37]]\n",
    "X['our_ROA_A_DebtEquity_Interaction'] = df[df.columns[2]] * df[df.columns[36]]\n",
    "X['our_ROA_A_DebtAsset_Interaction'] = df[df.columns[2]] * df[df.columns[37]]\n",
    "X['our_ROA_B_DebtEquity_Interaction'] = df[df.columns[3]] * df[df.columns[36]]\n",
    "X['our_ROA_B_DebtAsset_Interaction'] = df[df.columns[3]] * df[df.columns[37]]\n",
    "\n",
    "X['our_Profitability_Liquidity_Ratio'] = np.divide(df[df.columns[6]], df[df.columns[33]], out=np.zeros_like(df[df.columns[6]]), where=df[df.columns[33]] != 0)\n",
    "\n",
    "X['our_Interests_coverage_adjustments'] = df[df.columns[93]] * df[df.columns[54]]\n",
    "\n",
    "X['our_CashFlow_to_Debt_Ratio'] = np.divide(df[df.columns[80]], df[df.columns[36]], out=np.zeros_like(df[df.columns[80]]), where=df[df.columns[36]] != 0)\n",
    "\n",
    "cols = X.columns\n",
    "X = pd.DataFrame(StandardScaler().fit_transform(X), columns=cols)\n",
    "X = X.drop(columns=['Net Income Flag', 'Liability-Assets Flag'])\n",
    "\n",
    "X_sing_feat_perf = sing_feat_perf.transform(X)\n",
    "X_t_test = X.loc[:, smaller_p_vals_than_alpha]\n",
    "X_rfe = pd.DataFrame(X_rfe, columns=rfe.get_feature_names_out())\n",
    "common_columns = X_rfe.columns.intersection(X_t_test.columns).intersection(X_sing_feat_perf.columns)\n",
    "X_selected = X[common_columns]\n",
    "X_new = pd.DataFrame(sfs.transform(X_selected), columns=sfs.get_feature_names_out())\n",
    "\n",
    "df_new = pd.concat([y, X_new], axis=1)\n",
    "df_selected = pd.concat([y, X_selected], axis=1)\n",
    "\n",
    "df_new.to_csv('valid_after_fe_27.csv')\n",
    "df_selected.to_csv('valid_after_fe_13.csv')"
   ],
   "metadata": {
    "collapsed": false,
    "ExecuteTime": {
     "end_time": "2024-04-21T15:49:38.104163700Z",
     "start_time": "2024-04-21T15:49:37.884372800Z"
    }
   },
   "id": "e2a73cf3ca26842f"
  },
  {
   "cell_type": "code",
   "execution_count": null,
   "outputs": [],
   "source": [],
   "metadata": {
    "collapsed": false
   },
   "id": "6cf0c84f81fac3a4"
  }
 ],
 "metadata": {
  "kernelspec": {
   "display_name": "Python 3",
   "language": "python",
   "name": "python3"
  },
  "language_info": {
   "codemirror_mode": {
    "name": "ipython",
    "version": 2
   },
   "file_extension": ".py",
   "mimetype": "text/x-python",
   "name": "python",
   "nbconvert_exporter": "python",
   "pygments_lexer": "ipython2",
   "version": "2.7.6"
  }
 },
 "nbformat": 4,
 "nbformat_minor": 5
}
