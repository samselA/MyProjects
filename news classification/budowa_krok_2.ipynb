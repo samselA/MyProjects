{
 "cells": [
  {
   "cell_type": "markdown",
   "source": [
    "# Budowa modelu - część 2\n"
   ],
   "metadata": {
    "collapsed": false
   },
   "id": "9b8ee10428e8f99a"
  },
  {
   "cell_type": "code",
   "execution_count": 4,
   "id": "initial_id",
   "metadata": {
    "collapsed": true,
    "ExecuteTime": {
     "end_time": "2024-06-02T09:56:19.873088800Z",
     "start_time": "2024-06-02T09:56:19.634858500Z"
    }
   },
   "outputs": [],
   "source": [
    "import warnings\n",
    "import numpy as np\n",
    "import pandas as pd\n",
    "import matplotlib.pyplot as plt\n",
    "from nltk.tokenize import word_tokenize\n",
    "from nltk.corpus import stopwords\n",
    "from nltk.stem import WordNetLemmatizer\n",
    "from sklearn.feature_extraction.text import TfidfVectorizer, CountVectorizer\n",
    "from nltk.corpus import wordnet\n",
    "from sklearn.cluster import KMeans\n",
    "from sklearn.metrics import silhouette_score\n",
    "from sklearn.decomposition import PCA\n",
    "from sklearn.preprocessing import StandardScaler\n",
    "from textblob import TextBlob\n",
    "import nltk\n",
    "import gensim.downloader as api\n",
    "\n",
    "# from transformers import BertTokenizer, BertModel\n",
    "# import torch\n",
    "# from tqdm import tqdm\n",
    "\n",
    "nltk.download('stopwords')\n",
    "nltk.download('punkt')\n",
    "nltk.download('wordnet')"
   ]
  },
  {
   "cell_type": "markdown",
   "source": [
    "## Wczytanie danych\n",
    "<font color='green'>Uwaga dla zespołu walidacyjnego - przy każdej operacji dla danych treningowych został dodany zakomentowany kod dla danych walidacyjnych. Wystarczy odkomentować odpowiednią linię, aby zastosować operację na danych walidacyjnych.</font>\n",
    "\n",
    "Załadujmy i przekształcmy dane zgodnie z krokiem pierwszym budowy."
   ],
   "metadata": {
    "collapsed": false
   },
   "id": "f56bb44123101fef"
  },
  {
   "cell_type": "code",
   "execution_count": 5,
   "outputs": [],
   "source": [
    "df_train = pd.read_csv('data\\\\X_train.csv')\n",
    "# df_valid = pd.read_csv('data\\\\X_valid.csv')"
   ],
   "metadata": {
    "collapsed": false,
    "ExecuteTime": {
     "end_time": "2024-06-02T09:56:19.957175Z",
     "start_time": "2024-06-02T09:56:19.877321700Z"
    }
   },
   "id": "72365c4a1a8fdec2"
  },
  {
   "cell_type": "code",
   "execution_count": 6,
   "outputs": [],
   "source": [
    "# obróbka danych z kroku 1\n",
    "lemmatizer = WordNetLemmatizer()\n",
    "\n",
    "def get_wordnet_pos(word):\n",
    "    \"\"\"Mapowanie tagów części mowy z biblioteki NLTK na format używany przez WordNetLemmatizer\"\"\"\n",
    "    tag = nltk.pos_tag([word])[0][1][0].upper()\n",
    "    tag_dict = {\n",
    "        \"J\": wordnet.ADJ,\n",
    "        \"N\": wordnet.NOUN,\n",
    "        \"V\": wordnet.VERB,\n",
    "        \"R\": wordnet.ADV\n",
    "    }\n",
    "    return tag_dict.get(tag, wordnet.NOUN)\n",
    "\n",
    "def lemmatize_tokens(tokens):\n",
    "    \"\"\"Lematyzacja tokenów\"\"\"\n",
    "    tokens = word_tokenize(tokens)\n",
    "    lemmatized_tokens = [lemmatizer.lemmatize(token, get_wordnet_pos(token)) for token in tokens]\n",
    "    return ' '.join(lemmatized_tokens)\n",
    "\n",
    "def clean_text(text):\n",
    "    stopwords_set = set(stopwords.words('english'))\n",
    "    tokens = word_tokenize(text.lower())\n",
    "    words = [word for word in tokens if word.isalpha() and word not in stopwords_set]\n",
    "    return words\n",
    "\n",
    "def preprocess_data(df):\n",
    "    df['Cleaned_text'] = df['Text'].apply(lambda x: ' '.join(clean_text(x)))\n",
    "    df['Lemmatized_text'] = df['Cleaned_text'].apply(lemmatize_tokens)\n",
    "    df = df.drop(columns=['Cleaned_text'])\n",
    "    df = df.drop_duplicates(subset='Lemmatized_text', keep=\"last\")\n",
    "    df = df.reset_index(drop=True)\n",
    "    return df"
   ],
   "metadata": {
    "collapsed": false,
    "ExecuteTime": {
     "end_time": "2024-06-02T09:56:19.989073500Z",
     "start_time": "2024-06-02T09:56:19.944435900Z"
    }
   },
   "id": "d95e92d9717929e4"
  },
  {
   "cell_type": "markdown",
   "source": [
    "Otrzymujemy w ten sposób dane z 2 kolumnami - 'Lemmatized_text' oraz 'Text'. Pierwsza z nich zawiera tekst po lematyzacji, druga to tekst oryginalny. W dalszej części będziemy pracować na kolumnie 'Lemmatized_text'."
   ],
   "metadata": {
    "collapsed": false
   },
   "id": "87b27ce327740aa2"
  },
  {
   "cell_type": "code",
   "execution_count": 7,
   "outputs": [],
   "source": [
    "df_train = preprocess_data(df_train)    # może to potrwać do 2 minut\n",
    "# df_valid = preprocess_data(df_valid)"
   ],
   "metadata": {
    "collapsed": false,
    "ExecuteTime": {
     "end_time": "2024-06-02T09:57:59.112589900Z",
     "start_time": "2024-06-02T09:56:19.994811800Z"
    }
   },
   "id": "6c40586329e37a42"
  },
  {
   "cell_type": "code",
   "execution_count": 8,
   "outputs": [
    {
     "data": {
      "text/plain": "                                                   Text  \\\n0     Double eviction from Big Brother\\n \\n Model Ca...   \n1     Ailing EuroDisney vows turnaround\\n \\n EuroDis...   \n2     Japanese growth grinds to a halt\\n \\n Growth i...   \n3     Small firms 'hit by rising costs'\\n \\n Rising ...   \n4     Mexicans tracking unhappy Juninho\\n \\n Mexican...   \n...                                                 ...   \n1060  February poll claim 'speculation'\\n \\n Reports...   \n1061  Carry On star Patsy Rowlands dies\\n \\n Actress...   \n1062  Ferguson puts faith in youngsters\\n \\n Manches...   \n1063  Security warning over 'FBI virus'\\n \\n The US ...   \n1064  Deutsche Telekom sees mobile gain\\n \\n German ...   \n\n                                        Lemmatized_text  \n0     double eviction big brother model caprice holb...  \n1     ail eurodisney vow turnaround eurodisney europ...  \n2     japanese growth grind halt growth japan evapor...  \n3     small firm rise rise fuel material cost hit co...  \n4     mexican track unhappy juninho mexican outfit r...  \n...                                                 ...  \n1060  february poll claim report tony blair planning...  \n1061  carry star patsy rowlands dy actress patsy row...  \n1062  ferguson put faith youngster manchester united...  \n1063  security warn u federal bureau investigation w...  \n1064  deutsche telekom see mobile gain german teleco...  \n\n[1065 rows x 2 columns]",
      "text/html": "<div>\n<style scoped>\n    .dataframe tbody tr th:only-of-type {\n        vertical-align: middle;\n    }\n\n    .dataframe tbody tr th {\n        vertical-align: top;\n    }\n\n    .dataframe thead th {\n        text-align: right;\n    }\n</style>\n<table border=\"1\" class=\"dataframe\">\n  <thead>\n    <tr style=\"text-align: right;\">\n      <th></th>\n      <th>Text</th>\n      <th>Lemmatized_text</th>\n    </tr>\n  </thead>\n  <tbody>\n    <tr>\n      <th>0</th>\n      <td>Double eviction from Big Brother\\n \\n Model Ca...</td>\n      <td>double eviction big brother model caprice holb...</td>\n    </tr>\n    <tr>\n      <th>1</th>\n      <td>Ailing EuroDisney vows turnaround\\n \\n EuroDis...</td>\n      <td>ail eurodisney vow turnaround eurodisney europ...</td>\n    </tr>\n    <tr>\n      <th>2</th>\n      <td>Japanese growth grinds to a halt\\n \\n Growth i...</td>\n      <td>japanese growth grind halt growth japan evapor...</td>\n    </tr>\n    <tr>\n      <th>3</th>\n      <td>Small firms 'hit by rising costs'\\n \\n Rising ...</td>\n      <td>small firm rise rise fuel material cost hit co...</td>\n    </tr>\n    <tr>\n      <th>4</th>\n      <td>Mexicans tracking unhappy Juninho\\n \\n Mexican...</td>\n      <td>mexican track unhappy juninho mexican outfit r...</td>\n    </tr>\n    <tr>\n      <th>...</th>\n      <td>...</td>\n      <td>...</td>\n    </tr>\n    <tr>\n      <th>1060</th>\n      <td>February poll claim 'speculation'\\n \\n Reports...</td>\n      <td>february poll claim report tony blair planning...</td>\n    </tr>\n    <tr>\n      <th>1061</th>\n      <td>Carry On star Patsy Rowlands dies\\n \\n Actress...</td>\n      <td>carry star patsy rowlands dy actress patsy row...</td>\n    </tr>\n    <tr>\n      <th>1062</th>\n      <td>Ferguson puts faith in youngsters\\n \\n Manches...</td>\n      <td>ferguson put faith youngster manchester united...</td>\n    </tr>\n    <tr>\n      <th>1063</th>\n      <td>Security warning over 'FBI virus'\\n \\n The US ...</td>\n      <td>security warn u federal bureau investigation w...</td>\n    </tr>\n    <tr>\n      <th>1064</th>\n      <td>Deutsche Telekom sees mobile gain\\n \\n German ...</td>\n      <td>deutsche telekom see mobile gain german teleco...</td>\n    </tr>\n  </tbody>\n</table>\n<p>1065 rows × 2 columns</p>\n</div>"
     },
     "execution_count": 8,
     "metadata": {},
     "output_type": "execute_result"
    }
   ],
   "source": [
    "df_train\n",
    "# df_valid"
   ],
   "metadata": {
    "collapsed": false,
    "ExecuteTime": {
     "end_time": "2024-06-02T09:57:59.154793700Z",
     "start_time": "2024-06-02T09:57:59.114853400Z"
    }
   },
   "id": "9bfe227a951fd4aa"
  },
  {
   "cell_type": "markdown",
   "source": [
    "## Feature Engineering\n",
    "\n",
    "Ta część polega na przekształceniu tekstu na wektory, które będą podstawą do stworzenia modelu. W tym celu wykorzystamy kilka metod:\n",
    "- Tf-Idf, która przypisuje wagę słowom w zależności od ich częstości w tekście\n",
    "- analiza sentymentu, która przypisuje wartość sentymentu do tekstu\n",
    "- word embeddings (Word2Vec, GloVe, BERT), które przekształcają słowa na wektory\n",
    "- wykorzystanie bigramów i trigramów, dla których zliczymy częstość występowania"
   ],
   "metadata": {
    "collapsed": false
   },
   "id": "a68d9c056c839144"
  },
  {
   "cell_type": "markdown",
   "source": [
    "### Tf-Idf"
   ],
   "metadata": {
    "collapsed": false
   },
   "id": "c8afaf85a5b41dc0"
  },
  {
   "cell_type": "code",
   "execution_count": 31,
   "outputs": [],
   "source": [
    "tfidf = TfidfVectorizer(max_features=5000, max_df=0.95, min_df=2)\n",
    "tfidf_features = tfidf.fit_transform(df_train['Lemmatized_text'])\n",
    "tfidf_df = pd.DataFrame(tfidf_features.toarray(), columns=tfidf.get_feature_names_out())\n",
    "\n",
    "# tfidf_features_valid = tfidf.fit_transform(df_valid['Lemmatized_text'])\n",
    "# tfidf_df_valid = pd.DataFrame(tfidf_features_valid.toarray(), columns=tfidf.get_feature_names_out())"
   ],
   "metadata": {
    "collapsed": false,
    "ExecuteTime": {
     "end_time": "2024-06-02T10:01:55.440234500Z",
     "start_time": "2024-06-02T10:01:55.162469300Z"
    }
   },
   "id": "7ae4f60f9bca51c9"
  },
  {
   "cell_type": "code",
   "execution_count": 10,
   "outputs": [
    {
     "data": {
      "text/plain": "(1065, 5000)"
     },
     "execution_count": 10,
     "metadata": {},
     "output_type": "execute_result"
    }
   ],
   "source": [
    "tfidf_features.shape"
   ],
   "metadata": {
    "collapsed": false,
    "ExecuteTime": {
     "end_time": "2024-06-02T09:57:59.429475300Z",
     "start_time": "2024-06-02T09:57:59.412126100Z"
    }
   },
   "id": "88b3962c949089ef"
  },
  {
   "cell_type": "markdown",
   "source": [
    "Mamy 5000 kolumn, co oznacza, że dla każdego tekstu mamy 5000 wartości tf-idf. Zostaną one wykorzystane jako feature do modelu. Każda kolumna odpowiada jednemu słowu, co możemy zobaczyć poniżej. Ta tabela jest bardzo rzadka, ponieważ większość wartości to 0."
   ],
   "metadata": {
    "collapsed": false
   },
   "id": "59b67250d106a7da"
  },
  {
   "cell_type": "code",
   "execution_count": 11,
   "outputs": [
    {
     "data": {
      "text/plain": "    ability  able  abolish  abortion  abortionist  abroad   absence  absent  \\\n0       0.0   0.0      0.0       0.0          0.0     0.0  0.000000     0.0   \n1       0.0   0.0      0.0       0.0          0.0     0.0  0.000000     0.0   \n2       0.0   0.0      0.0       0.0          0.0     0.0  0.000000     0.0   \n3       0.0   0.0      0.0       0.0          0.0     0.0  0.000000     0.0   \n4       0.0   0.0      0.0       0.0          0.0     0.0  0.000000     0.0   \n5       0.0   0.0      0.0       0.0          0.0     0.0  0.000000     0.0   \n6       0.0   0.0      0.0       0.0          0.0     0.0  0.070829     0.0   \n7       0.0   0.0      0.0       0.0          0.0     0.0  0.000000     0.0   \n8       0.0   0.0      0.0       0.0          0.0     0.0  0.000000     0.0   \n9       0.0   0.0      0.0       0.0          0.0     0.0  0.000000     0.0   \n10      0.0   0.0      0.0       0.0          0.0     0.0  0.067675     0.0   \n\n    absolute  absolutely  ...  borrowing  bortolami  bos  boss  boston  \\\n0        0.0         0.0  ...        0.0        0.0  0.0   0.0     0.0   \n1        0.0         0.0  ...        0.0        0.0  0.0   0.0     0.0   \n2        0.0         0.0  ...        0.0        0.0  0.0   0.0     0.0   \n3        0.0         0.0  ...        0.0        0.0  0.0   0.0     0.0   \n4        0.0         0.0  ...        0.0        0.0  0.0   0.0     0.0   \n5        0.0         0.0  ...        0.0        0.0  0.0   0.0     0.0   \n6        0.0         0.0  ...        0.0        0.0  0.0   0.0     0.0   \n7        0.0         0.0  ...        0.0        0.0  0.0   0.0     0.0   \n8        0.0         0.0  ...        0.0        0.0  0.0   0.0     0.0   \n9        0.0         0.0  ...        0.0        0.0  0.0   0.0     0.0   \n10       0.0         0.0  ...        0.0        0.0  0.0   0.0     0.0   \n\n    bosvelt  bot  bottle  bottom  bought  \n0       0.0  0.0     0.0     0.0     0.0  \n1       0.0  0.0     0.0     0.0     0.0  \n2       0.0  0.0     0.0     0.0     0.0  \n3       0.0  0.0     0.0     0.0     0.0  \n4       0.0  0.0     0.0     0.0     0.0  \n5       0.0  0.0     0.0     0.0     0.0  \n6       0.0  0.0     0.0     0.0     0.0  \n7       0.0  0.0     0.0     0.0     0.0  \n8       0.0  0.0     0.0     0.0     0.0  \n9       0.0  0.0     0.0     0.0     0.0  \n10      0.0  0.0     0.0     0.0     0.0  \n\n[11 rows x 502 columns]",
      "text/html": "<div>\n<style scoped>\n    .dataframe tbody tr th:only-of-type {\n        vertical-align: middle;\n    }\n\n    .dataframe tbody tr th {\n        vertical-align: top;\n    }\n\n    .dataframe thead th {\n        text-align: right;\n    }\n</style>\n<table border=\"1\" class=\"dataframe\">\n  <thead>\n    <tr style=\"text-align: right;\">\n      <th></th>\n      <th>ability</th>\n      <th>able</th>\n      <th>abolish</th>\n      <th>abortion</th>\n      <th>abortionist</th>\n      <th>abroad</th>\n      <th>absence</th>\n      <th>absent</th>\n      <th>absolute</th>\n      <th>absolutely</th>\n      <th>...</th>\n      <th>borrowing</th>\n      <th>bortolami</th>\n      <th>bos</th>\n      <th>boss</th>\n      <th>boston</th>\n      <th>bosvelt</th>\n      <th>bot</th>\n      <th>bottle</th>\n      <th>bottom</th>\n      <th>bought</th>\n    </tr>\n  </thead>\n  <tbody>\n    <tr>\n      <th>0</th>\n      <td>0.0</td>\n      <td>0.0</td>\n      <td>0.0</td>\n      <td>0.0</td>\n      <td>0.0</td>\n      <td>0.0</td>\n      <td>0.000000</td>\n      <td>0.0</td>\n      <td>0.0</td>\n      <td>0.0</td>\n      <td>...</td>\n      <td>0.0</td>\n      <td>0.0</td>\n      <td>0.0</td>\n      <td>0.0</td>\n      <td>0.0</td>\n      <td>0.0</td>\n      <td>0.0</td>\n      <td>0.0</td>\n      <td>0.0</td>\n      <td>0.0</td>\n    </tr>\n    <tr>\n      <th>1</th>\n      <td>0.0</td>\n      <td>0.0</td>\n      <td>0.0</td>\n      <td>0.0</td>\n      <td>0.0</td>\n      <td>0.0</td>\n      <td>0.000000</td>\n      <td>0.0</td>\n      <td>0.0</td>\n      <td>0.0</td>\n      <td>...</td>\n      <td>0.0</td>\n      <td>0.0</td>\n      <td>0.0</td>\n      <td>0.0</td>\n      <td>0.0</td>\n      <td>0.0</td>\n      <td>0.0</td>\n      <td>0.0</td>\n      <td>0.0</td>\n      <td>0.0</td>\n    </tr>\n    <tr>\n      <th>2</th>\n      <td>0.0</td>\n      <td>0.0</td>\n      <td>0.0</td>\n      <td>0.0</td>\n      <td>0.0</td>\n      <td>0.0</td>\n      <td>0.000000</td>\n      <td>0.0</td>\n      <td>0.0</td>\n      <td>0.0</td>\n      <td>...</td>\n      <td>0.0</td>\n      <td>0.0</td>\n      <td>0.0</td>\n      <td>0.0</td>\n      <td>0.0</td>\n      <td>0.0</td>\n      <td>0.0</td>\n      <td>0.0</td>\n      <td>0.0</td>\n      <td>0.0</td>\n    </tr>\n    <tr>\n      <th>3</th>\n      <td>0.0</td>\n      <td>0.0</td>\n      <td>0.0</td>\n      <td>0.0</td>\n      <td>0.0</td>\n      <td>0.0</td>\n      <td>0.000000</td>\n      <td>0.0</td>\n      <td>0.0</td>\n      <td>0.0</td>\n      <td>...</td>\n      <td>0.0</td>\n      <td>0.0</td>\n      <td>0.0</td>\n      <td>0.0</td>\n      <td>0.0</td>\n      <td>0.0</td>\n      <td>0.0</td>\n      <td>0.0</td>\n      <td>0.0</td>\n      <td>0.0</td>\n    </tr>\n    <tr>\n      <th>4</th>\n      <td>0.0</td>\n      <td>0.0</td>\n      <td>0.0</td>\n      <td>0.0</td>\n      <td>0.0</td>\n      <td>0.0</td>\n      <td>0.000000</td>\n      <td>0.0</td>\n      <td>0.0</td>\n      <td>0.0</td>\n      <td>...</td>\n      <td>0.0</td>\n      <td>0.0</td>\n      <td>0.0</td>\n      <td>0.0</td>\n      <td>0.0</td>\n      <td>0.0</td>\n      <td>0.0</td>\n      <td>0.0</td>\n      <td>0.0</td>\n      <td>0.0</td>\n    </tr>\n    <tr>\n      <th>5</th>\n      <td>0.0</td>\n      <td>0.0</td>\n      <td>0.0</td>\n      <td>0.0</td>\n      <td>0.0</td>\n      <td>0.0</td>\n      <td>0.000000</td>\n      <td>0.0</td>\n      <td>0.0</td>\n      <td>0.0</td>\n      <td>...</td>\n      <td>0.0</td>\n      <td>0.0</td>\n      <td>0.0</td>\n      <td>0.0</td>\n      <td>0.0</td>\n      <td>0.0</td>\n      <td>0.0</td>\n      <td>0.0</td>\n      <td>0.0</td>\n      <td>0.0</td>\n    </tr>\n    <tr>\n      <th>6</th>\n      <td>0.0</td>\n      <td>0.0</td>\n      <td>0.0</td>\n      <td>0.0</td>\n      <td>0.0</td>\n      <td>0.0</td>\n      <td>0.070829</td>\n      <td>0.0</td>\n      <td>0.0</td>\n      <td>0.0</td>\n      <td>...</td>\n      <td>0.0</td>\n      <td>0.0</td>\n      <td>0.0</td>\n      <td>0.0</td>\n      <td>0.0</td>\n      <td>0.0</td>\n      <td>0.0</td>\n      <td>0.0</td>\n      <td>0.0</td>\n      <td>0.0</td>\n    </tr>\n    <tr>\n      <th>7</th>\n      <td>0.0</td>\n      <td>0.0</td>\n      <td>0.0</td>\n      <td>0.0</td>\n      <td>0.0</td>\n      <td>0.0</td>\n      <td>0.000000</td>\n      <td>0.0</td>\n      <td>0.0</td>\n      <td>0.0</td>\n      <td>...</td>\n      <td>0.0</td>\n      <td>0.0</td>\n      <td>0.0</td>\n      <td>0.0</td>\n      <td>0.0</td>\n      <td>0.0</td>\n      <td>0.0</td>\n      <td>0.0</td>\n      <td>0.0</td>\n      <td>0.0</td>\n    </tr>\n    <tr>\n      <th>8</th>\n      <td>0.0</td>\n      <td>0.0</td>\n      <td>0.0</td>\n      <td>0.0</td>\n      <td>0.0</td>\n      <td>0.0</td>\n      <td>0.000000</td>\n      <td>0.0</td>\n      <td>0.0</td>\n      <td>0.0</td>\n      <td>...</td>\n      <td>0.0</td>\n      <td>0.0</td>\n      <td>0.0</td>\n      <td>0.0</td>\n      <td>0.0</td>\n      <td>0.0</td>\n      <td>0.0</td>\n      <td>0.0</td>\n      <td>0.0</td>\n      <td>0.0</td>\n    </tr>\n    <tr>\n      <th>9</th>\n      <td>0.0</td>\n      <td>0.0</td>\n      <td>0.0</td>\n      <td>0.0</td>\n      <td>0.0</td>\n      <td>0.0</td>\n      <td>0.000000</td>\n      <td>0.0</td>\n      <td>0.0</td>\n      <td>0.0</td>\n      <td>...</td>\n      <td>0.0</td>\n      <td>0.0</td>\n      <td>0.0</td>\n      <td>0.0</td>\n      <td>0.0</td>\n      <td>0.0</td>\n      <td>0.0</td>\n      <td>0.0</td>\n      <td>0.0</td>\n      <td>0.0</td>\n    </tr>\n    <tr>\n      <th>10</th>\n      <td>0.0</td>\n      <td>0.0</td>\n      <td>0.0</td>\n      <td>0.0</td>\n      <td>0.0</td>\n      <td>0.0</td>\n      <td>0.067675</td>\n      <td>0.0</td>\n      <td>0.0</td>\n      <td>0.0</td>\n      <td>...</td>\n      <td>0.0</td>\n      <td>0.0</td>\n      <td>0.0</td>\n      <td>0.0</td>\n      <td>0.0</td>\n      <td>0.0</td>\n      <td>0.0</td>\n      <td>0.0</td>\n      <td>0.0</td>\n      <td>0.0</td>\n    </tr>\n  </tbody>\n</table>\n<p>11 rows × 502 columns</p>\n</div>"
     },
     "execution_count": 11,
     "metadata": {},
     "output_type": "execute_result"
    }
   ],
   "source": [
    "tfidf_df.loc[:10, 'ability':'bought']"
   ],
   "metadata": {
    "collapsed": false,
    "ExecuteTime": {
     "end_time": "2024-06-02T09:57:59.498025Z",
     "start_time": "2024-06-02T09:57:59.431476500Z"
    }
   },
   "id": "ef531793ef26ced7"
  },
  {
   "cell_type": "markdown",
   "source": [
    "### Analiza sentymentu"
   ],
   "metadata": {
    "collapsed": false
   },
   "id": "4e1257fac811e0a2"
  },
  {
   "cell_type": "code",
   "execution_count": 12,
   "outputs": [],
   "source": [
    "sentiment = np.array(df_train['Lemmatized_text'].apply(lambda x: TextBlob(x).sentiment.polarity))\n",
    "\n",
    "# sentiment_valid = np.array(df_valid['Lemmatized_text'].apply(lambda x: TextBlob(x).sentiment.polarity))"
   ],
   "metadata": {
    "collapsed": false,
    "ExecuteTime": {
     "end_time": "2024-06-02T09:58:00.900398600Z",
     "start_time": "2024-06-02T09:57:59.495948300Z"
    }
   },
   "id": "56d81653067c7def"
  },
  {
   "cell_type": "code",
   "execution_count": 13,
   "outputs": [
    {
     "data": {
      "text/plain": "array([ 0.1173913 ,  0.00021645, -0.01043103, ...,  0.01666667,\n       -0.08888889,  0.01611111])"
     },
     "execution_count": 13,
     "metadata": {},
     "output_type": "execute_result"
    }
   ],
   "source": [
    "sentiment"
   ],
   "metadata": {
    "collapsed": false,
    "ExecuteTime": {
     "end_time": "2024-06-02T09:58:00.923398400Z",
     "start_time": "2024-06-02T09:58:00.906399100Z"
    }
   },
   "id": "b83d0e96ec5adf67"
  },
  {
   "cell_type": "markdown",
   "source": [
    "Mamy utworzoną macierz sentiment, która zawiera wartość sentymentu dla danego tekstu. Jest to wartość z przedziału [-1, 1], gdzie -1 oznacza negatywny sentyment, 0 neutralny, a 1 pozytywny. Wartości te będą wykorzystane jako dodatkowy feature. Zostało to policzone na podstawie biblioteki TextBlob, która oferuje wcześniej wytrenowany model do analizy sentymentu."
   ],
   "metadata": {
    "collapsed": false
   },
   "id": "db1b8a8a4766acf2"
  },
  {
   "cell_type": "markdown",
   "source": [
    "### Word embeddings\n",
    "\n",
    "#### Word2Vec"
   ],
   "metadata": {
    "collapsed": false
   },
   "id": "59bb0ec972fa2e07"
  },
  {
   "cell_type": "code",
   "execution_count": 14,
   "outputs": [],
   "source": [
    "# to może zająć nawet kilka minut\n",
    "word2vec_model = api.load('word2vec-google-news-300')"
   ],
   "metadata": {
    "collapsed": false,
    "ExecuteTime": {
     "end_time": "2024-06-02T09:58:55.064701900Z",
     "start_time": "2024-06-02T09:58:00.918099800Z"
    }
   },
   "id": "9ece310cf0acb0db"
  },
  {
   "cell_type": "code",
   "execution_count": 15,
   "outputs": [],
   "source": [
    "def get_document_vector(doc, embeddings, size=300):\n",
    "    tokens = doc.lower().split()\n",
    "    word_vectors = [embeddings[word] for word in tokens if word in embeddings]\n",
    "    if word_vectors:\n",
    "        return np.mean(word_vectors, axis=0)\n",
    "    else:\n",
    "        return np.zeros(size)"
   ],
   "metadata": {
    "collapsed": false,
    "ExecuteTime": {
     "end_time": "2024-06-02T09:58:55.460292300Z",
     "start_time": "2024-06-02T09:58:55.043072600Z"
    }
   },
   "id": "135f618f7ea8c712"
  },
  {
   "cell_type": "code",
   "execution_count": 16,
   "outputs": [],
   "source": [
    "df_train['word2vec_vector'] = df_train['Lemmatized_text'].apply(lambda x: get_document_vector(x, word2vec_model, size=300))\n",
    "word2vec_features = np.vstack(df_train['word2vec_vector'].values)\n",
    "\n",
    "# df_valid['word2vec_vector'] = df_valid['Lemmatized_text'].apply(lambda x: get_document_vector(x, word2vec_model, size=300))\n",
    "# word2vec_features_valid = np.vstack(df_valid['word2vec_vector'].values)"
   ],
   "metadata": {
    "collapsed": false,
    "ExecuteTime": {
     "end_time": "2024-06-02T09:59:00.227059200Z",
     "start_time": "2024-06-02T09:58:55.100640800Z"
    }
   },
   "id": "6e73bc48eea16a7d"
  },
  {
   "cell_type": "markdown",
   "source": [
    "Mamy teraz dodaną kolumnę 'word2vec_vector', która zawiera wektory dla danego tekstu. Przekształciliśmy listę wartości z kolumny 'word2vec_vector' na macierz, która będzie wykorzystana jako feature do modelu."
   ],
   "metadata": {
    "collapsed": false
   },
   "id": "b8f569418f713fef"
  },
  {
   "cell_type": "code",
   "execution_count": 17,
   "outputs": [
    {
     "data": {
      "text/plain": "array([[ 0.00306091,  0.00465652,  0.00654831, ..., -0.04730461,\n         0.01187668,  0.01363922],\n       [ 0.02214459,  0.02605987, -0.01730832, ...,  0.0047211 ,\n         0.0380854 , -0.05894021],\n       [ 0.01710917,  0.04411251, -0.04693774, ...,  0.01571575,\n         0.05804446, -0.0584193 ],\n       ...,\n       [ 0.01507443,  0.04034149,  0.04722635, ..., -0.06183003,\n         0.02424897, -0.0072996 ],\n       [ 0.02335922, -0.03462372,  0.03324249, ..., -0.12919861,\n        -0.0253421 , -0.00698456],\n       [ 0.0210643 , -0.01491611, -0.02175508, ...,  0.04037195,\n         0.03057884, -0.11797617]], dtype=float32)"
     },
     "execution_count": 17,
     "metadata": {},
     "output_type": "execute_result"
    }
   ],
   "source": [
    "word2vec_features"
   ],
   "metadata": {
    "collapsed": false,
    "ExecuteTime": {
     "end_time": "2024-06-02T09:59:00.714105300Z",
     "start_time": "2024-06-02T09:59:00.228058300Z"
    }
   },
   "id": "7c40111960d36b98"
  },
  {
   "cell_type": "markdown",
   "source": [
    "#### GloVe"
   ],
   "metadata": {
    "collapsed": false
   },
   "id": "d45e494cd5a4bcf9"
  },
  {
   "cell_type": "code",
   "execution_count": 18,
   "outputs": [],
   "source": [
    "def load_glove_embeddings(glove_file_path):\n",
    "    embeddings_index = {}\n",
    "    with open(glove_file_path, encoding='utf-8') as f:\n",
    "        for line in f:\n",
    "            values = line.split()\n",
    "            word = values[0]\n",
    "            coefs = np.asarray(values[1:], dtype='float32')\n",
    "            embeddings_index[word] = coefs\n",
    "    return embeddings_index\n",
    "\n",
    "# niezbędny jest poniższy plik to działania\n",
    "glove_file = 'data\\\\glove.6B.300d.txt'\n",
    "glove_embeddings = load_glove_embeddings(glove_file)"
   ],
   "metadata": {
    "collapsed": false,
    "ExecuteTime": {
     "end_time": "2024-06-02T09:59:37.854680400Z",
     "start_time": "2024-06-02T09:59:00.721477700Z"
    }
   },
   "id": "d6ff8e8d1ae04a48"
  },
  {
   "cell_type": "code",
   "execution_count": 19,
   "outputs": [],
   "source": [
    "df_train['glove_vector'] = df_train['Lemmatized_text'].apply(lambda x: get_document_vector(x, glove_embeddings))\n",
    "glove_features = np.vstack(df_train['glove_vector'].values)\n",
    "\n",
    "# df_valid['glove_vector'] = df_valid['Lemmatized_text'].apply(lambda x: get_document_vector(x, glove_embeddings))\n",
    "# glove_features_valid = np.vstack(df_valid['glove_vector'].values)"
   ],
   "metadata": {
    "collapsed": false,
    "ExecuteTime": {
     "end_time": "2024-06-02T09:59:38.253897900Z",
     "start_time": "2024-06-02T09:59:37.875165100Z"
    }
   },
   "id": "bf459b370977c171"
  },
  {
   "cell_type": "code",
   "execution_count": 20,
   "outputs": [
    {
     "data": {
      "text/plain": "array([[ 0.08144929,  0.11788537,  0.06032618, ..., -0.03660058,\n        -0.19648752,  0.08486496],\n       [-0.02217419, -0.00393093, -0.02789216, ..., -0.16036083,\n        -0.03527465, -0.03834458],\n       [-0.02289726,  0.06763995, -0.06808821, ..., -0.14792182,\n        -0.03504488, -0.02487861],\n       ...,\n       [ 0.04027191,  0.30135107, -0.04405627, ..., -0.267132  ,\n        -0.09171909,  0.000694  ],\n       [-0.24750851,  0.05435208, -0.10944935, ..., -0.06874712,\n        -0.14671089, -0.17064331],\n       [-0.03290494,  0.09478553, -0.11004038, ..., -0.09020519,\n         0.00674124, -0.05310985]], dtype=float32)"
     },
     "execution_count": 20,
     "metadata": {},
     "output_type": "execute_result"
    }
   ],
   "source": [
    "glove_features"
   ],
   "metadata": {
    "collapsed": false,
    "ExecuteTime": {
     "end_time": "2024-06-02T09:59:38.287697700Z",
     "start_time": "2024-06-02T09:59:38.257205300Z"
    }
   },
   "id": "edb59b7bcbc39c0d"
  },
  {
   "cell_type": "markdown",
   "source": [
    "Analogicznie jak dla Word2Vec, mamy teraz dodaną kolumnę 'glove_vector', która zawiera wektory dla danego tekstu. Przekształciliśmy listę wartości z kolumny 'glove_vector' na macierz, która będzie wykorzystana jako feature do modelu."
   ],
   "metadata": {
    "collapsed": false
   },
   "id": "ab82fab7b83e3777"
  },
  {
   "cell_type": "markdown",
   "source": [
    "#### BERT"
   ],
   "metadata": {
    "collapsed": false
   },
   "id": "7f42fd5dcb5c46c7"
  },
  {
   "cell_type": "code",
   "execution_count": 21,
   "outputs": [],
   "source": [
    "# tokenizer = BertTokenizer.from_pretrained('bert-base-uncased')\n",
    "# model = BertModel.from_pretrained('bert-base-uncased')\n",
    "# def get_bert_embedding(text):\n",
    "#     inputs = tokenizer(text, return_tensors='pt', truncation=True, padding=True, max_length=512)\n",
    "#     print(\"after tokenization\")\n",
    "#     outputs = model(**inputs)\n",
    "#     return outputs.last_hidden_state.mean(dim=1).squeeze().detach().numpy()"
   ],
   "metadata": {
    "collapsed": false,
    "ExecuteTime": {
     "end_time": "2024-06-02T09:59:38.339508700Z",
     "start_time": "2024-06-02T09:59:38.274307Z"
    }
   },
   "id": "105efcf918178a80"
  },
  {
   "cell_type": "code",
   "execution_count": 22,
   "outputs": [],
   "source": [
    "# text = df_train['Lemmatized_text'].values.tolist()"
   ],
   "metadata": {
    "collapsed": false,
    "ExecuteTime": {
     "end_time": "2024-06-02T09:59:38.371737600Z",
     "start_time": "2024-06-02T09:59:38.292720100Z"
    }
   },
   "id": "d3b02ffd80698957"
  },
  {
   "cell_type": "code",
   "execution_count": 23,
   "outputs": [],
   "source": [
    "# inputs = tokenizer(text[:40], return_tensors='pt', truncation=True, padding=True, max_length=512)\n",
    "# \n",
    "# input_ids = inputs[\"input_ids\"]\n",
    "# token_type_ids = inputs[\"token_type_ids\"]\n",
    "# attention_mask = inputs[\"attention_mask\"]\n",
    "# BATCH_SIZE = 1\n",
    "# outputs = []\n",
    "# for batch in tqdm(range(input_ids.shape[0]//BATCH_SIZE)):\n",
    "#     outputs.append(model(\n",
    "#         input_ids=input_ids[batch* BATCH_SIZE: (batch+1) * BATCH_SIZE],\n",
    "#         token_type_ids=token_type_ids[batch* BATCH_SIZE: (batch+1) * BATCH_SIZE],\n",
    "#         attention_mask=attention_mask[batch* BATCH_SIZE: (batch+1) * BATCH_SIZE]\n",
    "#     ))"
   ],
   "metadata": {
    "collapsed": false,
    "ExecuteTime": {
     "end_time": "2024-06-02T09:59:38.453980900Z",
     "start_time": "2024-06-02T09:59:38.304085400Z"
    }
   },
   "id": "a551fd51e66ffb40"
  },
  {
   "cell_type": "markdown",
   "source": [
    "Niestety BERT wymaga zbyt dużych zasobów pamięciowych jak i obliczeniowych dlatego nie jesteśmy w stanie jej zastosować na naszym sprzęcie. W związku z tym nie będziemy wykorzystywać tej metody w dalszej części."
   ],
   "metadata": {
    "collapsed": false
   },
   "id": "618724f4ef951d53"
  },
  {
   "cell_type": "markdown",
   "source": [
    "### Bigramy i trigramy"
   ],
   "metadata": {
    "collapsed": false
   },
   "id": "3271ffe6c4517810"
  },
  {
   "cell_type": "code",
   "execution_count": 24,
   "outputs": [],
   "source": [
    "vectorizer = CountVectorizer(ngram_range=(2, 3), max_features=1000)\n",
    "ngram_matrix = vectorizer.fit_transform(df_train['Lemmatized_text'].to_list())\n",
    "ngram_df = pd.DataFrame(ngram_matrix.toarray(), columns=vectorizer.get_feature_names_out())\n",
    "\n",
    "# ngram_matrix_valid = vectorizer.fit_transform(df_valid['Lemmatized_text'].to_list())\n",
    "# ngram_df_valid = pd.DataFrame(ngram_matrix_valid.toarray(), columns=vectorizer.get_feature_names_out())"
   ],
   "metadata": {
    "collapsed": false,
    "ExecuteTime": {
     "end_time": "2024-06-02T09:59:40.385171200Z",
     "start_time": "2024-06-02T09:59:38.332373300Z"
    }
   },
   "id": "32ef190416fe9822"
  },
  {
   "cell_type": "code",
   "execution_count": 25,
   "outputs": [
    {
     "data": {
      "text/plain": "      ac milan  academy award  accord report  accord research  \\\n0            0              0              0                0   \n1            0              0              0                0   \n2            0              0              0                0   \n3            0              0              0                0   \n4            0              0              0                0   \n...        ...            ...            ...              ...   \n1060         0              0              0                0   \n1061         0              0              0                0   \n1062         1              0              0                0   \n1063         0              0              0                0   \n1064         0              0              0                0   \n\n      account deficit  accuse mr  aer lingus  affair spokesman  air deccan  \\\n0                   0          0           0                 0           0   \n1                   0          0           0                 0           0   \n2                   0          0           0                 0           0   \n3                   0          0           0                 0           0   \n4                   0          0           0                 0           0   \n...               ...        ...         ...               ...         ...   \n1060                0          0           0                 0           0   \n1061                0          0           0                 0           0   \n1062                0          0           0                 0           0   \n1063                0          0           0                 0           0   \n1064                0          0           0                 0           0   \n\n      alan milburn  ...  year also  year earlier  year first  year however  \\\n0                0  ...          0             0           0             0   \n1                0  ...          0             0           0             0   \n2                0  ...          0             0           1             0   \n3                0  ...          0             0           0             1   \n4                0  ...          0             0           0             0   \n...            ...  ...        ...           ...         ...           ...   \n1060             1  ...          0             0           0             0   \n1061             0  ...          0             0           0             0   \n1062             0  ...          0             0           0             0   \n1063             0  ...          0             0           0             0   \n1064             0  ...          0             0           0             0   \n\n      year make  year mr  year oscar  year say  young people  young player  \n0             0        0           0         0             0             0  \n1             0        0           0         0             0             0  \n2             0        0           0         0             0             0  \n3             0        0           0         0             0             0  \n4             0        0           0         0             0             0  \n...         ...      ...         ...       ...           ...           ...  \n1060          0        0           0         0             0             0  \n1061          0        0           0         0             0             0  \n1062          0        0           0         0             0             0  \n1063          0        0           0         0             0             0  \n1064          0        0           0         0             0             0  \n\n[1065 rows x 1000 columns]",
      "text/html": "<div>\n<style scoped>\n    .dataframe tbody tr th:only-of-type {\n        vertical-align: middle;\n    }\n\n    .dataframe tbody tr th {\n        vertical-align: top;\n    }\n\n    .dataframe thead th {\n        text-align: right;\n    }\n</style>\n<table border=\"1\" class=\"dataframe\">\n  <thead>\n    <tr style=\"text-align: right;\">\n      <th></th>\n      <th>ac milan</th>\n      <th>academy award</th>\n      <th>accord report</th>\n      <th>accord research</th>\n      <th>account deficit</th>\n      <th>accuse mr</th>\n      <th>aer lingus</th>\n      <th>affair spokesman</th>\n      <th>air deccan</th>\n      <th>alan milburn</th>\n      <th>...</th>\n      <th>year also</th>\n      <th>year earlier</th>\n      <th>year first</th>\n      <th>year however</th>\n      <th>year make</th>\n      <th>year mr</th>\n      <th>year oscar</th>\n      <th>year say</th>\n      <th>young people</th>\n      <th>young player</th>\n    </tr>\n  </thead>\n  <tbody>\n    <tr>\n      <th>0</th>\n      <td>0</td>\n      <td>0</td>\n      <td>0</td>\n      <td>0</td>\n      <td>0</td>\n      <td>0</td>\n      <td>0</td>\n      <td>0</td>\n      <td>0</td>\n      <td>0</td>\n      <td>...</td>\n      <td>0</td>\n      <td>0</td>\n      <td>0</td>\n      <td>0</td>\n      <td>0</td>\n      <td>0</td>\n      <td>0</td>\n      <td>0</td>\n      <td>0</td>\n      <td>0</td>\n    </tr>\n    <tr>\n      <th>1</th>\n      <td>0</td>\n      <td>0</td>\n      <td>0</td>\n      <td>0</td>\n      <td>0</td>\n      <td>0</td>\n      <td>0</td>\n      <td>0</td>\n      <td>0</td>\n      <td>0</td>\n      <td>...</td>\n      <td>0</td>\n      <td>0</td>\n      <td>0</td>\n      <td>0</td>\n      <td>0</td>\n      <td>0</td>\n      <td>0</td>\n      <td>0</td>\n      <td>0</td>\n      <td>0</td>\n    </tr>\n    <tr>\n      <th>2</th>\n      <td>0</td>\n      <td>0</td>\n      <td>0</td>\n      <td>0</td>\n      <td>0</td>\n      <td>0</td>\n      <td>0</td>\n      <td>0</td>\n      <td>0</td>\n      <td>0</td>\n      <td>...</td>\n      <td>0</td>\n      <td>0</td>\n      <td>1</td>\n      <td>0</td>\n      <td>0</td>\n      <td>0</td>\n      <td>0</td>\n      <td>0</td>\n      <td>0</td>\n      <td>0</td>\n    </tr>\n    <tr>\n      <th>3</th>\n      <td>0</td>\n      <td>0</td>\n      <td>0</td>\n      <td>0</td>\n      <td>0</td>\n      <td>0</td>\n      <td>0</td>\n      <td>0</td>\n      <td>0</td>\n      <td>0</td>\n      <td>...</td>\n      <td>0</td>\n      <td>0</td>\n      <td>0</td>\n      <td>1</td>\n      <td>0</td>\n      <td>0</td>\n      <td>0</td>\n      <td>0</td>\n      <td>0</td>\n      <td>0</td>\n    </tr>\n    <tr>\n      <th>4</th>\n      <td>0</td>\n      <td>0</td>\n      <td>0</td>\n      <td>0</td>\n      <td>0</td>\n      <td>0</td>\n      <td>0</td>\n      <td>0</td>\n      <td>0</td>\n      <td>0</td>\n      <td>...</td>\n      <td>0</td>\n      <td>0</td>\n      <td>0</td>\n      <td>0</td>\n      <td>0</td>\n      <td>0</td>\n      <td>0</td>\n      <td>0</td>\n      <td>0</td>\n      <td>0</td>\n    </tr>\n    <tr>\n      <th>...</th>\n      <td>...</td>\n      <td>...</td>\n      <td>...</td>\n      <td>...</td>\n      <td>...</td>\n      <td>...</td>\n      <td>...</td>\n      <td>...</td>\n      <td>...</td>\n      <td>...</td>\n      <td>...</td>\n      <td>...</td>\n      <td>...</td>\n      <td>...</td>\n      <td>...</td>\n      <td>...</td>\n      <td>...</td>\n      <td>...</td>\n      <td>...</td>\n      <td>...</td>\n      <td>...</td>\n    </tr>\n    <tr>\n      <th>1060</th>\n      <td>0</td>\n      <td>0</td>\n      <td>0</td>\n      <td>0</td>\n      <td>0</td>\n      <td>0</td>\n      <td>0</td>\n      <td>0</td>\n      <td>0</td>\n      <td>1</td>\n      <td>...</td>\n      <td>0</td>\n      <td>0</td>\n      <td>0</td>\n      <td>0</td>\n      <td>0</td>\n      <td>0</td>\n      <td>0</td>\n      <td>0</td>\n      <td>0</td>\n      <td>0</td>\n    </tr>\n    <tr>\n      <th>1061</th>\n      <td>0</td>\n      <td>0</td>\n      <td>0</td>\n      <td>0</td>\n      <td>0</td>\n      <td>0</td>\n      <td>0</td>\n      <td>0</td>\n      <td>0</td>\n      <td>0</td>\n      <td>...</td>\n      <td>0</td>\n      <td>0</td>\n      <td>0</td>\n      <td>0</td>\n      <td>0</td>\n      <td>0</td>\n      <td>0</td>\n      <td>0</td>\n      <td>0</td>\n      <td>0</td>\n    </tr>\n    <tr>\n      <th>1062</th>\n      <td>1</td>\n      <td>0</td>\n      <td>0</td>\n      <td>0</td>\n      <td>0</td>\n      <td>0</td>\n      <td>0</td>\n      <td>0</td>\n      <td>0</td>\n      <td>0</td>\n      <td>...</td>\n      <td>0</td>\n      <td>0</td>\n      <td>0</td>\n      <td>0</td>\n      <td>0</td>\n      <td>0</td>\n      <td>0</td>\n      <td>0</td>\n      <td>0</td>\n      <td>0</td>\n    </tr>\n    <tr>\n      <th>1063</th>\n      <td>0</td>\n      <td>0</td>\n      <td>0</td>\n      <td>0</td>\n      <td>0</td>\n      <td>0</td>\n      <td>0</td>\n      <td>0</td>\n      <td>0</td>\n      <td>0</td>\n      <td>...</td>\n      <td>0</td>\n      <td>0</td>\n      <td>0</td>\n      <td>0</td>\n      <td>0</td>\n      <td>0</td>\n      <td>0</td>\n      <td>0</td>\n      <td>0</td>\n      <td>0</td>\n    </tr>\n    <tr>\n      <th>1064</th>\n      <td>0</td>\n      <td>0</td>\n      <td>0</td>\n      <td>0</td>\n      <td>0</td>\n      <td>0</td>\n      <td>0</td>\n      <td>0</td>\n      <td>0</td>\n      <td>0</td>\n      <td>...</td>\n      <td>0</td>\n      <td>0</td>\n      <td>0</td>\n      <td>0</td>\n      <td>0</td>\n      <td>0</td>\n      <td>0</td>\n      <td>0</td>\n      <td>0</td>\n      <td>0</td>\n    </tr>\n  </tbody>\n</table>\n<p>1065 rows × 1000 columns</p>\n</div>"
     },
     "execution_count": 25,
     "metadata": {},
     "output_type": "execute_result"
    }
   ],
   "source": [
    "ngram_df"
   ],
   "metadata": {
    "collapsed": false,
    "ExecuteTime": {
     "end_time": "2024-06-02T09:59:40.522779700Z",
     "start_time": "2024-06-02T09:59:40.385171200Z"
    }
   },
   "id": "4bf89651c10c9d1a"
  },
  {
   "cell_type": "markdown",
   "source": [
    "W ten sposób otrzymaliśmy macierz z bigramami i trigramami. Została ona przekształcona na DataFrame, który będzie wykorzystany jako feature do modelu. Musimy pamiętać, że ta macierz jest bardzo rzadka, ponieważ większość wartości to 0."
   ],
   "metadata": {
    "collapsed": false
   },
   "id": "cf996dafed9c6bb5"
  },
  {
   "cell_type": "markdown",
   "source": [
    "## Normalizacja danych\n",
    "\n",
    "Niezwykle ważnym krokiem w budowie modelu jest normalizacja danych. W naszym przypadku znormalizujemy dane tf-idf, word2vec, glove oraz bigramy i trigramy. Normalizacja polega na przeskalowaniu danych w taki sposób, aby miały średnią 0 oraz wariancję 1."
   ],
   "metadata": {
    "collapsed": false
   },
   "id": "71717a66b7afce2b"
  },
  {
   "cell_type": "code",
   "execution_count": 26,
   "outputs": [],
   "source": [
    "scaler = StandardScaler(with_mean=False)"
   ],
   "metadata": {
    "collapsed": false,
    "ExecuteTime": {
     "end_time": "2024-06-02T09:59:40.558695Z",
     "start_time": "2024-06-02T09:59:40.484523Z"
    }
   },
   "id": "5694436810ec230e"
  },
  {
   "cell_type": "code",
   "execution_count": 27,
   "outputs": [],
   "source": [
    "scaler.fit(tfidf_features)\n",
    "tfidf_features = scaler.transform(tfidf_features).toarray()\n",
    "\n",
    "scaler.fit(sentiment.reshape(-1, 1))\n",
    "sentiment = scaler.transform(sentiment.reshape(-1, 1))\n",
    "\n",
    "scaler.fit(word2vec_features)\n",
    "word2vec_features = scaler.transform(word2vec_features)\n",
    "\n",
    "scaler.fit(glove_features)\n",
    "glove_features = scaler.transform(glove_features)\n",
    "\n",
    "scaler.fit(ngram_matrix)\n",
    "ngram_matrix = scaler.transform(ngram_matrix).toarray()\n",
    "\n",
    "#tfidf_features_valid = scaler.transform(tfidf_features_valid)\n",
    "#sentiment_valid = scaler.transform(sentiment_valid)\n",
    "#word2vec_features_valid = scaler.transform(word2vec_features_valid)\n",
    "#glove_features_valid = scaler.transform(glove_features_valid)\n",
    "#ngram_matrix_valid = scaler.transform(ngram_matrix_valid).toarray()"
   ],
   "metadata": {
    "collapsed": false,
    "ExecuteTime": {
     "end_time": "2024-06-02T09:59:40.780009Z",
     "start_time": "2024-06-02T09:59:40.508084800Z"
    }
   },
   "id": "bb76cacc6f09f00d"
  },
  {
   "cell_type": "code",
   "execution_count": 33,
   "outputs": [
    {
     "data": {
      "text/plain": "((1065, 5000), (1065, 1), (1065, 300), (1065, 300), (1065, 1000))"
     },
     "execution_count": 33,
     "metadata": {},
     "output_type": "execute_result"
    }
   ],
   "source": [
    "tfidf_features.shape, sentiment.shape, word2vec_features.shape, glove_features.shape, ngram_matrix.shape"
   ],
   "metadata": {
    "collapsed": false,
    "ExecuteTime": {
     "end_time": "2024-06-02T10:02:17.494023700Z",
     "start_time": "2024-06-02T10:02:17.454577600Z"
    }
   },
   "id": "3b52774b409d833f"
  },
  {
   "cell_type": "code",
   "execution_count": 34,
   "outputs": [
    {
     "data": {
      "text/plain": "(numpy.ndarray, numpy.ndarray, numpy.ndarray, numpy.ndarray, numpy.ndarray)"
     },
     "execution_count": 34,
     "metadata": {},
     "output_type": "execute_result"
    }
   ],
   "source": [
    "type(tfidf_features), type(sentiment), type(word2vec_features), type(glove_features), type(ngram_matrix)"
   ],
   "metadata": {
    "collapsed": false,
    "ExecuteTime": {
     "end_time": "2024-06-02T10:02:18.258134600Z",
     "start_time": "2024-06-02T10:02:18.205932700Z"
    }
   },
   "id": "7c9d5791cbc1106a"
  },
  {
   "cell_type": "markdown",
   "source": [
    "## Połączenie utworzonych feature"
   ],
   "metadata": {
    "collapsed": false
   },
   "id": "527e86d7c809320c"
  },
  {
   "cell_type": "code",
   "execution_count": 35,
   "outputs": [],
   "source": [
    "features = np.concatenate([tfidf_features, sentiment, word2vec_features, glove_features, ngram_matrix], axis=1)"
   ],
   "metadata": {
    "collapsed": false,
    "ExecuteTime": {
     "end_time": "2024-06-02T10:02:20.565911300Z",
     "start_time": "2024-06-02T10:02:20.514977900Z"
    }
   },
   "id": "b61b5d072b93f811"
  },
  {
   "cell_type": "code",
   "execution_count": 36,
   "outputs": [
    {
     "data": {
      "text/plain": "(1065, 6601)"
     },
     "execution_count": 36,
     "metadata": {},
     "output_type": "execute_result"
    }
   ],
   "source": [
    "features.shape"
   ],
   "metadata": {
    "collapsed": false,
    "ExecuteTime": {
     "end_time": "2024-06-02T10:02:21.380155400Z",
     "start_time": "2024-06-02T10:02:21.346692100Z"
    }
   },
   "id": "63fee3e27d198045"
  },
  {
   "cell_type": "markdown",
   "source": [
    "Połączyliśmy wszystkie feature w jedną macierz, która będzie wykorzystana do stworzenia modelu. Mamy teraz 6301 kolumn, co oznacza, że dla każdego tekstu mamy 6301 wartości. Zostały one przeskalowane i gotowe do dalszej analizy."
   ],
   "metadata": {
    "collapsed": false
   },
   "id": "13bb163c00c7211a"
  },
  {
   "cell_type": "markdown",
   "source": [
    "## PCA\n",
    "\n",
    "Aby zredukować wymiarowość danych, zastosujemy PCA. Pozwoli to na zmniejszenie ilości kolumn, co znacznie przyspieszy proces trenowania modelu. Zależy nam na wybraniu tych składowych, które wyjaśniają 80% wariancji."
   ],
   "metadata": {
    "collapsed": false
   },
   "id": "5d32586b5fca49d8"
  },
  {
   "cell_type": "code",
   "execution_count": 37,
   "outputs": [
    {
     "data": {
      "text/plain": "<Figure size 600x400 with 1 Axes>",
      "image/png": "[encoded data removed]"
     },
     "metadata": {},
     "output_type": "display_data"
    }
   ],
   "source": [
    "pca = PCA()\n",
    "pca.fit(features)\n",
    "\n",
    "variance = pca.explained_variance_ratio_\n",
    "cumulative_variance = np.cumsum(variance)\n",
    "num_components = np.argmax(cumulative_variance >= 0.80) + 1\n",
    "\n",
    "plt.figure(figsize=(6, 4))\n",
    "plt.step(range(len(cumulative_variance)), cumulative_variance, where='mid', label='Skumulowana wyjaśniona wariancja')\n",
    "plt.axhline(y=0.80, color='r', linestyle='--', label='80% wyjaśniona wariancja')\n",
    "plt.axvline(x=num_components-1, color='g', linestyle='--', label=f'{num_components} składowych')\n",
    "plt.xlabel('Liczba składowych')\n",
    "plt.ylabel('Wyjaśniona wariancja')\n",
    "plt.legend(loc='best')\n",
    "plt.title('Wykres wyjaśnionej wariancji')\n",
    "plt.show()"
   ],
   "metadata": {
    "collapsed": false,
    "ExecuteTime": {
     "end_time": "2024-06-02T10:02:27.405994600Z",
     "start_time": "2024-06-02T10:02:23.650783Z"
    }
   },
   "id": "7d8c1d9cb68cda3e"
  },
  {
   "cell_type": "code",
   "execution_count": 38,
   "outputs": [],
   "source": [
    "pca = PCA(n_components=num_components)\n",
    "pca = pca.fit(features)\n",
    "features_reduced = pca.transform(features)\n",
    "\n",
    "# features_reduced_valid = pca.transform(features_valid)"
   ],
   "metadata": {
    "collapsed": false,
    "ExecuteTime": {
     "end_time": "2024-06-02T10:02:31.353834400Z",
     "start_time": "2024-06-02T10:02:27.410739700Z"
    }
   },
   "id": "4dd2d8cec91dc3de"
  },
  {
   "cell_type": "code",
   "execution_count": 39,
   "outputs": [
    {
     "data": {
      "text/plain": "(1065, 598)"
     },
     "execution_count": 39,
     "metadata": {},
     "output_type": "execute_result"
    }
   ],
   "source": [
    "features_reduced.shape"
   ],
   "metadata": {
    "collapsed": false,
    "ExecuteTime": {
     "end_time": "2024-06-02T10:02:31.370839800Z",
     "start_time": "2024-06-02T10:02:31.357839700Z"
    }
   },
   "id": "864bd7f185c499cc"
  },
  {
   "cell_type": "markdown",
   "source": [
    "Po zastosowaniu PCA otrzymaliśmy 598 składowych, które wyjaśniają 80% wariancji. Zostały one przekształcone na macierz, która będzie wykorzystana jako feature do modelu."
   ],
   "metadata": {
    "collapsed": false
   },
   "id": "edabd95f725370f2"
  },
  {
   "cell_type": "markdown",
   "source": [
    "## Określenie liczby klastrów\n",
    "\n",
    "Teraz określimy optymalną liczbę klastrów korzystając z elbow method oraz silhouette score. Pierwsza metoda polega na wyznaczeniu punktu przegięcia na wykresie wariancji w zależności od liczby klastrów. Druga metoda polega na obliczeniu średniej odległości między klastrami."
   ],
   "metadata": {
    "collapsed": false
   },
   "id": "1c99393709e202f6"
  },
  {
   "cell_type": "code",
   "execution_count": 40,
   "outputs": [],
   "source": [
    "def optimal_number_of_clusters(matrix, max_k):\n",
    "    iters = range(2, max_k+1, 1)\n",
    "    sse = []\n",
    "    silhouette_scores = []\n",
    "    for k in iters:\n",
    "        model = KMeans(n_clusters=k, random_state=42)\n",
    "        model.fit(matrix)\n",
    "        sse.append(model.score(matrix) * -1)\n",
    "        score = silhouette_score(matrix, model.labels_)\n",
    "        silhouette_scores.append(score)\n",
    "\n",
    "    f, (ax1, ax2) = plt.subplots(1, 2, figsize=(12, 4))\n",
    "    ax1.plot(iters, sse, marker='o')\n",
    "    ax1.set_xlabel('Cluster Centers')\n",
    "    ax1.set_xticks(iters)\n",
    "    ax1.set_xticklabels(iters)\n",
    "    ax1.set_ylabel('SSE')\n",
    "    ax1.set_title('Elbow Method')\n",
    "\n",
    "    ax2.plot(iters, silhouette_scores, marker='o')\n",
    "    ax2.set_xlabel('Cluster Centers')\n",
    "    ax2.set_xticks(iters)\n",
    "    ax2.set_xticklabels(iters)\n",
    "    ax2.set_ylabel('Silhouette Score')\n",
    "    ax2.set_title('Silhouette Score')\n",
    "\n",
    "    plt.show()"
   ],
   "metadata": {
    "collapsed": false,
    "ExecuteTime": {
     "end_time": "2024-06-02T10:02:31.430854100Z",
     "start_time": "2024-06-02T10:02:31.377839300Z"
    }
   },
   "id": "821a064f2273b5ff"
  },
  {
   "cell_type": "code",
   "execution_count": 41,
   "outputs": [
    {
     "data": {
      "text/plain": "<Figure size 1200x400 with 2 Axes>",
      "image/png": "[encoded data removed]"
     },
     "metadata": {},
     "output_type": "display_data"
    }
   ],
   "source": [
    "warnings.filterwarnings('ignore')\n",
    "optimal_number_of_clusters(features_reduced, 20)"
   ],
   "metadata": {
    "collapsed": false,
    "ExecuteTime": {
     "end_time": "2024-06-02T10:02:33.567507700Z",
     "start_time": "2024-06-02T10:02:31.389844500Z"
    }
   },
   "id": "9b0a412859ee43eb"
  },
  {
   "cell_type": "markdown",
   "source": [
    "Jest to wstępna wersja analizy, która pozwala nam na określenie optymalnej liczby klastrów. Wykres wygląda dość nieoczekiwanie, jednak wydaje nam się że 6 klastrów będzie najlepszą opcją. Ewentualnie można rozważyć 8 klastrów. Dalej spróbujemy jeszcze raz przeprowadzić PCA aby dostać mniej składowych i zobaczyć czy wyniki się zmienią."
   ],
   "metadata": {
    "collapsed": false
   },
   "id": "fde0b051e62ca236"
  },
  {
   "cell_type": "code",
   "execution_count": 42,
   "outputs": [],
   "source": [
    "pca = PCA(n_components=400)\n",
    "pca = pca.fit(features)\n",
    "features_reduced2 = pca.transform(features)\n",
    "\n",
    "# features_reduced2_valid = pca.transform(features_valid)"
   ],
   "metadata": {
    "collapsed": false,
    "ExecuteTime": {
     "end_time": "2024-06-02T10:05:33.953691200Z",
     "start_time": "2024-06-02T10:05:30.586171500Z"
    }
   },
   "id": "e031713ef6aabe5a"
  },
  {
   "cell_type": "code",
   "execution_count": 43,
   "outputs": [
    {
     "data": {
      "text/plain": "<Figure size 1200x400 with 2 Axes>",
      "image/png": "[encoded data removed]"
     },
     "metadata": {},
     "output_type": "display_data"
    }
   ],
   "source": [
    "optimal_number_of_clusters(features_reduced2, 20)"
   ],
   "metadata": {
    "collapsed": false,
    "ExecuteTime": {
     "end_time": "2024-06-02T10:06:00.897211400Z",
     "start_time": "2024-06-02T10:05:58.715173900Z"
    }
   },
   "id": "a7738c4ec47e28d4"
  },
  {
   "cell_type": "markdown",
   "source": [
    "Po przeprowadzeniu PCA z mniejszą ilością składowych, wykres wygląda bardziej sensownie. Ostatecznie wybierzemy 5 klastrów jako optymalną liczbę."
   ],
   "metadata": {
    "collapsed": false
   },
   "id": "6b7005facbcd9628"
  },
  {
   "cell_type": "code",
   "execution_count": null,
   "outputs": [],
   "source": [],
   "metadata": {
    "collapsed": false
   },
   "id": "be34a550132940f2"
  }
 ],
 "metadata": {
  "kernelspec": {
   "display_name": "Python 3",
   "language": "python",
   "name": "python3"
  },
  "language_info": {
   "codemirror_mode": {
    "name": "ipython",
    "version": 2
   },
   "file_extension": ".py",
   "mimetype": "text/x-python",
   "name": "python",
   "nbconvert_exporter": "python",
   "pygments_lexer": "ipython2",
   "version": "2.7.6"
  }
 },
 "nbformat": 4,
 "nbformat_minor": 5
}
