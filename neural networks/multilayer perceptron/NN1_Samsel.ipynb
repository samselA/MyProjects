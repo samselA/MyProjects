{
 "cells": [
  {
   "cell_type": "code",
   "execution_count": 85,
   "id": "initial_id",
   "metadata": {
    "collapsed": true,
    "ExecuteTime": {
     "end_time": "2024-02-26T19:50:06.528383200Z",
     "start_time": "2024-02-26T19:50:06.478264100Z"
    }
   },
   "outputs": [],
   "source": [
    "import numpy as np\n",
    "import pandas as pd\n",
    "\n",
    "import matplotlib.pyplot as plt"
   ]
  },
  {
   "cell_type": "markdown",
   "source": [
    "## Sieć neuronowa"
   ],
   "metadata": {
    "collapsed": false
   },
   "id": "4b3da3801ec40106"
  },
  {
   "cell_type": "code",
   "execution_count": 86,
   "outputs": [],
   "source": [
    "class Layer:\n",
    "    \n",
    "    def __init__(self, num_neurons, num_arg, activate_fun):\n",
    "        self.weight_array = np.zeros((num_neurons, num_arg))\n",
    "        self.bias_array = np.zeros((num_neurons, 1))\n",
    "        self.activate_fun = activate_fun\n",
    "    \n",
    "    def forward(self, arguments_array):\n",
    "        # print(self.weight_array.shape, arguments_array.shape)\n",
    "        f = self.weight_array @ arguments_array + self.bias_array\n",
    "        g = self.activate_fun(f)\n",
    "        return g\n",
    "\n",
    "class Network:\n",
    "    \n",
    "    def __init__(self, size_layers, size_input, activate_fun_array):\n",
    "        self.size_layers = size_layers\n",
    "        self.size_input = size_input\n",
    "\n",
    "        num_arg = [size_input] + size_layers\n",
    "        self.layers = [Layer(size_layers[i], num_arg[i], activate_fun_array[i]) for i in range(len(size_layers))]\n",
    "    \n",
    "    def forward(self, arguments_array):\n",
    "        for layer in self.layers:\n",
    "            arguments_array = layer.forward(arguments_array)\n",
    "        return arguments_array   \n",
    "        \n",
    "def sigmoid(v):\n",
    "    v = v.astype(np.longdouble)\n",
    "    # return np.exp(v) / (np.exp(v) + 1)\n",
    "    return 1.0 / (1.0 + np.exp(-v))\n",
    "\n",
    "def linear(v):\n",
    "    v = v.astype(np.longdouble)\n",
    "    return v"
   ],
   "metadata": {
    "collapsed": false,
    "ExecuteTime": {
     "end_time": "2024-02-26T19:50:06.529398Z",
     "start_time": "2024-02-26T19:50:06.507648Z"
    }
   },
   "id": "21da7afe07f37c3e"
  },
  {
   "cell_type": "markdown",
   "source": [
    "### Dane"
   ],
   "metadata": {
    "collapsed": false
   },
   "id": "b88d6cbea2d57b16"
  },
  {
   "cell_type": "code",
   "execution_count": 87,
   "outputs": [],
   "source": [
    "ss_train = pd.read_csv('NN\\\\regression\\\\square-simple-training.csv', dtype=np.longdouble)\n",
    "sl_train = pd.read_csv('NN\\\\regression\\\\steps-large-training.csv', dtype=np.longdouble)"
   ],
   "metadata": {
    "collapsed": false,
    "ExecuteTime": {
     "end_time": "2024-02-26T19:50:06.555811100Z",
     "start_time": "2024-02-26T19:50:06.535297Z"
    }
   },
   "id": "31a1753053aa3965"
  },
  {
   "cell_type": "markdown",
   "source": [
    "## Square-simple"
   ],
   "metadata": {
    "collapsed": false
   },
   "id": "c5b335a787f669d7"
  },
  {
   "cell_type": "code",
   "execution_count": 88,
   "outputs": [],
   "source": [
    "N_ss_train = Network([44, 1], 1, [sigmoid, linear])\n",
    "w_val = 20\n",
    "\n",
    "N_ss_train.layers[0].weight_array = np.ones_like(N_ss_train.layers[0].weight_array) * w_val\n",
    "N_ss_train.layers[0].bias_array = np.flip(np.linspace(ss_train['x'].max(), ss_train['x'].min(), num=N_ss_train.layers[0].bias_array.shape[0], endpoint=False)).reshape(-1, 1) * (-1)\n",
    "\n",
    "N_ss_train.layers[1].bias_array = np.array([ss_train['y'][np.argmin(ss_train['x'])]]).reshape(1, 1)\n",
    "weight_array = [ss_train['y'][np.argmin(ss_train['x'])]]\n",
    "for i in range(0, N_ss_train.layers[1].weight_array.shape[1]):\n",
    "    temp_df = (ss_train['x'] - N_ss_train.layers[0].bias_array[i][0]*(-1)).abs()\n",
    "    weight_array.append((ss_train['y'][np.argmin(temp_df)] - sum(weight_array)) * 2)\n",
    "N_ss_train.layers[1].weight_array = np.array(weight_array[1:]).reshape(N_ss_train.layers[1].weight_array.shape)\n",
    "N_ss_train.layers[0].bias_array = N_ss_train.layers[0].bias_array * w_val"
   ],
   "metadata": {
    "collapsed": false,
    "ExecuteTime": {
     "end_time": "2024-02-26T19:50:06.620660600Z",
     "start_time": "2024-02-26T19:50:06.573181Z"
    }
   },
   "id": "1551ff5897674298"
  },
  {
   "cell_type": "code",
   "execution_count": 89,
   "outputs": [
    {
     "data": {
      "text/plain": "<matplotlib.collections.PathCollection at 0x1dae4cf2400>"
     },
     "execution_count": 89,
     "metadata": {},
     "output_type": "execute_result"
    },
    {
     "data": {
      "text/plain": "<Figure size 640x480 with 1 Axes>",
      "image/png": "[encoded data removed]"
     },
     "metadata": {},
     "output_type": "display_data"
    }
   ],
   "source": [
    "y = [N_ss_train.forward(ss_train['x'].values[i].reshape(1, 1))[0][0] for i in range(len(ss_train['x'].values))]\n",
    "plt.scatter(ss_train['x'], y)\n",
    "plt.scatter(ss_train['x'], ss_train['y'])"
   ],
   "metadata": {
    "collapsed": false,
    "ExecuteTime": {
     "end_time": "2024-02-26T19:50:06.781326200Z",
     "start_time": "2024-02-26T19:50:06.589935800Z"
    }
   },
   "id": "512c7ae5debeeb1b"
  },
  {
   "cell_type": "markdown",
   "source": [
    "### Square-simple MSE"
   ],
   "metadata": {
    "collapsed": false
   },
   "id": "4da086d1fcd3fb4b"
  },
  {
   "cell_type": "code",
   "execution_count": 90,
   "outputs": [
    {
     "data": {
      "text/plain": "6.371424217201681"
     },
     "execution_count": 90,
     "metadata": {},
     "output_type": "execute_result"
    }
   ],
   "source": [
    "np.mean((np.array(y)-ss_train['y']) ** 2)"
   ],
   "metadata": {
    "collapsed": false,
    "ExecuteTime": {
     "end_time": "2024-02-26T19:50:06.795648900Z",
     "start_time": "2024-02-26T19:50:06.771751200Z"
    }
   },
   "id": "97545aca50902d22"
  },
  {
   "cell_type": "markdown",
   "source": [
    "## Steps-large"
   ],
   "metadata": {
    "collapsed": false
   },
   "id": "8e9805d4bca97c8e"
  },
  {
   "cell_type": "code",
   "execution_count": 91,
   "outputs": [],
   "source": [
    "N_sl_train = Network([5, 1], 1, [sigmoid, linear])\n",
    "\n",
    "weight = 300\n",
    "x_points = np.round(sl_train.groupby(['y']).min()['x'].tolist() + [sl_train.groupby(['y']).max()['x'].tolist()[-1]], 1)\n",
    "y_points = sorted(sl_train['y'].unique().tolist())\n",
    "y_points = [y_points[0]] + y_points + [y_points[-1]]\n",
    "\n",
    "N_sl_train.layers[0].weight_array = np.array([weight for i in range(5)]).reshape((5, 1))\n",
    "N_sl_train.layers[0].bias_array = np.array([-weight * x_points[i] for i in range(5)]).reshape((5, 1))\n",
    "N_sl_train.layers[1].weight_array = [y_points[i] - y_points[i-1] for i in range(1, len(y_points))]\n",
    "N_sl_train.layers[1].bias_array = np.array(min(y_points)).reshape((1, 1))"
   ],
   "metadata": {
    "collapsed": false,
    "ExecuteTime": {
     "end_time": "2024-02-26T19:50:06.878593800Z",
     "start_time": "2024-02-26T19:50:06.793582400Z"
    }
   },
   "id": "487ae86b27f2b5d4"
  },
  {
   "cell_type": "code",
   "execution_count": 92,
   "outputs": [
    {
     "name": "stderr",
     "output_type": "stream",
     "text": [
      "C:\\Users\\olly\\AppData\\Local\\Temp\\ipykernel_23316\\1956908732.py:31: RuntimeWarning: overflow encountered in exp\n",
      "  return 1.0 / (1.0 + np.exp(-v))\n"
     ]
    },
    {
     "data": {
      "text/plain": "<matplotlib.collections.PathCollection at 0x1dae4dc3a30>"
     },
     "execution_count": 92,
     "metadata": {},
     "output_type": "execute_result"
    },
    {
     "data": {
      "text/plain": "<Figure size 640x480 with 1 Axes>",
      "image/png": "[encoded data removed]"
     },
     "metadata": {},
     "output_type": "display_data"
    }
   ],
   "source": [
    "y = [N_sl_train.forward(sl_train['x'].values[i].reshape(1, 1))[0][0] for i in range(len(sl_train['x'].values))]\n",
    "plt.scatter(sl_train['x'], y)\n",
    "plt.scatter(sl_train['x'], sl_train['y'])"
   ],
   "metadata": {
    "collapsed": false,
    "ExecuteTime": {
     "end_time": "2024-02-26T19:50:07.396865300Z",
     "start_time": "2024-02-26T19:50:06.806517200Z"
    }
   },
   "id": "9d884a41598a4674"
  },
  {
   "cell_type": "markdown",
   "source": [
    "### Steps-large MSE"
   ],
   "metadata": {
    "collapsed": false
   },
   "id": "d199eae2fb64a6ee"
  },
  {
   "cell_type": "code",
   "execution_count": 93,
   "outputs": [
    {
     "data": {
      "text/plain": "7.1021133736111315"
     },
     "execution_count": 93,
     "metadata": {},
     "output_type": "execute_result"
    }
   ],
   "source": [
    "np.mean((np.array(y)-sl_train['y']) ** 2)"
   ],
   "metadata": {
    "collapsed": false,
    "ExecuteTime": {
     "end_time": "2024-02-26T19:50:07.454907200Z",
     "start_time": "2024-02-26T19:50:07.395811500Z"
    }
   },
   "id": "cf293f875af5d7d5"
  }
 ],
 "metadata": {
  "kernelspec": {
   "display_name": "Python 3",
   "language": "python",
   "name": "python3"
  },
  "language_info": {
   "codemirror_mode": {
    "name": "ipython",
    "version": 2
   },
   "file_extension": ".py",
   "mimetype": "text/x-python",
   "name": "python",
   "nbconvert_exporter": "python",
   "pygments_lexer": "ipython2",
   "version": "2.7.6"
  }
 },
 "nbformat": 4,
 "nbformat_minor": 5
}
